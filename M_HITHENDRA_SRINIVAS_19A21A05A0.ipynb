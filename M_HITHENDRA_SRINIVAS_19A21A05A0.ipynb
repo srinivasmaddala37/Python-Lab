{
  "nbformat": 4,
  "nbformat_minor": 0,
  "metadata": {
    "colab": {
      "name": "M HITHENDRA SRINIVAS -19A21A05A0.ipynb",
      "provenance": [],
      "collapsed_sections": [],
      "include_colab_link": true
    },
    "kernelspec": {
      "display_name": "Python 3",
      "name": "python3"
    },
    "language_info": {
      "name": "python"
    }
  },
  "cells": [
    {
      "cell_type": "markdown",
      "metadata": {
        "id": "view-in-github",
        "colab_type": "text"
      },
      "source": [
        "<a href=\"https://colab.research.google.com/github/srinivasmaddala37/Python-Lab/blob/main/M_HITHENDRA_SRINIVAS_19A21A05A0.ipynb\" target=\"_parent\"><img src=\"https://colab.research.google.com/assets/colab-badge.svg\" alt=\"Open In Colab\"/></a>"
      ]
    },
    {
      "cell_type": "markdown",
      "metadata": {
        "id": "BwVp69m7nTcW"
      },
      "source": [
        "NAME:M HITHENDRA SRINIVAS\n",
        " \n",
        "REG NO:19A21A05A0\n",
        " \n",
        "SECTION: CSE-B"
      ]
    },
    {
      "cell_type": "markdown",
      "metadata": {
        "id": "LxP847wgnZAC"
      },
      "source": [
        "EXCERSICE-1\n",
        " \n",
        "**AIM**:\n",
        " \n",
        "A.WRITE PROGRAM IN INTERACTIVE,INTERPRETER,PYHON SCRIPT MODE."
      ]
    },
    {
      "cell_type": "markdown",
      "metadata": {
        "id": "IXO8rskh5qc7"
      },
      "source": [
        "DESCRIPTION:\n",
        " \n",
        "Python is a high-level, interpreted, interactive and object-oriented \n",
        "scripting language. \n",
        "Python is designed to be highly readable.  It uses English keywords frequently where as other languages use \n",
        "punctuation, and it has fewer syntactical constructions than other languages. \n",
        "\n",
        "* Python is Interpreted \n",
        "\n",
        "* Python is Interactive \n",
        "\n",
        "* Python is Object-Oriented\n",
        "\n",
        "* Python is a Beginner's Language\n",
        "\n",
        "**Python Programming Running Python Scripts**\n",
        "\n",
        "Running Python in THREE ways: \n",
        "\n",
        "a) Running Python Interpreter \n",
        "\n",
        "b) Running Python Scripts in IDLE \n",
        "\n",
        "c) Running python scripts in Command Prompt \n",
        "\n",
        "**a) Running Python Interpreter:**\n",
        "Python comes with an interactive interpreter. When you type python in your shell or command prompt, the python interpreter becomes active with a >>> prompt and waits for your commands\n",
        "\n",
        "b) **Running Python Scripts in IDLE:**\n",
        ". Go to File menu click on New File (CTRL+N) and write the \n",
        "code and save first.py\n",
        "\n",
        "c) **Running python scripts in Command Prompt: ** **bold text**\n",
        "· Before going to run we have to check the PATH in environment \n",
        "variables. \n",
        "\n"
      ]
    },
    {
      "cell_type": "markdown",
      "metadata": {
        "id": "d7uU9Zes84Uq"
      },
      "source": [
        "AIM:\n",
        "B.Write a program to purposefully raise Indentation Error and Correct it"
      ]
    },
    {
      "cell_type": "code",
      "metadata": {
        "colab": {
          "base_uri": "https://localhost:8080/"
        },
        "id": "XzR8vS4Jnc5b",
        "outputId": "645c6b57-d658-45fd-b848-719e75394545"
      },
      "source": [
        "a=15\n",
        "b=32\n",
        "a,b=b,a\n",
        "print(a,b)"
      ],
      "execution_count": null,
      "outputs": [
        {
          "output_type": "stream",
          "name": "stdout",
          "text": [
            "32 15\n"
          ]
        }
      ]
    },
    {
      "cell_type": "markdown",
      "metadata": {
        "id": "w3z7WEHw8s3X"
      },
      "source": [
        "DESCRIPTION:\n",
        "\n",
        "Indentation\n",
        "\n",
        "Python does not support braces to indicate blocks of code for class and function definitions or flow control.\n",
        "\n",
        "Blocks of code are denoted by line indentation.\n",
        "\n",
        "All the continuous lines indented with same number of spaces would form a block.\n",
        "\n",
        "Python strictly follow indentation rules to indicate the blocks."
      ]
    },
    {
      "cell_type": "code",
      "metadata": {
        "colab": {
          "base_uri": "https://localhost:8080/"
        },
        "id": "GSNe3ZKPnpTA",
        "outputId": "df902e5c-b56b-4273-e37f-70aaecc231b5"
      },
      "source": [
        " a=input(\"enter a vlaue:\")\n",
        "b=input(\"enter b value:\")\n",
        "c=a+b;\n",
        "print(\"sum is \",c,sep=\"\\t\")\n",
        "c=int(a)+int(b)\n",
        "print(\"sum of {} and {} is : {}\".format(a,b,c))\n",
        "print(\"sum of %s and %s is:%d\"%(a,b,c))\n",
        "x=105\n",
        "y=12\n",
        "z=x+y;\n",
        "print(\"sum is\",z,sep='\\t' )"
      ],
      "execution_count": null,
      "outputs": [
        {
          "name": "stdout",
          "output_type": "stream",
          "text": [
            "enter a vlaue:5\n",
            "enter b value:9\n",
            "sum is \t59\n",
            "sum of 5 and 9 is : 14\n",
            "sum of 5 and 9 is:14\n",
            "sum is\t117\n"
          ]
        }
      ]
    },
    {
      "cell_type": "code",
      "metadata": {
        "colab": {
          "base_uri": "https://localhost:8080/"
        },
        "id": "KQMM-22Znz9g",
        "outputId": "c0a1cf3e-87d8-40d5-c9d5-80966328e468"
      },
      "source": [
        "print(\"welcome to python\")\n",
        "a=41\n",
        "b=40\n",
        "print(\"the value of a:\",a)\n",
        "print(\"the value of b :\",b)\n",
        "if(a>b):\n",
        "       print(\"a is big\");\n",
        "       print(\"ifbblock ends\")\n",
        "else:\n",
        "            print(\"b is big\")\n",
        "            print(\"elseblock ends\")"
      ],
      "execution_count": null,
      "outputs": [
        {
          "name": "stdout",
          "output_type": "stream",
          "text": [
            "welcome to python\n",
            "the value of a: 41\n",
            "the value of b : 40\n",
            "a is big\n",
            "ifbblock ends\n"
          ]
        }
      ]
    },
    {
      "cell_type": "markdown",
      "metadata": {
        "id": "_XQmOZxun7rx"
      },
      "source": [
        "EXERCISE-2\n",
        " \n",
        "**AIM**:\n",
        "\n",
        "A.COMPUTE DISTANCE BETWEEN TWO POINTS\n",
        " "
      ]
    },
    {
      "cell_type": "markdown",
      "metadata": {
        "id": "GTdlNYOlGwvg"
      },
      "source": [
        "DESCRIPTION:\n",
        "\n",
        "Taking Input From the User: A function is defined as a block of organized, reusable code used to perform a single, related action. Python has many built-in functions; you can also create your own.\n",
        "\n",
        "Python has an input function which lets you ask a user for some text input. You call this function to tell the program to stop and wait for the user to key in the data.\n",
        "\n",
        "In Python 2, you have a built-in function raw_input(), whereas in Python 3, you have input(). The program will resume once the user presses the ENTER or RETURN key.\n",
        "\n",
        "Input Function\n",
        "\n",
        "input(prompt=None,/).\n",
        "\n",
        "Read a string from standard input. The trailing newline is stripped.\n",
        "\n",
        "The prompt string, if given, is printed to standard output without a trailing newline before reading input.\n",
        "\n",
        "If the user hits EOF (*nix: Ctrl-D, Windows: Ctrl Z+Return), raise EOFError."
      ]
    },
    {
      "cell_type": "code",
      "metadata": {
        "colab": {
          "base_uri": "https://localhost:8080/"
        },
        "id": "TpN0etBuoE-2",
        "outputId": "5770adef-80e0-4ac2-97de-88a7650b5704"
      },
      "source": [
        "x1=10\n",
        "x2=80\n",
        "y1=12\n",
        "y2=20\n",
        "z=(pow((x2-x1),2)+pow((y2-y1),2))**0.5\n",
        "print(z)"
      ],
      "execution_count": null,
      "outputs": [
        {
          "name": "stdout",
          "output_type": "stream",
          "text": [
            "70.45565981523414\n"
          ]
        }
      ]
    },
    {
      "cell_type": "code",
      "metadata": {
        "colab": {
          "base_uri": "https://localhost:8080/"
        },
        "id": "0Agqk20_oHql",
        "outputId": "e99e313b-3190-4417-ee64-8eab5f95e5c3"
      },
      "source": [
        "460\n",
        "import math\n",
        "x1=int(input(\"enter  x1 value:\"))\n",
        "x2=int(input(\"enter  x2 value:\"))\n",
        "y1=int(input(\"enter  y1 value:\"))\n",
        "y2=int(input(\"enter  y2 value:\"))\n",
        "z=math.sqrt((x2-x1)**2+(y2-y1)**2)\n",
        "print(\"the distance between two points is :\",z)\n",
        "print(\"the distance between two points is :\",z,sep='\\t')\n",
        "print(\"the distance between ({}, {})and ({},{}) is  :{}\".format(x1,y1,x2,y2,z))\n",
        " \n",
        "print(\"the distance between (%d, %d)and (%d,%d) is  :%f\"%(x1,y1,x2,y2,z))"
      ],
      "execution_count": null,
      "outputs": [
        {
          "name": "stdout",
          "output_type": "stream",
          "text": [
            "enter  x1 value:9\n",
            "enter  x2 value:24\n",
            "enter  y1 value:8\n",
            "enter  y2 value:63\n",
            "the distance between two points is : 57.0087712549569\n",
            "the distance between two points is :\t57.0087712549569\n",
            "the distance between (9, 8)and (24,63) is  :57.0087712549569\n",
            "the distance between (9, 8)and (24,63) is  :57.008771\n"
          ]
        }
      ]
    },
    {
      "cell_type": "markdown",
      "metadata": {
        "id": "lhFdAH1V9Cs2"
      },
      "source": [
        "\n",
        "**AIM**:\n",
        "\n",
        "\n",
        "B.TAKE TWO NUMBERS ON COMMAND LINE ARGUMENTS AND PRINT THE SUM.\n",
        "\n"
      ]
    },
    {
      "cell_type": "markdown",
      "metadata": {
        "id": "7l1EXoEb5xfq"
      },
      "source": [
        "DESCRIPTION:\n",
        "\n",
        "The arguments that are given after the name of the program in the command line shell of the operating system are known as Command Line Arguments. Python provides various ways of dealing with these types of arguments. The three most common are:\n",
        "\n",
        "Using sys.argv\n",
        "\n",
        "Using getopt module\n",
        "\n",
        "Using argparse module\n",
        "\n",
        "Using sys.argv\n",
        "\n",
        "The sys module provides functions and variables used to manipulate different parts of the Python runtime environment. This module provides access to some variables used or maintained by the interpreter and to functions that interact strongly with the interpreter.\n",
        "\n",
        "One such variable is sys.argv which is a simple list structure. It’s main purpose are:\n",
        "\n",
        "It is a list of command line arguments.\n",
        "\n",
        "len(sys.argv) provides the number of command line arguments.\n",
        "\n",
        "sys.argv[0] is the name of the current Python script."
      ]
    },
    {
      "cell_type": "code",
      "metadata": {
        "id": "gRRTD30roLtU"
      },
      "source": [
        "import sys\n",
        "a=sys.argv[1]\n",
        "b=sys.argv[2]\n",
        "sum=int(a)+int(b)\n",
        "print(\"sum of two number is:\",sum)"
      ],
      "execution_count": null,
      "outputs": []
    },
    {
      "cell_type": "markdown",
      "metadata": {
        "id": "m-QVUyB3oV0p"
      },
      "source": [
        "EXCERSCISE-3\n",
        " \n",
        "**Aim**:\n",
        "\n",
        "A) Write a Program for checking whether the given number is an even number or not.\n",
        " \n",
        "\n",
        " \n",
        "\n",
        " "
      ]
    },
    {
      "cell_type": "markdown",
      "metadata": {
        "id": "YQzSEEOY51QI"
      },
      "source": [
        "DESCRIPTION:\n",
        "\n",
        "If you divide a number by 2 and it gives a remainder of 0 then it is known as even number, otherwise an odd number."
      ]
    },
    {
      "cell_type": "code",
      "metadata": {
        "colab": {
          "base_uri": "https://localhost:8080/"
        },
        "id": "_00PrP1NocvC",
        "outputId": "0d50466a-577f-4bd2-9a8e-8e3eebafc605"
      },
      "source": [
        " n=int(input(\"enter a number:\"))\n",
        "if (n%2)==0:\n",
        "        print(\"given number is even\")\n",
        "else:\n",
        "      print(\"given number is odd\")"
      ],
      "execution_count": null,
      "outputs": [
        {
          "name": "stdout",
          "output_type": "stream",
          "text": [
            "enter a number:5\n",
            "given number is odd\n"
          ]
        }
      ]
    },
    {
      "cell_type": "markdown",
      "metadata": {
        "id": "mgf2QJvP9MhM"
      },
      "source": [
        "**Aim**:\n",
        "b) Using a for loop, write a program that prints out the decimal equivalents of 1/2, 1/3, 1/4, . . .1/10"
      ]
    },
    {
      "cell_type": "markdown",
      "metadata": {
        "id": "2AWn5f6E9SeE"
      },
      "source": [
        "DESCRIPTION\n",
        "\n",
        "For Loop: For loops can iterate over a sequence of numbers using the \"range\" and \"xrange\" functions. The difference between range and xrange is that the range function returns a new list with numbers of that specified range, whereas xrange returns an iterator, which is more efficient.\n",
        "\n",
        "The general format is\n",
        "\n",
        "for x in range(start,stop,step):\n",
        "\n",
        "statements\n",
        "\n"
      ]
    },
    {
      "cell_type": "code",
      "metadata": {
        "colab": {
          "base_uri": "https://localhost:8080/"
        },
        "id": "50zGRGEzoduH",
        "outputId": "35257824-d1b2-4546-db2f-096e1fd6c6ef"
      },
      "source": [
        " n=int(input(\"enter a number:\"))\n",
        "for i in range(2,n):\n",
        "    de=1/i;\n",
        "    print(\"1/\",i,\"=\",de)"
      ],
      "execution_count": null,
      "outputs": [
        {
          "name": "stdout",
          "output_type": "stream",
          "text": [
            "enter a number:10\n",
            "1/ 2 = 0.5\n",
            "1/ 3 = 0.3333333333333333\n",
            "1/ 4 = 0.25\n",
            "1/ 5 = 0.2\n",
            "1/ 6 = 0.16666666666666666\n",
            "1/ 7 = 0.14285714285714285\n",
            "1/ 8 = 0.125\n",
            "1/ 9 = 0.1111111111111111\n"
          ]
        }
      ]
    },
    {
      "cell_type": "markdown",
      "metadata": {
        "id": "JTV0ymmE9Zss"
      },
      "source": [
        "**Aim**:\n",
        "c) Write a program using a for loop that loops over a sequence. What is sequence?"
      ]
    },
    {
      "cell_type": "markdown",
      "metadata": {
        "id": "tLtRV18M555U"
      },
      "source": [
        "DESCRIPTION:\n",
        "\n",
        "A for loop in Python is a control flow statement that is used to repeatedly execute a group of statements as long as the condition is satisfied. Such a type of statement is also known as an iterative statement"
      ]
    },
    {
      "cell_type": "code",
      "metadata": {
        "colab": {
          "base_uri": "https://localhost:8080/"
        },
        "id": "YH9W6mrFogOs",
        "outputId": "2e9c3bd3-f1e3-4b39-aefa-2101f2af354d"
      },
      "source": [
        " #program using a for a loop that loops over a sequence\n",
        "print(\"loop sequence\")\n",
        "num=[48,29,2,78,3,95]\n",
        "for i in num:\n",
        "    print(i)\n",
        " \n",
        "#string sequence\n",
        "print(\"string sequence\")\n",
        "days=[\"sun\",\"mon\",\"tue\",\"wed\",\"thur\",\"fri\",\"sat\"]\n",
        "for d in days:\n",
        "    print(d)\n",
        "    \n",
        "#both sequence\n",
        "print(\"sequence\")\n",
        "arr=[563,\"rst\",7.4,'h',-8,\"xy\",True]\n",
        "for x in arr:\n",
        "      print(x)"
      ],
      "execution_count": null,
      "outputs": [
        {
          "name": "stdout",
          "output_type": "stream",
          "text": [
            "loop sequence\n",
            "48\n",
            "29\n",
            "2\n",
            "78\n",
            "3\n",
            "95\n",
            "string sequence\n",
            "sun\n",
            "mon\n",
            "tue\n",
            "wed\n",
            "thur\n",
            "fri\n",
            "sat\n",
            "sequence\n",
            "563\n",
            "rst\n",
            "7.4\n",
            "h\n",
            "-8\n",
            "xy\n",
            "True\n"
          ]
        }
      ]
    },
    {
      "cell_type": "markdown",
      "metadata": {
        "id": "Be_W2nqH9pWD"
      },
      "source": [
        "**Aim**:\n",
        "d) Write a program using a while loop that asks the user for a number, and prints a countdownfrom that number to zero"
      ]
    },
    {
      "cell_type": "markdown",
      "metadata": {
        "id": "467ufiT85-Mi"
      },
      "source": [
        "**DESCRIPTION:**\n",
        "\n",
        " While Loop is used to execute a block of statements repeatedly until a given condition is satisfied. And when the condition becomes false, the line immediately after the loop in the program is executed. While loop falls under the category of indefinite iteration\n",
        "\n",
        " The syntax for a while loop is: \n",
        " \n",
        " while [ condition]\n"
      ]
    },
    {
      "cell_type": "code",
      "metadata": {
        "colab": {
          "base_uri": "https://localhost:8080/"
        },
        "id": "qkCWCHAwokjU",
        "outputId": "d73cf62b-7575-4850-bad1-2147f5d38744"
      },
      "source": [
        " #countdown seq\n",
        "n=int(input(\"enter the number:\"))\n",
        "while n>0:\n",
        "      print(n)\n",
        "      n=n-1"
      ],
      "execution_count": null,
      "outputs": [
        {
          "name": "stdout",
          "output_type": "stream",
          "text": [
            "enter the number:9\n",
            "9\n",
            "8\n",
            "7\n",
            "6\n",
            "5\n",
            "4\n",
            "3\n",
            "2\n",
            "1\n"
          ]
        }
      ]
    },
    {
      "cell_type": "markdown",
      "metadata": {
        "id": "8x8qTFEDorPZ"
      },
      "source": [
        "EXCERCISE-4\n",
        " \n",
        "**AIM**:\n",
        " \n",
        "a) Find the sum of all the primes below two million. Each new term in the Fibonacci sequence is generated by adding the previous two terms. Bystarting with 1 and 2, the first 10 terms will be: 1, 2, 3, 5, 8, 13, 21, 34, 55, 89, ...\n"
      ]
    },
    {
      "cell_type": "markdown",
      "metadata": {
        "id": "ShuvRdbR6CFn"
      },
      "source": [
        "DESCRIPTION:\n",
        "DESCRIPTION:\n",
        "\n",
        "A Fibonacci sequence is the integer sequence of 0, 1, 1, 2, 3, 5, 8....\n",
        "\n",
        "The first two terms are 0 and 1. All other terms are obtained by adding the preceding two terms. This means to say the nth term is the sum of (n-1)th and (n-2)th term\n",
        "\n",
        "Here, we store the number of terms in nterms. We initialize the first term to 0 and the second term to 1.\n",
        "\n",
        "If the number of terms is more than 2, we use a while loop to find the next term in the sequence by adding the preceding two terms. We then interchange the variables (update it) and continue on with the process.\n",
        "\n",
        "\n"
      ]
    },
    {
      "cell_type": "code",
      "metadata": {
        "colab": {
          "base_uri": "https://localhost:8080/"
        },
        "id": "1PicXFVZotKZ",
        "outputId": "213c95d9-69c6-41bd-e802-154da7311465"
      },
      "source": [
        "n=int(input(\"enter a num:\"))\n",
        "a=0\n",
        "b=1\n",
        "c=a+b\n",
        "st=\"\"\n",
        "sum=0\n",
        "con=0\n",
        "while con<=n:\n",
        "    st+=\"\"+str(c)\n",
        "    sum+=c        \n",
        "    a=b\n",
        "    b=c \n",
        "    c=a+b\n",
        "    con+=1\n",
        "print(st)\n",
        "print(\"sum of fibonacii series:\",sum)"
      ],
      "execution_count": null,
      "outputs": [
        {
          "name": "stdout",
          "output_type": "stream",
          "text": [
            "enter a num:8\n",
            "1235813213455\n",
            "sum of fibonacii series: 142\n"
          ]
        }
      ]
    },
    {
      "cell_type": "markdown",
      "metadata": {
        "id": "6IwnM21R906U"
      },
      "source": [
        "**AIM**:\n",
        " \n",
        "b) By considering the terms in the Fibonacci sequence whose values do not exceed four million,find the sum of the even-valued terms."
      ]
    },
    {
      "cell_type": "markdown",
      "metadata": {
        "id": "dh8Dq7G5-CLO"
      },
      "source": [
        "DESCRIPTION:\n",
        "\n",
        "A Fibonacci sequence is the integer sequence of 0, 1, 1, 2, 3, 5, 8....\n",
        "\n",
        "The first two terms are 0 and 1. All other terms are obtained by adding the preceding two terms. This means to say the nth term is the sum of (n-1)th and (n-2)th term\n",
        "\n",
        "Here, we store the number of terms in nterms. We initialize the first term to 0 and the second term to 1.\n",
        "\n",
        "If the number of terms is more than 2, we use a while loop to find the next term in the sequence by adding the preceding two terms. We then interchange the variables (update it) and continue on with the process."
      ]
    },
    {
      "cell_type": "code",
      "metadata": {
        "colab": {
          "base_uri": "https://localhost:8080/"
        },
        "id": "fTaCxicQotmF",
        "outputId": "ebeb0a68-e7c7-4a29-e253-85fe02f000bf"
      },
      "source": [
        "  n=int(input(\"enter a number:\"))\n",
        "c=0\n",
        "\n",
        "\n",
        "st=\"\"\n",
        "sum=0\n",
        "\n",
        "for i in range(2,n):\n",
        " state=True\n",
        "for j in range(2,i):\n",
        " if(i%j==0):\n",
        "        state=False\n",
        "        break;\n",
        "if state==True:\n",
        "            st+=\"\"+str(i)\n",
        "            c+=1\n",
        "            sum+=i\n",
        "\n",
        "print(\"prime numbers\")\n",
        "print(st)\n",
        "\n",
        "print(\"total count of the prime numbers:\",c)\n",
        "print(\"sum of all prime nums:\",sum)"
      ],
      "execution_count": null,
      "outputs": [
        {
          "name": "stdout",
          "output_type": "stream",
          "text": [
            "enter a number:6\n",
            "prime numbers\n",
            "5\n",
            "total count of the prime numbers: 1\n",
            "sum of all prime nums: 5\n"
          ]
        }
      ]
    },
    {
      "cell_type": "markdown",
      "metadata": {
        "id": "JE5Uj53Co1vO"
      },
      "source": [
        "EXCERCISE-5\n",
        " \n",
        "DS\n",
        "\n",
        "**AIM**:\n",
        "\n",
        " \n",
        "a) Write a program to count the numbers of characters in the string and store them in adictionary data structure\n"
      ]
    },
    {
      "cell_type": "markdown",
      "metadata": {
        "id": "FeFp0Tkw-QxR"
      },
      "source": [
        "DESCRIPTION:\n",
        "\n",
        "Given a string, the task is to find the frequencies of all the characters in that string and return a dictionary with key as the character and its value as its frequency in the given string.\n",
        "\n",
        "Method #1 : Naive method\n",
        "\n",
        "Simply iterate through the string and form a key in dictionary of newly occurred element or if element is already occurred, increase its value by 1.\n",
        "\n",
        "Method #2 : Using collections.Counter()\n",
        "\n",
        "The most suggested method that could be used to find all occurrences is this method, this actually gets all element frequency and could also be used to print single element frequency if required."
      ]
    },
    {
      "cell_type": "code",
      "metadata": {
        "colab": {
          "base_uri": "https://localhost:8080/"
        },
        "id": "LS-AYwKCqtfN",
        "outputId": "c6aac98d-8ffe-435c-eed9-dbdb22b10051"
      },
      "source": [
        " name=input(\"enter a name:\")\n",
        "dic={}\n",
        "for ch in name:\n",
        "    keys=dic.keys()\n",
        " \n",
        "    if(ch in keys):\n",
        "        dic[ch]=dic[ch]+1\n",
        "    else:\n",
        "        dic[ch]=1\n",
        " \n",
        "print(\"dictinarry is:\",dic)"
      ],
      "execution_count": null,
      "outputs": [
        {
          "name": "stdout",
          "output_type": "stream",
          "text": [
            "enter a name:8\n",
            "dictinarry is: {'8': 1}\n"
          ]
        }
      ]
    },
    {
      "cell_type": "markdown",
      "metadata": {
        "id": "9mrMQl-T-J2W"
      },
      "source": [
        "**AIM**:\n",
        "b) Write a program to use split and join methods in the string and trace a birthday with adictionary data structure."
      ]
    },
    {
      "cell_type": "markdown",
      "metadata": {
        "id": "kri5_1Nw6KYE"
      },
      "source": [
        "DESCRIPTION:\n",
        "\n",
        "Python program to Split a string based on a delimiter and join the string using another delimiter. Split a string can be quite useful sometimes, especially when you need only certain parts of strings. ... In Python, we can use the function split() to split a string and join() to join a string."
      ]
    },
    {
      "cell_type": "code",
      "metadata": {
        "colab": {
          "base_uri": "https://localhost:8080/"
        },
        "id": "sBcQBfbAo5zp",
        "outputId": "a4cb15c7-d26a-4e86-8c47-ec49106c3c09"
      },
      "source": [
        "dob={\"HITHENDRA\":\"06-11-2001\",\"SRINIVAS\":\"06-11-2000\"}\n",
        "name=input(\"enter which person dob u want:\")\n",
        "l=name.split()\n",
        "birth=\"\"\n",
        "for i in l:\n",
        "    if i in dob.keys():\n",
        "        pers=i\n",
        " \n",
        "print(\"\".join([pers,\"birthdayis:\",dob[pers]]))"
      ],
      "execution_count": null,
      "outputs": [
        {
          "name": "stdout",
          "output_type": "stream",
          "text": [
            "enter which person dob u want:HITHENDRA\n",
            "HITHENDRAbirthdayis:06-11-2001\n"
          ]
        }
      ]
    },
    {
      "cell_type": "markdown",
      "metadata": {
        "id": "XDjnsxyDo9EB"
      },
      "source": [
        "EXERCISE-6\n",
        "DS - Continued\n",
        " \n",
        "**AIM**:\n",
        "\n",
        "a) Write a program combinelists that combines these lists into a dictionary.\n",
        " \n"
      ]
    },
    {
      "cell_type": "markdown",
      "metadata": {
        "id": "ogGN_rdy6QEZ"
      },
      "source": [
        "DESCRIPTION:\n",
        "\n",
        "Dictionary in Python is an unordered collection of data values, used to store data values like a map, which, unlike other Data Types that hold only a single value as an element, Dictionary holds key:value pair."
      ]
    },
    {
      "cell_type": "code",
      "metadata": {
        "colab": {
          "base_uri": "https://localhost:8080/"
        },
        "id": "3x5vnDtLpBzU",
        "outputId": "49e29433-8de0-4af0-b2d8-2f481918732f"
      },
      "source": [
        "sub=[\"daa\",\"os\",\"dbms\",\"p&s\",\"ppl\",\"se\"]\n",
        "marks=[94,96,73,65,97,45]\n",
        "print(sub)\n",
        "print(marks)\n",
        "dic=dict(zip(sub,marks))\n",
        "print(dic)"
      ],
      "execution_count": null,
      "outputs": [
        {
          "name": "stdout",
          "output_type": "stream",
          "text": [
            "['daa', 'os', 'dbms', 'p&s', 'ppl', 'se']\n",
            "[94, 96, 73, 65, 97, 45]\n",
            "{'daa': 94, 'os': 96, 'dbms': 73, 'p&s': 65, 'ppl': 97, 'se': 45}\n"
          ]
        }
      ]
    },
    {
      "cell_type": "markdown",
      "metadata": {
        "id": "nY88kcio-clh"
      },
      "source": [
        "**AIM**:\n",
        "b) Write a program to count frequency of characters in a given file. Can you use character frequency to tell whether the given file is a Python program file, C program file or a text file?"
      ]
    },
    {
      "cell_type": "markdown",
      "metadata": {
        "id": "KmRgUMWT6WHQ"
      },
      "source": [
        "DESCRIPTION:\n",
        "\n",
        "Novice approach – Use A dictionary for the frequency of chars. It is the simplest way to count the character frequency in a Python string. You can take a dictionary, use its keys to keep the char, and the corresponding values for the no. of occurrences"
      ]
    },
    {
      "cell_type": "code",
      "metadata": {
        "colab": {
          "base_uri": "https://localhost:8080/",
          "height": 246
        },
        "id": "oOgUl9agpCBr",
        "outputId": "e2f5c384-209e-4abc-db7d-c48aa7edf123"
      },
      "source": [
        " \n",
        "filetypes=['.py','.c','.txt']\n",
        "fn=input(\"enter a fikle name:\")\n",
        "f=open(fn,\"r\")\n",
        "count=dict()\n",
        "for  ft in filetypes:\n",
        "     if(ft in  fn):\n",
        "           if(ft==\".py\"):\n",
        "             print(\"python file\")\n",
        "           elif(ft==\".c\"):\n",
        "             print(\"cfile\")\n",
        "           elif(ft==\".txt\"):\n",
        "             print(\"text file\")\n",
        " \n",
        " \n",
        "for line in f:\n",
        "     for ch in line:\n",
        "          if ch in count:\n",
        "               count[ch]=count[ch]+1\n",
        " \n",
        "          else:\n",
        "              count[ch]=1\n",
        " \n",
        " \n",
        "print(count)\n",
        "f.close()"
      ],
      "execution_count": null,
      "outputs": [
        {
          "name": "stdout",
          "output_type": "stream",
          "text": [
            "enter a fikle name:c\n"
          ]
        },
        {
          "ename": "FileNotFoundError",
          "evalue": "ignored",
          "output_type": "error",
          "traceback": [
            "\u001b[0;31m---------------------------------------------------------------------------\u001b[0m",
            "\u001b[0;31mFileNotFoundError\u001b[0m                         Traceback (most recent call last)",
            "\u001b[0;32m<ipython-input-19-1e763e473c73>\u001b[0m in \u001b[0;36m<module>\u001b[0;34m()\u001b[0m\n\u001b[1;32m      2\u001b[0m \u001b[0mfiletypes\u001b[0m\u001b[0;34m=\u001b[0m\u001b[0;34m[\u001b[0m\u001b[0;34m'.py'\u001b[0m\u001b[0;34m,\u001b[0m\u001b[0;34m'.c'\u001b[0m\u001b[0;34m,\u001b[0m\u001b[0;34m'.txt'\u001b[0m\u001b[0;34m]\u001b[0m\u001b[0;34m\u001b[0m\u001b[0;34m\u001b[0m\u001b[0m\n\u001b[1;32m      3\u001b[0m \u001b[0mfn\u001b[0m\u001b[0;34m=\u001b[0m\u001b[0minput\u001b[0m\u001b[0;34m(\u001b[0m\u001b[0;34m\"enter a fikle name:\"\u001b[0m\u001b[0;34m)\u001b[0m\u001b[0;34m\u001b[0m\u001b[0;34m\u001b[0m\u001b[0m\n\u001b[0;32m----> 4\u001b[0;31m \u001b[0mf\u001b[0m\u001b[0;34m=\u001b[0m\u001b[0mopen\u001b[0m\u001b[0;34m(\u001b[0m\u001b[0mfn\u001b[0m\u001b[0;34m,\u001b[0m\u001b[0;34m\"r\"\u001b[0m\u001b[0;34m)\u001b[0m\u001b[0;34m\u001b[0m\u001b[0;34m\u001b[0m\u001b[0m\n\u001b[0m\u001b[1;32m      5\u001b[0m \u001b[0mcount\u001b[0m\u001b[0;34m=\u001b[0m\u001b[0mdict\u001b[0m\u001b[0;34m(\u001b[0m\u001b[0;34m)\u001b[0m\u001b[0;34m\u001b[0m\u001b[0;34m\u001b[0m\u001b[0m\n\u001b[1;32m      6\u001b[0m \u001b[0;32mfor\u001b[0m  \u001b[0mft\u001b[0m \u001b[0;32min\u001b[0m \u001b[0mfiletypes\u001b[0m\u001b[0;34m:\u001b[0m\u001b[0;34m\u001b[0m\u001b[0;34m\u001b[0m\u001b[0m\n",
            "\u001b[0;31mFileNotFoundError\u001b[0m: [Errno 2] No such file or directory: 'c'"
          ]
        }
      ]
    },
    {
      "cell_type": "markdown",
      "metadata": {
        "id": "vHJcyYMopHdx"
      },
      "source": [
        "EXERCISE-7 files\n",
        " \n",
        "**AIM**:\n",
        "\n",
        "a) Write a program to print each line of a file in reverse order.\n"
      ]
    },
    {
      "cell_type": "markdown",
      "metadata": {
        "id": "OPUNqAgV-u2P"
      },
      "source": [
        "DESCRIPTION:\n",
        "\n",
        "The file handling plays an important role when the data needs to be stored permanently into the file. A file is a named location on disk to store related information. We can access the stored information (non-volatile) after the program termination. In Python, files are treated in two modes as text or binary. The file may be in the text or binary format, and each line of a file is ended with the special character. Hence, a file operation can be done in the following order.\n",
        "\n",
        " Open a file\n",
        "\n",
        " Read or write - Performing operation\n",
        "\n",
        " Close the file"
      ]
    },
    {
      "cell_type": "code",
      "metadata": {
        "id": "01mxwGKBpK-D"
      },
      "source": [
        "  obj=open(\"MH.txt\",\"r\")\n",
        "if obj:\n",
        "    st=obj.read()\n",
        "    print(\"file content is:\")\n",
        "obj.close()\n",
        "print()\n",
        "lines=st.split('\\n')\n",
        "for ln in lines:\n",
        "    i=len(ln)-1\n",
        "    while(i>=0):\n",
        "      print(ln[i],end='')\n",
        "      i=i-1\n",
        "    print()"
      ],
      "execution_count": null,
      "outputs": []
    },
    {
      "cell_type": "markdown",
      "metadata": {
        "id": "uDxreiRR-2dn"
      },
      "source": [
        " **AIM**:\n",
        "b) Write a program to compute the number of characters, words and lines in a file."
      ]
    },
    {
      "cell_type": "markdown",
      "metadata": {
        "id": "ncI-h8e3-5No"
      },
      "source": [
        "DESCRIPTION:\n",
        "\n",
        "Given a text file fname, the task is to count the total number of characters, words, spaces and lines in the file.\n",
        "\n",
        "As we know, Python provides multiple in-built features and modules for handling files. Let’s discuss different ways to calculate total number of characters, words, spaces and lines in a file using Python.\n",
        "\n",
        "Method #1: Naive approach\n",
        "\n",
        "In this approach, the idea is to solve the task by developing our own logic. Without using any built-in function of Python, the total number of characters, words, spaces and lines of the file will be calculated.\n",
        "\n",
        "Method #2: Using some built-in functions and OS module functions\n",
        "\n",
        "In this approach, the idea is to use the os.linesep() method of OS module to separate the lines on the current platform. When the interpreter’s scanner encounter os.linesep it replaces it with \\n character. After that strip() and split() functions will be used to carry out the task."
      ]
    },
    {
      "cell_type": "code",
      "metadata": {
        "id": "A1OEV1zQpLBX"
      },
      "source": [
        " obj=open(\"sam.txt\",\"r\")\n",
        "if obj:\n",
        "    st=obj.read()\n",
        "    print(\"file content is:\")\n",
        "obj.close()\n",
        "print()\n",
        "nc=nw=nl=0\n",
        "for ch in st:\n",
        "    if(ch):\n",
        "        nc=nc+1\n",
        "    if(ch==''):\n",
        "        nw=nw+1\n",
        "    if(ch=='\\n'):\n",
        "        nl=nl+1\n",
        " \n",
        "print(\"number of characters in a file:\",nc)\n",
        "print(\"number of words in file is:\",nw)\n",
        "print(\"number of lines ins file:\",nl)"
      ],
      "execution_count": null,
      "outputs": []
    },
    {
      "cell_type": "markdown",
      "metadata": {
        "id": "QxFKUDL-pR-b"
      },
      "source": [
        "EXCERCISE-8\n",
        " \n",
        "8 Functions'\n",
        "\n",
        "**AIM**:\n",
        "\n",
        " \n",
        "a) Write a function ball collide that takes two balls as parameters and computes if they arecolliding. Your function should return a Boolean representing whether or not the balls arecolliding. Hint: Represent a ball on a plane as a tuple of (x, y, r), r being the radius If (distance between two balls centers) <= (sum of their radii) then (they are colliding)\n"
      ]
    },
    {
      "cell_type": "markdown",
      "metadata": {
        "id": "B563SV5t_6j9"
      },
      "source": [
        "DESCRIPTION\n",
        "\n",
        "Functions A function in python is a block of code that is defined for doing frequent operations in a particular task. The general format is\n",
        "\n",
        "def Functionname(arguments):\n",
        "\n",
        "  Statements\n",
        "Calling a Function:\n",
        "\n",
        "A function can be called by its name followed by arguments within parenthesis.\n",
        "\n",
        "function()"
      ]
    },
    {
      "cell_type": "code",
      "metadata": {
        "colab": {
          "base_uri": "https://localhost:8080/"
        },
        "id": "6wvhNWKWpSN2",
        "outputId": "0f8f2bd6-d869-4c00-f4dc-0ed88e408946"
      },
      "source": [
        " import math\n",
        "def ballcollide(b1tup,b2tup):\n",
        "    x1=b1tup[0]\n",
        "    y1=b1tup[1]\n",
        "    x2=b2tup[0]\n",
        "    y2=b2tup[1]\n",
        "    r1=b1tup[2]\n",
        "    r2=b2tup[2]\n",
        " \n",
        " \n",
        "    d=math.sqrt((x2-x1)**2+(y2-y1)**2)\n",
        "    if(d<=r1+r2):\n",
        "      return True\n",
        "    else:\n",
        "        return False\n",
        " \n",
        " \n",
        "ball1=(1,2,3)\n",
        "ball2=(3,2,1)\n",
        "c=ballcollide(ball1,ball2)\n",
        "if(c):\n",
        "    print(\"balls are collided\")\n",
        "else:\n",
        "    print(\"ball are not collided\")"
      ],
      "execution_count": null,
      "outputs": [
        {
          "name": "stdout",
          "output_type": "stream",
          "text": [
            "balls are collided\n"
          ]
        }
      ]
    },
    {
      "cell_type": "markdown",
      "metadata": {
        "id": "G1gSm4S2_y7x"
      },
      "source": [
        " **AIM**:\n",
        "b) Find mean, median, mode for the given set of numbers in a list."
      ]
    },
    {
      "cell_type": "markdown",
      "metadata": {
        "id": "VDMu6yF36dfg"
      },
      "source": [
        "DESCRIPTION:\n",
        "\n",
        "Mean - The average value.\n",
        "\n",
        "Median - The mid point value.\n",
        "\n",
        "Mode - The most common value."
      ]
    },
    {
      "cell_type": "code",
      "metadata": {
        "colab": {
          "base_uri": "https://localhost:8080/"
        },
        "id": "vsf_Yrs3pcfq",
        "outputId": "cbf005f4-eecb-4ff8-f021-cb52a23937b4"
      },
      "source": [
        " def mean(numlist):\n",
        "    return sum(numlist)/len(numlist)\n",
        "def median(numlist):\n",
        "    numlist.sort()\n",
        "    print(numlist)\n",
        "    n=len(numlist)\n",
        "    print(\"total\",n)\n",
        "    mid=n//2\n",
        "    print(\"mid:\",mid)\n",
        "    if(n%2==0):\n",
        "        return numlist[mid]\n",
        "    else:\n",
        "        return (numlist[mid-1]+numlist[mid])/2\n",
        "def mode(numlist):\n",
        "    numlist.sort()\n",
        "    temp=[]\n",
        "    i=0\n",
        "    while i<len(numlist):\n",
        "        temp.append(numlist.count(numlist[i]))\n",
        "        i+=1\n",
        "    dic=dict(zip(numlist,temp))\n",
        "    modes={k for k, v in dic.items() if(v==max(temp))}\n",
        "    return modes\n",
        "list=[1,1,2,2,3,4,5,3,3]\n",
        "print(\"mean of guive list:\",mean(list))\n",
        "print(\"median of guive list:\",median(list))\n",
        " \n",
        "print(\"mode of guive list:\",mode(list))"
      ],
      "execution_count": null,
      "outputs": [
        {
          "name": "stdout",
          "output_type": "stream",
          "text": [
            "mean of guive list: 2.6666666666666665\n",
            "[1, 1, 2, 2, 3, 3, 3, 4, 5]\n",
            "total 9\n",
            "mid: 4\n",
            "median of guive list: 2.5\n",
            "mode of guive list: {3}\n"
          ]
        }
      ]
    },
    {
      "cell_type": "markdown",
      "metadata": {
        "id": "-M4Jlz92pi3X"
      },
      "source": [
        "Exercise - 9\n",
        " \n",
        "Functions - Continued\n",
        "\n",
        "**AIM**:\n",
        "\n",
        " \n",
        "a) Write a function nearly equal to test whether two strings are nearly equal. Two strings a and bare nearly equal when a can be generated by a single mutation on b.\n"
      ]
    },
    {
      "cell_type": "markdown",
      "metadata": {
        "id": "L5FRe8p_AGam"
      },
      "source": [
        "DESCRIPTION:\n",
        "\n",
        "strlen() function is used to check wether the two string are nearly equal or not by basis of the Length of those Strings\n",
        "\n",
        "len() function is an inbuilt function in Python programming language that returns the length of the string.\n",
        "\n",
        "len() is a built-in function in python.You can use the len() to get the length of the given string, array, list, tuple, dictionary, etc.\n",
        "\n",
        "Value: the given value you want the length of.\n",
        "\n",
        "Return value a return an integer value i.e. the length of the given string, or array, or list, or collections.\n",
        "\n",
        "Syntax:\n",
        "\n",
        "len(string)"
      ]
    },
    {
      "cell_type": "code",
      "metadata": {
        "colab": {
          "base_uri": "https://localhost:8080/"
        },
        "id": "NEQZvcUkpm3a",
        "outputId": "7c16176a-c5df-4345-cd2e-69147915ef51"
      },
      "source": [
        " def nearlyeq(str1,str2):\n",
        "    count=0\n",
        "    i=j=0\n",
        "    ss=0\n",
        "    while(i<len(str1)and j<len(str2)):\n",
        "        if(str1[i]!=str2[j]):\n",
        "            count+=1\n",
        "        if(len(str1)>len(str2)):\n",
        "            i+=1\n",
        " \n",
        "        elif(len(str1)==len(str2)):\n",
        "            pass\n",
        "        else:\n",
        "            i-=1     \n",
        "        if(count>1):\n",
        "             ss-=1\n",
        "             \n",
        "        i+=1\n",
        "        j+=1\n",
        "        if(count<2):\n",
        "             ss+=1\n",
        " \n",
        "    return ss\n",
        "s1=input(\"enter a string 1:\")\n",
        "s2=input(\"enter the string2:\")\n",
        "t=nearlyeq(s1,s2)\n",
        "if(t>1):\n",
        "    print(\"neraly equal0\")\n",
        "else:\n",
        "    print(\"not nearly equal\")"
      ],
      "execution_count": null,
      "outputs": [
        {
          "name": "stdout",
          "output_type": "stream",
          "text": [
            "enter a string 1:5\n",
            "enter the string2:9\n",
            "not nearly equal\n"
          ]
        }
      ]
    },
    {
      "cell_type": "markdown",
      "metadata": {
        "id": "SvkNn_TGAPla"
      },
      "source": [
        " **AIM:\n",
        "b) Write a function dup to find all duplicates in the list."
      ]
    },
    {
      "cell_type": "markdown",
      "metadata": {
        "id": "zEe0iqzJ6iR3"
      },
      "source": [
        "DESCRIPTION:\n",
        "\n",
        "If an integer or string or any items in a list are repeated more than one time, they are duplicates."
      ]
    },
    {
      "cell_type": "code",
      "metadata": {
        "colab": {
          "base_uri": "https://localhost:8080/"
        },
        "id": "O5po-pqLprac",
        "outputId": "cef8fe09-57a4-433d-f8e9-52cba49dfdc3"
      },
      "source": [
        " def dup(list):\n",
        "  list1=[]\n",
        "  for i in list:\n",
        "    count=list.count(i)\n",
        "    if(count>1 and (i not in list1)):\n",
        "        list1.append(i)\n",
        "        \n",
        "  print(\"the dups int he list are:\",list1)        \n",
        "list2=[1,2,1,2]\n",
        " \n",
        "dup(list2)"
      ],
      "execution_count": null,
      "outputs": [
        {
          "name": "stdout",
          "output_type": "stream",
          "text": [
            "the dups int he list are: [1, 2]\n"
          ]
        }
      ]
    },
    {
      "cell_type": "markdown",
      "metadata": {
        "id": "LmzIF6G9AUss"
      },
      "source": [
        "**AIM**:\n",
        " \n",
        "c) Write a function unique to find all the unique elements of a list."
      ]
    },
    {
      "cell_type": "markdown",
      "metadata": {
        "id": "qgpez9q3AI0c"
      },
      "source": [
        "DESCRIPTION:\n",
        "\n",
        "To find the unique in the list .There is a Specific Method i.e.,\n",
        "\n",
        "Method : Traversal of list\n",
        "\n",
        "Using traversal, we can traverse for every element in the list and check if the element is in the unique_list already if it is not over there, then we can append it in the unique_list.\n",
        "\n",
        "This is done using one for loop and other if statement which check if the value is in the unique list or not which is equivalent to another for loop."
      ]
    },
    {
      "cell_type": "code",
      "metadata": {
        "colab": {
          "base_uri": "https://localhost:8080/"
        },
        "id": "8i3yTdchprl6",
        "outputId": "5b024742-fad3-4da7-ea0a-850be9a80b60"
      },
      "source": [
        " def unique(list1):\n",
        "  list2={}\n",
        " \n",
        "  for i in list1:\n",
        "    c=list1.count(i)\n",
        "    if c==1:\n",
        "      list2[i]=c\n",
        "  print(\"the unique elements in the list are:\",list2)\n",
        " \n",
        "list=[1,2,3,45,45,6,88,88,9]\n",
        "unique(list)"
      ],
      "execution_count": null,
      "outputs": [
        {
          "name": "stdout",
          "output_type": "stream",
          "text": [
            "the unique elements in the list are: {1: 1, 2: 1, 3: 1, 6: 1, 9: 1}\n"
          ]
        }
      ]
    },
    {
      "cell_type": "markdown",
      "metadata": {
        "id": "fcILsDuipwmx"
      },
      "source": [
        "Exercise - 10\n",
        " \n",
        "Functions - Problem Solving\n",
        "\n",
        "**AIM**:\n",
        "\n",
        " \n",
        "a) Write a function cumulative product to compute cumulative product of a list of numbers.\n",
        ".\n"
      ]
    },
    {
      "cell_type": "markdown",
      "metadata": {
        "id": "caz19e9I6ms8"
      },
      "source": [
        "DESCRIPTION:\n",
        "\n",
        "A cumulative product is a sequence of partial products of a given sequence."
      ]
    },
    {
      "cell_type": "code",
      "metadata": {
        "colab": {
          "base_uri": "https://localhost:8080/"
        },
        "id": "vDcqAHmYpxhp",
        "outputId": "52d4cfcf-cdd7-4e7a-a4e3-fb62f78e9e9c"
      },
      "source": [
        "545224\n",
        " def cumulative_product(list1,n):\n",
        "    list2=[]\n",
        "    i=0\n",
        "    list2.append(list1[i])\n",
        "    for i in range(1,n):\n",
        "        v=list1[i]*list2[i-1]\n",
        "        list2.append(v)\n",
        "        \n",
        "    print(list2)\n",
        "list3=[]\n",
        "n=int(input(\"enter size :\"))\n",
        "print(\"enter the data:\")\n",
        "for i in range(0,n):\n",
        "    x=int(input())\n",
        "    list3.append(x)\n",
        "cumulative_product(list3,n)"
      ],
      "execution_count": null,
      "outputs": [
        {
          "name": "stdout",
          "output_type": "stream",
          "text": [
            "enter size :8\n",
            "enter the data:\n",
            "26\n",
            "57\n",
            "98\n",
            "24\n",
            "64\n",
            "58\n",
            "54\n",
            "55\n",
            "[26, 1482, 145236, 3485664, 223082496, 12938784768, 698694377472, 38428190760960]\n"
          ]
        }
      ]
    },
    {
      "cell_type": "markdown",
      "metadata": {
        "id": "iIvRo_5Z6x8V"
      },
      "source": [
        " **AIM**:\n",
        "b) Write a function reverse to reverse a list. Without using the reverse function"
      ]
    },
    {
      "cell_type": "markdown",
      "metadata": {
        "id": "m8A_Htq36x_t"
      },
      "source": [
        "DESCRIPTION:\n",
        "\n",
        "In this Python code snippet post, we are going to implement a list reverse function from the scratch without using any builtin functions. Let us see how… Iterative solution. We can use a for loop to swap the first and last items, the second and the one before the last item and so on until the list is reversed in place"
      ]
    },
    {
      "cell_type": "code",
      "metadata": {
        "colab": {
          "base_uri": "https://localhost:8080/"
        },
        "id": "2ZrOulbIp0VZ",
        "outputId": "a522d1c8-4f00-4d62-c0d8-5d310aef7026"
      },
      "source": [
        " def reverse_list(numlist):\n",
        "    temp=list1[::-1]\n",
        "    numlist=temp\n",
        "    return temp\n",
        "list1=[1,2,3,4]\n",
        "print(\"giiven list is :\",list1)\n",
        "print(\"after reverse function:\",reverse_list(list1))\n",
        "print(\"after list is:\",list1)"
      ],
      "execution_count": null,
      "outputs": [
        {
          "name": "stdout",
          "output_type": "stream",
          "text": [
            "giiven list is : [1, 2, 3, 4]\n",
            "after reverse function: [4, 3, 2, 1]\n",
            "after list is: [1, 2, 3, 4]\n"
          ]
        }
      ]
    },
    {
      "cell_type": "markdown",
      "metadata": {
        "id": "_MfjsKw4Afkv"
      },
      "source": [
        " **AIM**:\n",
        "c) Write function to compute gcd, lcm of two numbers. Each function shouldn’t exceed one line"
      ]
    },
    {
      "cell_type": "markdown",
      "metadata": {
        "id": "PyfR3vZS64C7"
      },
      "source": [
        "DESCRIPTION:\n",
        "\n",
        "arithmetic. In arithmetic: Fundamental theory. …of these numbers, called their greatest common divisor (GCD). If the GCD = 1, the numbers are said to be relatively prime. There also exists a smallest positive integer that is a multiple of each of the numbers, called their least common multiple (LCM)."
      ]
    },
    {
      "cell_type": "code",
      "metadata": {
        "colab": {
          "base_uri": "https://localhost:8080/"
        },
        "id": "GcB7BaCsp3Q0",
        "outputId": "0b697b55-8823-4078-fd0b-c4d5ffa0c042"
      },
      "source": [
        " gcd=lambda a,b: a if b==0 else gcd(a,a%b)\n",
        "lcm=lambda a,b: (a*b)/gcd(a,b)\n",
        "\n",
        "x=4\n",
        "y=24\n",
        "print(\"gcd=\",gcd(x,y))\n",
        "print(\"lcm=\",lcm(x,y))"
      ],
      "execution_count": null,
      "outputs": [
        {
          "name": "stdout",
          "output_type": "stream",
          "text": [
            "gcd= 4\n",
            "lcm= 24.0\n"
          ]
        }
      ]
    },
    {
      "cell_type": "markdown",
      "metadata": {
        "id": "k_iuGBdCwCwZ"
      },
      "source": [
        "Exercise-11\n",
        " \n",
        "Multi-D-Lists\n",
        " \n",
        "**AIM**:\n",
        " \n",
        "a) write a program that defines a matrix and prints\n",
        " \n",
        " "
      ]
    },
    {
      "cell_type": "markdown",
      "metadata": {
        "id": "7DOZvVfY7JfE"
      },
      "source": [
        "DESCRIPTION:\n",
        "\n",
        "A Python matrix is a specialized two-dimensional rectangular array of data stored in rows and columns. The data in a matrix can be numbers, strings, expressions, symbols, etc. Matrix is one of the important data structures that can be used in mathematical and scientific calculations"
      ]
    },
    {
      "cell_type": "code",
      "metadata": {
        "colab": {
          "base_uri": "https://localhost:8080/"
        },
        "id": "UzWB1cGvwJEP",
        "outputId": "02b833aa-beea-4379-9512-32b38c371151"
      },
      "source": [
        "matA=[[]]\n",
        "rows=int(input(\"Enter row size of matrix: \"))\n",
        "cols=int(input(\"Enter column size of matrix: \"))\n",
        "matA=[[int(input(\"Enter[%d,%d] value: \"%(i,j)))for j in range(cols)]for i in range(rows)]\n",
        "print(\"matrix is: \")\n",
        "for i in range(rows):\n",
        "  for j in range(cols):\n",
        "    print(matA[i][j],end='\\t')\n",
        "  print()"
      ],
      "execution_count": null,
      "outputs": [
        {
          "name": "stdout",
          "output_type": "stream",
          "text": [
            "Enter row size of matrix: 2\n",
            "Enter column size of matrix: 2\n",
            "Enter[0,0] value: 5\n",
            "Enter[0,1] value: 6\n",
            "Enter[1,0] value: 2\n",
            "Enter[1,1] value: 9\n",
            "matrix is: \n",
            "5\t6\t\n",
            "2\t9\t\n"
          ]
        }
      ]
    },
    {
      "cell_type": "markdown",
      "metadata": {
        "id": "kK9oyxoPAk-I"
      },
      "source": [
        "**AIM**:\n",
        "b) write a program to perform addition of two square matrices"
      ]
    },
    {
      "cell_type": "markdown",
      "metadata": {
        "id": "vLMxINSp7P5x"
      },
      "source": [
        "DESCRIPTION:\n",
        "\n",
        "At each point we add the corresponding elements in the two matrices and store it in the result. Using nested list comprehension : In Python, we can implement a matrix as nested list (list inside a list). We can treat each element as a row of the matrix"
      ]
    },
    {
      "cell_type": "code",
      "metadata": {
        "colab": {
          "base_uri": "https://localhost:8080/"
        },
        "id": "jQW7xJojwOwu",
        "outputId": "a051ecdb-af31-4e2d-bdc8-79cffb79cac5"
      },
      "source": [
        " \n",
        "def matRead(r,c):\n",
        "  return[[int(input(\"[%d,%d]value:\"%(i,j)))for j in range(c)]for i in range(r)]\n",
        "def matDisp(mat,r,c):\n",
        "  for i in range(r):\n",
        "    for j in range(c):\n",
        "      print(mat[i][j],end='\\t')\n",
        "    print()\n",
        "matA=[[]]\n",
        "matB=[[]]       \n",
        "matSum=[[]]\n",
        "rows=int(input(\"Enter row size of the matrix: \"))\n",
        "cols=int(input(\"Enter column size of the matrix: \"))\n",
        "if rows==cols:\n",
        "  print(\"Enter Matrix-A elements: \")\n",
        "  matA=matRead(rows,cols)\n",
        " \n",
        "  print(\"Enter Matrix-B elements: \")\n",
        "  matB=matRead(rows,cols)\n",
        " \n",
        "  print(\"Matrix-A is: \")\n",
        "  matDisp(matA,rows,cols)\n",
        " \n",
        "  print(\"Matrix-B is: \")\n",
        "  matDisp(matB,rows,cols)\n",
        "  matSum=[[matA[i][j]+matB[i][j]for j in range(cols)]for i in range(rows)]\n",
        "  print(\"sum of matrices is: \")\n",
        "  matDisp(matSum,rows,cols)6\n",
        "  78\n",
        "  \n",
        "else:\n",
        "  print(\"Matrices addition is not possible\")"
      ],
      "execution_count": null,
      "outputs": [
        {
          "name": "stdout",
          "output_type": "stream",
          "text": [
            "Enter row size of the matrix: 2\n",
            "Enter column size of the matrix: 2\n",
            "Enter Matrix-A elements: \n",
            "[0,0]value:1\n",
            "[0,1]value:8\n",
            "[1,0]value:5\n",
            "[1,1]value:2\n",
            "Enter Matrix-B elements: \n",
            "[0,0]value:3\n",
            "[0,1]value:6\n",
            "[1,0]value:1\n",
            "[1,1]value:5\n",
            "Matrix-A is: \n",
            "1\t8\t\n",
            "5\t2\t\n",
            "Matrix-B is: \n",
            "3\t6\t\n",
            "1\t5\t\n",
            "sum of matrices is: \n",
            "4\t14\t\n",
            "6\t7\t\n"
          ]
        }
      ]
    },
    {
      "cell_type": "markdown",
      "metadata": {
        "id": "C9h93p_OArSX"
      },
      "source": [
        "**AIM**:\n",
        "c) write a program to perform multiplication of two square matrices"
      ]
    },
    {
      "cell_type": "markdown",
      "metadata": {
        "id": "VADmGte_7XSp"
      },
      "source": [
        "DESCRIPTION:\n",
        "\n",
        "Step1: input two matrix. Step 2: nested for loops to iterate through each row and each column. Step 3: take one resultant matrix which is initially contains all 0. Then we multiply each row elements of first matrix with each elements of second matrix, then add all multiplied value."
      ]
    },
    {
      "cell_type": "code",
      "metadata": {
        "colab": {
          "base_uri": "https://localhost:8080/"
        },
        "id": "Yds15VFewS3J",
        "outputId": "6b1a56fb-68c6-4ddb-b882-5345bc52d5e3"
      },
      "source": [
        " \n",
        "def  matRead(r,c):  \n",
        "  return[[int(input(\"[%d,%d]value: \"%(i,j)))for j in range(c)]for i in range(r)]\n",
        "def matDisp(mat,r,c):\n",
        "  for i in range(r):\n",
        "    for j in range(c):\n",
        "      print(mat[i][j],end='\\t')\n",
        "matA=[[]]\n",
        "matB=[[]]\n",
        "matMul=[[]]\n",
        "rows=int(input(\"Enter row size of the Matrix: \"))\n",
        "cols=int(input(\"Enter column size of the Matrix: \"))\n",
        " \n",
        "if rows==cols:\n",
        "  print(\"Enter Matrix-A: \")\n",
        "  matA=matRead(rows,cols)\n",
        "  print(\" Enter Matrix-B: \")\n",
        "  matB=matRead(rows,cols)\n",
        " \n",
        "  matMul=[[0 for j in range(cols)]for i in range(rows)]\n",
        "  for i in range(rows):\n",
        "    for j in range(cols):\n",
        "      for k in range(cols):\n",
        "        matMul[i][j]+=matA[i][k]*matB[k][j]\n",
        "  print(\"Matrix-A is: \")\n",
        "  matDisp(matA,rows,cols)\n",
        " \n",
        "  print(\"Matrix-B is: \")\n",
        "  matDisp(matB,rows,cols)\n",
        " \n",
        "  print(\"Multiplication of matrices is: \")\n",
        "  matDisp(matMul,rows,cols)\n",
        "else:\n",
        "  print(\"Matrices Multiplication is not possible is\")"
      ],
      "execution_count": null,
      "outputs": [
        {
          "name": "stdout",
          "output_type": "stream",
          "text": [
            "Enter row size of the Matrix: 2\n",
            "Enter column size of the Matrix: 2\n",
            "Enter Matrix-A: \n",
            "[0,0]value: 5\n",
            "[0,1]value: 8\n",
            "[1,0]value: 6\n",
            "[1,1]value: 1\n",
            " Enter Matrix-B: \n",
            "[0,0]value: 2\n",
            "[0,1]value: 6\n",
            "[1,0]value: 8\n",
            "[1,1]value: 1\n",
            "Matrix-A is: \n",
            "5\t8\t6\t1\tMatrix-B is: \n",
            "2\t6\t8\t1\tMultiplication of matrices is: \n",
            "74\t38\t20\t37\t"
          ]
        }
      ]
    },
    {
      "cell_type": "markdown",
      "metadata": {
        "id": "b3SG84dcwdZS"
      },
      "source": [
        "Exercise-12\n",
        " \n",
        "Modules\n",
        " \n",
        "**AIM**:\n",
        " \n",
        "a) Install package requests,flasks and explore them.using(pip)\n"
      ]
    },
    {
      "cell_type": "markdown",
      "metadata": {
        "id": "LGcOYiqnA_Lz"
      },
      "source": [
        "DESCRIPTION:\n",
        "\n",
        "Installing the pip Python package manager on Windows If you are on Windows, and your installed Python the current version, you already have pip! If your Python installation is not the most recent, the easiest thing to do is to simply reinstall it. Download the Python Windows installer at https://www.python.org/downloads/.\n",
        "\n",
        "In Windows, the variable that controls which programs are accessible from the command line is path. To modify your path to include Python and pip, we have to add C:\\Python27 and C:\\Python27\\Tools. Edit the Windows path by opening the Windows menu, right-clicking on Computer and clicking on Properties. Under Advanced system settings, click Environment Variables.... Scroll down until you find Path, double-click it, and add ;C:\\Python27;C:\\Python27\\Tools to the end.\n",
        "\n",
        "Installing packages:\n",
        "\n",
        "Suppose you want to install a package called requests (which is used to make HTTP requests). You need to issue the following command.\n",
        "\n",
        "pip install requests\n",
        "\n",
        "show installed packages\n",
        "\n",
        "You can use the following command to get information about a installed package, i.e Package name, version, location, dependencies.\n",
        "\n",
        "pip show package_name\n",
        "\n",
        "install flask\n",
        "\n",
        "On Mac and Linux, because you are installing programs outside the user-owned folders, you might have to prepend sudo to the install commands. To install Flask, simply run this:\n",
        "\n",
        "$ pip install flask\n",
        "\n",
        "show installed flask\n",
        "\n",
        "You can use the following command to get information about a installed flask, i.e Package name, version, location, dependencies\n",
        "\n",
        "$ pip show flask"
      ]
    },
    {
      "cell_type": "markdown",
      "metadata": {
        "id": "M5JIKYq1wdnO"
      },
      "source": [
        "The requests and flask packages are download from internet using the following commands.\n",
        "\n",
        "C:\\python3.9\\scripts>pip install requests\n",
        "\n",
        "C:\\python3.9\\scripts>pip show requests\n",
        "\n",
        "C:\\python3.9\\scripts>pip install flask\n",
        "\n",
        "C:\\python3.9\\scripts>pip show flask\n",
        "\n",
        "https://drive.google.com/file/d/1H1xDdPf3STLM8BivVum2IE9DHUaVUov5/view?usp=sharing\n",
        "\n",
        "https://drive.google.com/file/d/1s7OuAcNw0mleuB1PE6DnN93fDFzHaDCd/view?usp=sharing\n",
        "\n",
        "https://drive.google.com/file/d/1Y5tZqVGVbtNItIsEVKmmv_VCtHo_Gieq/view?usp=sharing\n",
        "\n",
        "https://drive.google.com/file/d/111lqK5HU4_SpTlOQ_52nEn5g41X-ESkI/view?usp=sharing"
      ]
    },
    {
      "cell_type": "markdown",
      "metadata": {
        "id": "OKfakbc6BY4U"
      },
      "source": [
        "**AIM**:\n",
        "b) Write a scripts that imports requests and fetch content from the page.Eg. (Wiki)code:"
      ]
    },
    {
      "cell_type": "markdown",
      "metadata": {
        "id": "emF6mVRXBUZo"
      },
      "source": [
        "DESCRIPTION:\n",
        "\n",
        "The Hypertext Transfer Protocol (HTTP) is an application protocol for distributed, collaborative, hypermedia information systems. HTTP is the foundation of data communication for the World Wide Web.\n",
        "\n",
        "Python requests\n",
        "\n",
        "Requests is a simple and elegant Python HTTP library. It provides methods for accessing Web resources via HTTP.\n",
        "\n",
        "Python requests reading a web page\n",
        "\n",
        "The get() method issues a GET request; it fetches documents identified by the given URL."
      ]
    },
    {
      "cell_type": "code",
      "metadata": {
        "colab": {
          "base_uri": "https://localhost:8080/"
        },
        "id": "ZHZFZaerwifz",
        "outputId": "9089d68c-2346-45df-a619-c7b5acb5a4ee"
      },
      "source": [
        " \n",
        "import requests\n",
        " \n",
        "r=requests.get('https://www.google.com')\n",
        " \n",
        "print(\"Statuscode:\",r.status_code)\n",
        " \n",
        "print(\"Header Content:\",r.headers['content-type'])\n",
        "print(r.text)"
      ],
      "execution_count": null,
      "outputs": [
        {
          "name": "stdout",
          "output_type": "stream",
          "text": [
            "Statuscode: 200\n",
            "Header Content: text/html; charset=ISO-8859-1\n",
            "<!doctype html><html itemscope=\"\" itemtype=\"http://schema.org/WebPage\" lang=\"zh-TW\"><head><meta content=\"text/html; charset=UTF-8\" http-equiv=\"Content-Type\"><meta content=\"/images/branding/googleg/1x/googleg_standard_color_128dp.png\" itemprop=\"image\"><title>Google</title><script nonce=\"/XADJ2SS+2v6Xxz0+oFB9A==\">(function(){window.google={kEI:'CXX1YOKZAYz90gS3tpiwCw',kEXPI:'0,772215,1,530320,56873,954,756,4349,206,2415,2389,2316,383,246,5,1354,5250,1122516,1197710,181,392,328984,51223,16115,6056,11388,1954,9286,17572,4859,1361,3471,5819,3021,12747,4841,4998,13227,3848,4192,6430,14527,236,4285,2776,917,5081,1594,1278,2214,239,289,149,1103,840,1983,4314,109,3405,606,2023,2298,14669,3229,2843,7,4773,7581,5096,1475,6402,5036,3409,906,2,941,2614,13142,3,576,6460,148,13975,4,1528,2304,1236,5226,5261,2011,4070,12269,2039,2658,4243,2458,655,31,5664,7964,1593,712,638,1494,5588,3770,4048,2715,665,2521,3294,2542,992,3102,20,3119,5,908,3,3541,1,14710,1814,283,38,874,5998,10612,1908,2,1394,2806,1715,2,3035,22,2538,2,1,3,6521,2,1898,1931,997,535,2379,91,550,1780,1275,4578,1576,3,471,1647,5629,95,2,1040,1160,1269,3426,2,1710,292,1441,33,644,80,183,1575,1144,4545,3,125,4606,742,13,1448,2453,16,1,1457,72,223,1898,676,2,6,29,2,6,43,288,1895,119,396,70,922,2,1,999,6,125,133,765,1510,425,471,84,51,274,563,332,57,101,190,149,416,416,841,282,287,54,8,1379,523,544,714,2,2256,284,471,1610,117,443,62,880,302,290,2,1111,304,5611712,194,32,220,59,76,1802755,4193979,2800696,882,444,1,2,80,1,1796,1,9,2,2551,1,748,141,795,563,1,4265,1,1,2,1331,3299,843,2609,155,17,13,72,139,4,2,20,2,169,13,19,46,5,39,96,548,29,2,2,1,2,1,2,2,7,4,1,2,2,2,2,2,2,312,41,513,186,1,1,158,3,2,2,2,2,2,4,2,3,3,233,13,11,12,21,1874751,22079951,2866026,1146350,26661,7,2307,338,3,2339,75,1813,973,373',kBL:'rUkx'};google.sn='webhp';google.kHL='zh-TW';})();(function(){\n",
            "var f=this||self;var h,k=[];function l(a){for(var b;a&&(!a.getAttribute||!(b=a.getAttribute(\"eid\")));)a=a.parentNode;return b||h}function m(a){for(var b=null;a&&(!a.getAttribute||!(b=a.getAttribute(\"leid\")));)a=a.parentNode;return b}\n",
            "function n(a,b,c,d,g){var e=\"\";c||-1!==b.search(\"&ei=\")||(e=\"&ei=\"+l(d),-1===b.search(\"&lei=\")&&(d=m(d))&&(e+=\"&lei=\"+d));d=\"\";!c&&f._cshid&&-1===b.search(\"&cshid=\")&&\"slh\"!==a&&(d=\"&cshid=\"+f._cshid);c=c||\"/\"+(g||\"gen_204\")+\"?atyp=i&ct=\"+a+\"&cad=\"+b+e+\"&zx=\"+Date.now()+d;/^http:/i.test(c)&&\"https:\"===window.location.protocol&&(google.ml&&google.ml(Error(\"a\"),!1,{src:c,glmm:1}),c=\"\");return c};h=google.kEI;google.getEI=l;google.getLEI=m;google.ml=function(){return null};google.log=function(a,b,c,d,g){if(c=n(a,b,c,d,g)){a=new Image;var e=k.length;k[e]=a;a.onerror=a.onload=a.onabort=function(){delete k[e]};a.src=c}};google.logUrl=n;}).call(this);(function(){\n",
            "google.y={};google.sy=[];google.x=function(a,b){if(a)var c=a.id;else{do c=Math.random();while(google.y[c])}google.y[c]=[a,b];return!1};google.sx=function(a){google.sy.push(a)};google.lm=[];google.plm=function(a){google.lm.push.apply(google.lm,a)};google.lq=[];google.load=function(a,b,c){google.lq.push([[a],b,c])};google.loadAll=function(a,b){google.lq.push([a,b])};google.bx=!1;google.lx=function(){};}).call(this);google.f={};(function(){\n",
            "document.documentElement.addEventListener(\"submit\",function(b){var a;if(a=b.target){var c=a.getAttribute(\"data-submitfalse\");a=\"1\"==c||\"q\"==c&&!a.elements.q.value?!0:!1}else a=!1;a&&(b.preventDefault(),b.stopPropagation())},!0);document.documentElement.addEventListener(\"click\",function(b){var a;a:{for(a=b.target;a&&a!=document.documentElement;a=a.parentElement)if(\"A\"==a.tagName){a=\"1\"==a.getAttribute(\"data-nohref\");break a}a=!1}a&&b.preventDefault()},!0);}).call(this);</script><style>#gbar,#guser{font-size:13px;padding-top:1px !important;}#gbar{height:22px}#guser{padding-bottom:7px !important;text-align:right}.gbh,.gbd{border-top:1px solid #c9d7f1;font-size:1px}.gbh{height:0;position:absolute;top:24px;width:100%}@media all{.gb1{height:22px;margin-right:.5em;vertical-align:top}#gbar{float:left}}a.gb1,a.gb4{text-decoration:underline !important}a.gb1,a.gb4{color:#00c !important}.gbi .gb4{color:#dd8e27 !important}.gbf .gb4{color:#900 !important}\n",
            "</style><style>body,td,a,p,.h{font-family:arial,sans-serif}body{margin:0;overflow-y:scroll}#gog{padding:3px 8px 0}td{line-height:.8em}.gac_m td{line-height:17px}form{margin-bottom:20px}.h{color:#1558d6}em{color:#c5221f;font-style:normal;font-weight:normal}a em{text-decoration:underline}.lst{height:25px;width:496px}.gsfi,.lst{font:18px arial,sans-serif}.gsfs{font:17px arial,sans-serif}.ds{display:inline-box;display:inline-block;margin:3px 0 4px;margin-left:4px}input{font-family:inherit}body{background:#fff;color:#000}a{color:#4b11a8;text-decoration:none}a:hover,a:active{text-decoration:underline}.fl a{color:#1558d6}a:visited{color:#4b11a8}.sblc{padding-top:5px}.sblc a{display:block;margin:2px 0;margin-left:13px;font-size:11px}.lsbb{background:#f8f9fa;border:solid 1px;border-color:#dadce0 #70757a #70757a #dadce0;height:30px}.lsbb{display:block}#WqQANb a{display:inline-block;margin:0 12px}.lsb{background:url(/images/nav_logo229.png) 0 -261px repeat-x;border:none;color:#000;cursor:pointer;height:30px;margin:0;outline:0;font:15px arial,sans-serif;vertical-align:top}.lsb:active{background:#dadce0}.lst:focus{outline:none}</style><script nonce=\"/XADJ2SS+2v6Xxz0+oFB9A==\"></script></head><body bgcolor=\"#fff\"><script nonce=\"/XADJ2SS+2v6Xxz0+oFB9A==\">(function(){var src='/images/nav_logo229.png';var iesg=false;document.body.onload = function(){window.n && window.n();if (document.images){new Image().src=src;}\n",
            "if (!iesg){document.f&&document.f.q.focus();document.gbqf&&document.gbqf.q.focus();}\n",
            "}\n",
            "})();</script><div id=\"mngb\"><div id=gbar><nobr><b class=gb1>&#25628;&#23563;</b> <a class=gb1 href=\"https://www.google.com.tw/imghp?hl=zh-TW&tab=wi\">&#22294;&#29255;</a> <a class=gb1 href=\"https://maps.google.com.tw/maps?hl=zh-TW&tab=wl\">&#22320;&#22294;</a> <a class=gb1 href=\"https://play.google.com/?hl=zh-TW&tab=w8\">Play</a> <a class=gb1 href=\"https://www.youtube.com/?gl=TW&tab=w1\">YouTube</a> <a class=gb1 href=\"https://news.google.com/?tab=wn\">&#26032;&#32862;</a> <a class=gb1 href=\"https://mail.google.com/mail/?tab=wm\">Gmail</a> <a class=gb1 href=\"https://drive.google.com/?tab=wo\">&#38642;&#31471;&#30828;&#30879;</a> <a class=gb1 style=\"text-decoration:none\" href=\"https://www.google.com.tw/intl/zh-TW/about/products?tab=wh\"><u>&#26356;&#22810;</u> &raquo;</a></nobr></div><div id=guser width=100%><nobr><span id=gbn class=gbi></span><span id=gbf class=gbf></span><span id=gbe></span><a href=\"http://www.google.com.tw/history/optout?hl=zh-TW\" class=gb4>&#32178;&#38913;&#35352;&#37636;</a> | <a  href=\"/preferences?hl=zh-TW\" class=gb4>&#35373;&#23450;</a> | <a target=_top id=gb_70 href=\"https://accounts.google.com/ServiceLogin?hl=zh-TW&passive=true&continue=https://www.google.com/&ec=GAZAAQ\" class=gb4>&#30331;&#20837;</a></nobr></div><div class=gbh style=left:0></div><div class=gbh style=right:0></div></div><center><br clear=\"all\" id=\"lgpd\"><div id=\"lga\"><img alt=\"Google\" height=\"92\" src=\"/images/branding/googlelogo/1x/googlelogo_white_background_color_272x92dp.png\" style=\"padding:28px 0 14px\" width=\"272\" id=\"hplogo\"><br><br></div><form action=\"/search\" name=\"f\"><table cellpadding=\"0\" cellspacing=\"0\"><tr valign=\"top\"><td width=\"25%\">&nbsp;</td><td align=\"center\" nowrap=\"\"><input name=\"ie\" value=\"ISO-8859-1\" type=\"hidden\"><input value=\"zh-TW\" name=\"hl\" type=\"hidden\"><input name=\"source\" type=\"hidden\" value=\"hp\"><input name=\"biw\" type=\"hidden\"><input name=\"bih\" type=\"hidden\"><div class=\"ds\" style=\"height:32px;margin:4px 0\"><input class=\"lst\" style=\"margin:0;padding:5px 8px 0 6px;vertical-align:top;color:#000\" autocomplete=\"off\" value=\"\" title=\"Google &#25628;&#23563;\" maxlength=\"2048\" name=\"q\" size=\"57\"></div><br style=\"line-height:0\"><span class=\"ds\"><span class=\"lsbb\"><input class=\"lsb\" value=\"Google &#25628;&#23563;\" name=\"btnG\" type=\"submit\"></span></span><span class=\"ds\"><span class=\"lsbb\"><input class=\"lsb\" id=\"tsuid1\" value=\"&#22909;&#25163;&#27683;\" name=\"btnI\" type=\"submit\"><script nonce=\"/XADJ2SS+2v6Xxz0+oFB9A==\">(function(){var id='tsuid1';document.getElementById(id).onclick = function(){if (this.form.q.value){this.checked = 1;if (this.form.iflsig)this.form.iflsig.disabled = false;}\n",
            "else top.location='/doodles/';};})();</script><input value=\"AINFCbYAAAAAYPWDGbMz9dbCFJ5KsuD12sSuKLRw7Oz0\" name=\"iflsig\" type=\"hidden\"></span></span></td><td class=\"fl sblc\" align=\"left\" nowrap=\"\" width=\"25%\"><a href=\"/advanced_search?hl=zh-TW&amp;authuser=0\">&#36914;&#38542;&#25628;&#23563;</a></td></tr></table><input id=\"gbv\" name=\"gbv\" type=\"hidden\" value=\"1\"><script nonce=\"/XADJ2SS+2v6Xxz0+oFB9A==\">(function(){\n",
            "var a,b=\"1\";if(document&&document.getElementById)if(\"undefined\"!=typeof XMLHttpRequest)b=\"2\";else if(\"undefined\"!=typeof ActiveXObject){var c,d,e=[\"MSXML2.XMLHTTP.6.0\",\"MSXML2.XMLHTTP.3.0\",\"MSXML2.XMLHTTP\",\"Microsoft.XMLHTTP\"];for(c=0;d=e[c++];)try{new ActiveXObject(d),b=\"2\"}catch(h){}}a=b;if(\"2\"==a&&-1==location.search.indexOf(\"&gbv=2\")){var f=google.gbvu,g=document.getElementById(\"gbv\");g&&(g.value=a);f&&window.setTimeout(function(){location.href=f},0)};}).call(this);</script></form><div id=\"gac_scont\"></div><div style=\"font-size:83%;min-height:3.5em\"><br></div><span id=\"footer\"><div style=\"font-size:10pt\"><div style=\"margin:19px auto;text-align:center\" id=\"WqQANb\"><a href=\"/intl/zh-TW/ads/\">&#24291;&#21578;&#26381;&#21209;</a><a href=\"http://www.google.com.tw/intl/zh-TW/services/\">&#21830;&#26989;&#35299;&#27770;&#26041;&#26696;</a><a href=\"/intl/zh-TW/about.html\">&#38364;&#26044; Google</a><a href=\"https://www.google.com/setprefdomain?prefdom=TW&amp;prev=https://www.google.com.tw/&amp;sig=K_6TjS5c0sS-kzQwi5H_ZKWA2Q7dc%3D\">Google.com.tw</a></div></div><p style=\"font-size:8pt;color:#70757a\">&copy; 2021 - <a href=\"/intl/zh-TW/policies/privacy/\">&#38577;&#31169;&#27402;</a> - <a href=\"/intl/zh-TW/policies/terms/\">&#26381;&#21209;&#26781;&#27454;</a></p></span></center><script nonce=\"/XADJ2SS+2v6Xxz0+oFB9A==\">(function(){window.google.cdo={height:757,width:1440};(function(){\n",
            "var a=window.innerWidth,b=window.innerHeight;if(!a||!b){var c=window.document,d=\"CSS1Compat\"==c.compatMode?c.documentElement:c.body;a=d.clientWidth;b=d.clientHeight}a&&b&&(a!=google.cdo.width||b!=google.cdo.height)&&google.log(\"\",\"\",\"/client_204?&atyp=i&biw=\"+a+\"&bih=\"+b+\"&ei=\"+google.kEI);}).call(this);})();</script> <script nonce=\"/XADJ2SS+2v6Xxz0+oFB9A==\">(function(){google.xjs={ck:'',cs:'',excm:[],pml:false};})();</script>  <script nonce=\"/XADJ2SS+2v6Xxz0+oFB9A==\">(function(){var u='/xjs/_/js/k\\x3dxjs.hp.en.uG5gNub4OSM.O/m\\x3dsb_he,d/am\\x3dAHgCLA/d\\x3d1/ed\\x3d1/rs\\x3dACT90oFL0_2LwcQeUzXQMlVynx5KmR4twQ';\n",
            "var e=this||self,f=function(a){return a};var g;var l=function(a,b){this.g=b===h?a:\"\"};l.prototype.toString=function(){return this.g+\"\"};var h={};function m(){var a=u;google.lx=function(){n(a);google.lx=function(){}};google.bx||google.lx()}\n",
            "function n(a){google.timers&&google.timers.load&&google.tick&&google.tick(\"load\",\"xjsls\");var b=document;var c=\"SCRIPT\";\"application/xhtml+xml\"===b.contentType&&(c=c.toLowerCase());c=b.createElement(c);if(void 0===g){b=null;var k=e.trustedTypes;if(k&&k.createPolicy){try{b=k.createPolicy(\"goog#html\",{createHTML:f,createScript:f,createScriptURL:f})}catch(p){e.console&&e.console.error(p.message)}g=b}else g=b}a=(b=g)?b.createScriptURL(a):a;a=new l(a,h);c.src=a instanceof l&&a.constructor===l?a.g:\"type_error:TrustedResourceUrl\";var d;a=(c.ownerDocument&&c.ownerDocument.defaultView||window).document;(d=(a=null===(d=a.querySelector)||void 0===d?void 0:d.call(a,\"script[nonce]\"))?a.nonce||a.getAttribute(\"nonce\")||\"\":\"\")&&c.setAttribute(\"nonce\",d);document.body.appendChild(c);google.psa=!0};setTimeout(function(){m()},0);})();(function(){window.google.xjsu='/xjs/_/js/k\\x3dxjs.hp.en.uG5gNub4OSM.O/m\\x3dsb_he,d/am\\x3dAHgCLA/d\\x3d1/ed\\x3d1/rs\\x3dACT90oFL0_2LwcQeUzXQMlVynx5KmR4twQ';})();function _DumpException(e){throw e;}\n",
            "function _F_installCss(c){}\n",
            "(function(){google.jl={attn:false,blt:'none',chnk:0,dw:false,emtn:0,end:0,ine:false,lls:'default',pdt:0,rep:0,snet:true,strt:0,ubm:false,uwp:true};})();(function(){var pmc='{\\x22d\\x22:{},\\x22sb_he\\x22:{\\x22agen\\x22:true,\\x22cgen\\x22:true,\\x22client\\x22:\\x22heirloom-hp\\x22,\\x22dh\\x22:true,\\x22dhqt\\x22:true,\\x22ds\\x22:\\x22\\x22,\\x22ffql\\x22:\\x22zh-TW\\x22,\\x22fl\\x22:true,\\x22host\\x22:\\x22google.com\\x22,\\x22isbh\\x22:28,\\x22jsonp\\x22:true,\\x22msgs\\x22:{\\x22cibl\\x22:\\x22&#28165;&#38500;&#25628;&#23563;\\x22,\\x22dym\\x22:\\x22&#24744;&#26159;&#19981;&#26159;&#35201;&#26597;&#65306;\\x22,\\x22lcky\\x22:\\x22&#22909;&#25163;&#27683;\\x22,\\x22lml\\x22:\\x22&#30637;&#35299;&#35443;&#24773;\\x22,\\x22oskt\\x22:\\x22&#36664;&#20837;&#24037;&#20855;\\x22,\\x22psrc\\x22:\\x22&#24050;&#24478;&#24744;&#30340;&#12300;\\\\u003Ca href\\x3d\\\\\\x22/history\\\\\\x22\\\\u003E&#32178;&#38913;&#35352;&#37636;\\\\u003C/a\\\\u003E&#12301;&#20013;&#31227;&#38500;&#36889;&#31558;&#25628;&#23563;&#35352;&#37636;\\x22,\\x22psrl\\x22:\\x22&#31227;&#38500;\\x22,\\x22sbit\\x22:\\x22&#20197;&#22294;&#25628;&#23563;\\x22,\\x22srch\\x22:\\x22Google &#25628;&#23563;\\x22},\\x22ovr\\x22:{},\\x22pq\\x22:\\x22\\x22,\\x22refpd\\x22:true,\\x22refspre\\x22:true,\\x22rfs\\x22:[],\\x22sbas\\x22:\\x220 3px 8px 0 rgba(0,0,0,0.2),0 0 0 1px rgba(0,0,0,0.08)\\x22,\\x22sbpl\\x22:16,\\x22sbpr\\x22:16,\\x22scd\\x22:10,\\x22stok\\x22:\\x22rNVCU0r0vu14G9_O65H7BFnXnbY\\x22,\\x22uhde\\x22:false}}';google.pmc=JSON.parse(pmc);})();</script>        </body></html>\n"
          ]
        }
      ]
    },
    {
      "cell_type": "markdown",
      "metadata": {
        "id": "ZsgYrfNiBncn"
      },
      "source": [
        "**AIM**:\n",
        "\n",
        "c) write a simple script that serves a simple HTTPResponse and simple HTML page"
      ]
    },
    {
      "cell_type": "markdown",
      "metadata": {
        "id": "JAX_sts0BqTw"
      },
      "source": [
        "DESCRIPTION:\n",
        "\n",
        "HTTP Protocol\n",
        "\n",
        "The most important part of a web server is HTTP protocol.So now we will see what exactly this is –\n",
        "\n",
        "It stands for Hyper Text Transfer Protocol.\n",
        "\n",
        "It is an application layer protocol that allows web based applications to communicate and exchange data.\n",
        "\n",
        "The HTTP is the messenger of web.\n",
        "\n",
        "The computer that communicate via the HTTP must speak the HTTP protocol.\n",
        "\n",
        "It is a TCP/IP based protocol.\n",
        "\n",
        "It is used to deliver contents, for eg. images, audios, videos, documents etc.\n",
        "\n",
        "Using HTTP is the most convenient way to quickly and reliably move data on the web.\n",
        "\n",
        "HTML stands for hypertext markup language. It is the standard markup language for web pages that define the structure of the content. These elements are the building blocks of any website"
      ]
    },
    {
      "cell_type": "code",
      "metadata": {
        "colab": {
          "base_uri": "https://localhost:8080/",
          "height": 198
        },
        "id": "1T2jKZ2mwioa",
        "outputId": "6576d73b-aebd-48a5-ab30-fabf1e560ff9"
      },
      "source": [
        " \n",
        "from flask import Flask,render_template\n",
        "app=Flask(__name__)\n",
        "print(app)\n",
        "@app.route(\"/\")\n",
        "def main():\n",
        "  return render_template(\"login.html')\n",
        "if__name__==\"__main__\":\n",
        "  app.run(host=\"127.0.0.1\",port=2500)"
      ],
      "execution_count": null,
      "outputs": [
        {
          "ename": "SyntaxError",
          "evalue": "ignored",
          "output_type": "error",
          "traceback": [
            "\u001b[0;36m  File \u001b[0;32m\"<ipython-input-5-360caa0927d4>\"\u001b[0;36m, line \u001b[0;32m7\u001b[0m\n\u001b[0;31m    return render_template(\"login.html')\u001b[0m\n\u001b[0m                                        ^\u001b[0m\n\u001b[0;31mSyntaxError\u001b[0m\u001b[0;31m:\u001b[0m EOL while scanning string literal\n"
          ]
        }
      ]
    },
    {
      "cell_type": "markdown",
      "metadata": {
        "id": "-e3m-BxGwqS8"
      },
      "source": [
        "Exercise - 13\n",
        " \n",
        " OOP\n",
        "\n",
        "**AIM**:\n",
        "\n",
        " \n",
        "a) Class variables and instance variable and illustration of the self-variable\n",
        " \n",
        "i) Robot\n",
        " \n",
        "ii) ATM Machine"
      ]
    },
    {
      "cell_type": "markdown",
      "metadata": {
        "id": "fOGxnwxK7eO5"
      },
      "source": [
        "DESCRIPTION:\n",
        "\n",
        "a class variable is shared by instances of a class, the Python class owns the variable. As a result, all instances of the class will be able to access that variable. Class variables are shared by all instances that access the class\n",
        "Instance variables are owned by instances of the class. This means that for each object or instance of a class, the instance variables are different. Unlike class variables, instance variables are defined within methods."
      ]
    },
    {
      "cell_type": "code",
      "metadata": {
        "colab": {
          "base_uri": "https://localhost:8080/"
        },
        "id": "PuqyO4Qzwujo",
        "outputId": "aa1c4a9d-7f45-4b5a-b251-347bf9483542"
      },
      "source": [
        " \n",
        "class Robot:\n",
        "    what=\"Machine\"\n",
        "    name=\"Chitti\"\n",
        "    version=1.0\n",
        "    speed=\"1THz\"\n",
        "    memory=\"1ZB\"\n",
        " \n",
        "    def update(upd):\n",
        "        upd.version=2.0\n",
        "        upd.speed=\"2THz\"\n",
        "        upd.memory=\"2ZB\"\n",
        " \n",
        "    def disp(self):\n",
        "        print(\"Myself is a\",robj.what)\n",
        "        print(\"MyName is a\",robj.name)\n",
        "        print(\"Version :\",robj.version)\n",
        "        print(\"Speed : \",robj.speed)\n",
        "        print(\"Memory: \",robj.memory)\n",
        " \n",
        "robj=Robot()\n",
        "robj.disp()\n",
        " \n",
        "print(\"---------------Update---------\")\n",
        "robj.update()\n",
        "robj.disp()"
      ],
      "execution_count": null,
      "outputs": [
        {
          "name": "stdout",
          "output_type": "stream",
          "text": [
            "Myself is a Machine\n",
            "MyName is a Chitti\n",
            "Version : 1.0\n",
            "Speed :  1THz\n",
            "Memory:  1ZB\n",
            "---------------Update---------\n",
            "Myself is a Machine\n",
            "MyName is a Chitti\n",
            "Version : 2.0\n",
            "Speed :  2THz\n",
            "Memory:  2ZB\n"
          ]
        }
      ]
    },
    {
      "cell_type": "code",
      "metadata": {
        "colab": {
          "base_uri": "https://localhost:8080/"
        },
        "id": "RTt0dv2Rwu-Q",
        "outputId": "70c65b74-34fc-4a80-899c-1539c004012b"
      },
      "source": [
        " \n",
        "class ATM:\n",
        "    def __init__(self):\n",
        "        self.balance=0\n",
        "        print(\"New Account\")\n",
        "        \n",
        "    def enquire(self):\n",
        "        print(\"Balance: \",self.balance)\n",
        "        \n",
        "    def deposit(self):\n",
        "        amount=int(input(\"Enter the Deposit Amount:\"))\n",
        "        self.balance+=amount\n",
        "        self.enquire()\n",
        " \n",
        "    def withdraw(self):\n",
        "        amount=int(input(\"Enter the Withdraw Amount: \"))\n",
        "        if self.balance<amount:\n",
        "            print(\"Insufficient Balance.....!\")\n",
        "        else:\n",
        "            self.balance-=amount\n",
        "            self.enquire()\n",
        " \n",
        "aobj=ATM()\n",
        "while(True):\n",
        "    print(\"*****Menu****\")\n",
        "    print(\"1.Deposit\")\n",
        "    print(\"2.Withdarw\")\n",
        "    print(\"3.Balance\")\n",
        "    print(\"0.Exit\")\n",
        "    ch=int(input(\"Enter Your Choice: \"))\n",
        "    if ch==0:\n",
        "        break\n",
        "    elif ch==1:\n",
        "        aobj.deposit()\n",
        "    elif ch==2:\n",
        "        aobj.withdraw()\n",
        "    elif ch==3:\n",
        "        aobj.enquire()\n",
        "    else:\n",
        "        print(\"Invalid choice:\")\n",
        "        pass"
      ],
      "execution_count": null,
      "outputs": [
        {
          "name": "stdout",
          "output_type": "stream",
          "text": [
            "New Account\n",
            "*****Menu****\n",
            "1.Deposit\n",
            "2.Withdarw\n",
            "3.Balance\n",
            "0.Exit\n",
            "Balance:  2000\n",
            "*****Menu****\n",
            "1.Deposit\n",
            "2.Withdarw\n",
            "3.Balance\n",
            "0.Exit\n",
            "Balance:  1000\n",
            "*****Menu****\n",
            "1.Deposit\n",
            "2.Withdarw\n",
            "3.Balance\n",
            "0.Exit\n",
            "Balance:  1000\n",
            "*****Menu****\n",
            "1.Deposit\n",
            "2.Withdarw\n",
            "3.Balance\n",
            "0.Exit\n",
            "Invalid choice:\n",
            "*****Menu****\n",
            "1.Deposit\n",
            "2.Withdarw\n",
            "3.Balance\n",
            "0.Exit\n",
            "Enter Your Choice: 5\n",
            "Invalid choice:\n",
            "*****Menu****\n",
            "1.Deposit\n",
            "2.Withdarw\n",
            "3.Balance\n",
            "0.Exit\n"
          ]
        }
      ]
    },
    {
      "cell_type": "markdown",
      "metadata": {
        "id": "XW8cIo05w0_m"
      },
      "source": [
        "Exercise - 14\n",
        "\n",
        "GUI, Graphics\n",
        "**AIM**:\n",
        "\n",
        "Write a GUI for an Expression Calculator using tk\n"
      ]
    },
    {
      "cell_type": "markdown",
      "metadata": {
        "id": "pHdzKXbf7jej"
      },
      "source": [
        "DESCRIPTION:\n",
        "\n",
        "Tkinter is Python's de-facto standard GUI (Graphical User Interface) package. It is a thin object-oriented layer on top of Tcl/Tk. Tkinter is not the only GuiProgramming toolkit for Python. It is however the most commonly used one. ... Graphical User Interfaces with Tk, a chapter from the Python Documentation."
      ]
    },
    {
      "cell_type": "code",
      "metadata": {
        "id": "as-mge0Sw4V3"
      },
      "source": [
        " \n",
        "#14A.\n",
        "from tkinter import *\n",
        " \n",
        "win = Tk() # to create a basic window\n",
        "win.geometry(\"312x324\")  #for the size of the window \n",
        "win.resizable(0, 0)  # to prevent from resizing the window\n",
        "win.title(\"Calculator\")\n",
        " \n",
        "# 'btn_click' Function continuously updates the \n",
        "# input field whenever you enters a number\n",
        " \n",
        "def btn_click(item):\n",
        "    global expression\n",
        "    expression = expression + str(item)\n",
        "    input_text.set(expression)\n",
        " \n",
        "# 'bt_clear' function : used to clear the input field\n",
        " \n",
        "def bt_clear(): \n",
        "    global expression \n",
        "    expression = \"\"\n",
        "    input_text.set(\"\")\n",
        " \n",
        "# 'bt_equal':calculates the expression present in input field\n",
        " \n",
        "def bt_equal():\n",
        "    global expression\n",
        "    result = str(eval(expression)) # 'eval':This function is used to evaluates the string expression directly\n",
        "    input_text.set(result)\n",
        "    expression = \"\"\n",
        " \n",
        "expression = \"\"\n",
        " \n",
        "# 'StringVar()' :used to get the instance of input field\n",
        " \n",
        "input_text = StringVar()\n",
        " \n",
        "# creating a frame for the input field\n",
        " \n",
        "input_frame = Frame(win, width=312, height=50, bd=0, highlightbackground=\"black\", highlightcolor=\"black\", highlightthickness=2)\n",
        " \n",
        "input_frame.pack(side=TOP)\n",
        " \n",
        "#create a input field inside the 'Frame'\n",
        " \n",
        "input_field = Entry(input_frame, font=('arial', 18, 'bold'), textvariable=input_text, width=50, bg=\"#eee\", bd=0, justify=RIGHT)\n",
        " \n",
        "input_field.grid(row=0, column=0)\n",
        " \n",
        "input_field.pack(ipady=10)\n",
        "# 'ipady' is internal padding to increase the height of input field\n",
        " \n",
        "#creating another 'Frame' for the button below the 'input_frame'\n",
        " \n",
        "btns_frame = Frame(win, width=312, height=272.5, bg=\"grey\")\n",
        " \n",
        "btns_frame.pack()\n",
        " \n",
        "# first row\n",
        " \n",
        "clear = Button(btns_frame, text = \"C\", fg = \"black\", width = 32, height = 3, bd = 0, bg = \"#eee\", cursor = \"hand2\", command = lambda: bt_clear()).grid(row = 0, column = 0, columnspan = 3, padx = 1, pady = 1)\n",
        " \n",
        "divide = Button(btns_frame, text = \"/\", fg = \"black\", width = 10, height = 3, bd = 0, bg = \"#eee\", cursor = \"hand2\", command = lambda: btn_click(\"/\")).grid(row = 0, column = 3, padx = 1, pady = 1)\n",
        " \n",
        "# second row\n",
        " \n",
        "seven = Button(btns_frame, text = \"7\", fg = \"black\", width = 10, height = 3, bd = 0, bg = \"#fff\", cursor = \"hand2\", command = lambda: btn_click(7)).grid(row = 1, column = 0, padx = 1, pady = 1)\n",
        " \n",
        "eight = Button(btns_frame, text = \"8\", fg = \"black\", width = 10, height = 3, bd = 0, bg = \"#fff\", cursor = \"hand2\", command = lambda: btn_click(8)).grid(row = 1, column = 1, padx = 1, pady = 1)\n",
        " \n",
        "nine = Button(btns_frame, text = \"9\", fg = \"black\", width = 10, height = 3, bd = 0, bg = \"#fff\", cursor = \"hand2\", command = lambda: btn_click(9)).grid(row = 1, column = 2, padx = 1, pady = 1)\n",
        " \n",
        "multiply = Button(btns_frame, text = \"\", fg = \"black\", width = 10, height = 3, bd = 0, bg = \"#eee\", cursor = \"hand2\", command = lambda: btn_click(\"\")).grid(row = 1, column = 3, padx = 1, pady = 1)\n",
        " \n",
        "# third row\n",
        " \n",
        "four = Button(btns_frame, text = \"4\", fg = \"black\", width = 10, height = 3, bd = 0, bg = \"#fff\", cursor = \"hand2\", command = lambda: btn_click(4)).grid(row = 2, column = 0, padx = 1, pady = 1)\n",
        " \n",
        "five = Button(btns_frame, text = \"5\", fg = \"black\", width = 10, height = 3, bd = 0, bg = \"#fff\", cursor = \"hand2\", command = lambda: btn_click(5)).grid(row = 2, column = 1, padx = 1, pady = 1)\n",
        " \n",
        "six = Button(btns_frame, text = \"6\", fg = \"black\", width = 10, height = 3, bd = 0, bg = \"#fff\", cursor = \"hand2\", command = lambda: btn_click(6)).grid(row = 2, column = 2, padx = 1, pady = 1)\n",
        " \n",
        "minus = Button(btns_frame, text = \"-\", fg = \"black\", width = 10, height = 3, bd = 0, bg = \"#eee\", cursor = \"hand2\", command = lambda: btn_click(\"-\")).grid(row = 2, column = 3, padx = 1, pady = 1)\n",
        " \n",
        "# fourth row\n",
        " \n",
        "one = Button(btns_frame, text = \"1\", fg = \"black\", width = 10, height = 3, bd = 0, bg = \"#fff\", cursor = \"hand2\", command = lambda: btn_click(1)).grid(row = 3, column = 0, padx = 1, pady = 1)\n",
        " \n",
        "two = Button(btns_frame, text = \"2\", fg = \"black\", width = 10, height = 3, bd = 0, bg = \"#fff\", cursor = \"hand2\", command = lambda: btn_click(2)).grid(row = 3, column = 1, padx = 1, pady = 1)\n",
        " \n",
        "three = Button(btns_frame, text = \"3\", fg = \"black\", width = 10, height = 3, bd = 0, bg = \"#fff\", cursor = \"hand2\", command = lambda: btn_click(3)).grid(row = 3, column = 2, padx = 1, pady = 1)\n",
        " \n",
        "plus = Button(btns_frame, text = \"+\", fg = \"black\", width = 10, height = 3, bd = 0, bg = \"#eee\", cursor = \"hand2\", command = lambda: btn_click(\"+\")).grid(row = 3, column = 3, padx = 1, pady = 1)\n",
        " \n",
        "# fifth row\n",
        " \n",
        "zero = Button(btns_frame, text = \"0\", fg = \"black\", width = 21, height = 3, bd = 0, bg = \"#fff\", cursor = \"hand2\", command = lambda: btn_click(0)).grid(row = 4, column = 0, columnspan = 2, padx = 1, pady = 1)\n",
        " \n",
        "point = Button(btns_frame, text = \".\", fg = \"black\", width = 10, height = 3, bd = 0, bg = \"#eee\", cursor = \"hand2\", command = lambda: btn_click(\".\")).grid(row = 4, column = 2, padx = 1, pady = 1)\n",
        " \n",
        "equals = Button(btns_frame, text = \"=\", fg = \"black\", width = 10, height = 3, bd = 0, bg = \"#eee\", cursor = \"hand2\", command = lambda: bt_equal()).grid(row = 4, column = 3, padx = 1, pady = 1)\n",
        " \n",
        "win.mainloop()"
      ],
      "execution_count": null,
      "outputs": []
    },
    {
      "cell_type": "markdown",
      "metadata": {
        "id": "9QvHaapVB7L5"
      },
      "source": [
        "**AIM**:\n",
        "\n",
        "Write a program to implement the following figures using turtle"
      ]
    },
    {
      "cell_type": "markdown",
      "metadata": {
        "id": "tpeIs2y87pvW"
      },
      "source": [
        "DESCRIPTION:\n",
        "\n",
        "turtle is a pre-installed Python library that enables users to create pictures and shapes by providing them with a virtual canvas. The onscreen pen that you use for drawing is called the turtle and this is what gives the library its name. ... Most developers use turtle to draw shapes, create designs, and make images."
      ]
    },
    {
      "cell_type": "code",
      "metadata": {
        "id": "c1vgmWFQw4kL"
      },
      "source": [
        " import turtle\n",
        "c=[\"red\",\"green\",\"blue\"]\n",
        "i=0\n",
        "turtle.pensize(5)\n",
        " \n",
        "for angle in range(0,360,30):\n",
        "    if i>2:\n",
        "        i=0\n",
        "    turtle.color(c[i])\n",
        "    turtle.seth(angle)\n",
        "    turtle.circle(50)\n",
        "    i+=1"
      ],
      "execution_count": null,
      "outputs": []
    },
    {
      "cell_type": "code",
      "metadata": {
        "id": "aaAxCAGUxNOu"
      },
      "source": [
        " import turtle\n",
        "turtle.pensize(1)\n",
        " \n",
        "for i in range(36):\n",
        "    for j in range(4):\n",
        "        turtle.forward(70)\n",
        "        turtle.left(90)\n",
        "    turtle.left(10)"
      ],
      "execution_count": null,
      "outputs": []
    },
    {
      "cell_type": "markdown",
      "metadata": {
        "id": "WjnsGZzqxTLu"
      },
      "source": [
        "Exercise - 15 - Testing\n",
        "\n",
        "a) Write a test-case to check the function even numbers which return True on passing a list of all even numbers\n"
      ]
    },
    {
      "cell_type": "markdown",
      "metadata": {
        "id": "vB6jdT4tCIUV"
      },
      "source": [
        "DESCRIPTION:\n",
        "\n",
        "TestCase is used to create test cases by subclassing it. The last block of the code at the bottom allows us to run all the tests just by running the file. Basic terms used in the code : assertEqual() – This statement is used to check if the result obtained is equal to the expected result\n",
        "\n",
        "test case:\n",
        "\n",
        "A test case is a set of conditions which is used to determine whether a system under test works correctly."
      ]
    },
    {
      "cell_type": "code",
      "metadata": {
        "colab": {
          "base_uri": "https://localhost:8080/"
        },
        "id": "IXmct5FlxXfo",
        "outputId": "d97dd3e1-6595-47d7-d967-33f2627c6c5e"
      },
      "source": [
        " \n",
        "def evnNo(num):\n",
        "    stat=True\n",
        " \n",
        "    for i in num:\n",
        "        if i%2 ==1:\n",
        "            stat=False\n",
        "            break\n",
        "    return stat\n",
        "        \n",
        "numbers=[]\n",
        "for i in range(0,2):\n",
        "    numbers.append(int(input(\"Enter a value:\")))\n",
        "print(evnNo(numbers))"
      ],
      "execution_count": null,
      "outputs": [
        {
          "name": "stdout",
          "output_type": "stream",
          "text": [
            "Enter a value:6\n",
            "Enter a value:7\n",
            "False\n"
          ]
        }
      ]
    },
    {
      "cell_type": "markdown",
      "metadata": {
        "id": "iTgzudewCNo6"
      },
      "source": [
        "**AIM**:\n",
        "\n",
        "b) Write a test-case to check the function reverse string which returns the reversed string"
      ]
    },
    {
      "cell_type": "markdown",
      "metadata": {
        "id": "SMjiMXD67uqc"
      },
      "source": [
        "DESCRIPTION:\n",
        "\n",
        "we call a function to reverse a string, which iterates to every element and intelligently join each character in the beginning so as to obtain the reversed string. Using recursion. # Python code to reverse a string."
      ]
    },
    {
      "cell_type": "code",
      "metadata": {
        "colab": {
          "base_uri": "https://localhost:8080/"
        },
        "id": "X7EvuzzOxXvX",
        "outputId": "3cb4a1d3-599d-4d34-f772-fffbdca70015"
      },
      "source": [
        " \n",
        "def rev_str(st):\n",
        "    temp=\"\"\n",
        "    for i in range(len(st)-1,-1,-1):\n",
        "        temp+=st[i]\n",
        "    return temp\n",
        " \n",
        "st=\"swarnandhra\"\n",
        "print(\"Given String is: \",st)\n",
        "print(\"Reverse String is: \",st[::-1])\n",
        "print(\"Reverse is: \",rev_str(st))"
      ],
      "execution_count": null,
      "outputs": [
        {
          "name": "stdout",
          "output_type": "stream",
          "text": [
            "Given String is:  swarnandhra\n",
            "Reverse String is:  arhdnanraws\n",
            "Reverse is:  arhdnanraws\n"
          ]
        }
      ]
    },
    {
      "cell_type": "markdown",
      "metadata": {
        "id": "o39D5Q3LxeAv"
      },
      "source": [
        "Exercise - 16 - Advanced\n",
        "\n",
        "a) Build any one classical data structure.\n"
      ]
    },
    {
      "cell_type": "markdown",
      "metadata": {
        "id": "PRk2SFup75U_"
      },
      "source": [
        "DESCRIPTION:\n",
        "\n",
        "The basic Python data structures in Python include list, set, tuples, and dictionary. ... Data structures are “containers” that organize and group data according to type. The data structures differ based on mutability and order. Mutability refers to the ability to change an object after its creation."
      ]
    },
    {
      "cell_type": "code",
      "metadata": {
        "id": "AkRX0v0Kxf7v"
      },
      "source": [
        " \n",
        "import sys\n",
        "a=[]\n",
        "while True: \n",
        " print(\"1.PUSH 2.POP 3.DISPLAY 4.EXIT\")\n",
        " ch=int(input(\"Enter Your Choice: \"))\n",
        " if ch==1:\n",
        "    ele=int(input(\"Enter element: \"))\n",
        "    a.append(ele).\n",
        "    print (\"Inserted\") \n",
        " elif ch==2:\n",
        "  if len(a)==0: \n",
        "     print(\"\\t STACK IS EMPTY\")\n",
        "  else:\n",
        "     print(\"Deleted element is: \", a[len(a)-1])\n",
        "     a.remove (a [len (a) -1])\n",
        " elif ch==3:\n",
        "  if len(a)==0:\n",
        "     print(\"\\t STACK IS EMPTY\")\n",
        "  else:\n",
        "     print(\"\\tThe Elements in Stack is: \") \n",
        "     for i in reversed(a):\n",
        "       print (i)\n",
        " elif ch==4: \n",
        "   sys.exit()\n",
        " else: \n",
        "   print(\"\\tINVALID CHOICE\")"
      ],
      "execution_count": null,
      "outputs": []
    },
    {
      "cell_type": "markdown",
      "metadata": {
        "id": "wR0v1L_xCUdj"
      },
      "source": [
        "**AIM**:\n",
        "\n",
        "b) Write a program to solve knapsack problem"
      ]
    },
    {
      "cell_type": "markdown",
      "metadata": {
        "id": "ps2qbG8T7yrl"
      },
      "source": [
        "DESCRIPTION:\n",
        "\n",
        "A knapsack problem algorithm is a constructive approach to combinatorial optimization. The problem is basically about a given set of items, each with a specific weight and a value. Therefore the programmer needs to determine each item’s number to include in a collection so that the total weight is less than or equal to a given limit. And also, the total value is maximum. It derives its name from the fixed-size knapsack that must be filled up to its limit with the most valuable items."
      ]
    },
    {
      "cell_type": "code",
      "metadata": {
        "id": "YX6nX7KexgKt"
      },
      "source": [
        " \n",
        "def knapSack(W,wt,val,n): \n",
        " K=[[0 for x in range(W+1)] for x in range(n+1)]\n",
        " for i in range(n+1):\n",
        "  for w in range(W+1):\n",
        "   if i==0orw==0:\n",
        "      K[i][w]=0\n",
        "   elif wt[i-1]<=w:\n",
        "      K[i][w]=max(val[i-1]+ K[i-1][w-wt[i-1]],K[i-1][w]) \n",
        "   else:\n",
        "      K[i][w]=K[i-1][w]\n",
        " return K[n][W]\n",
        "val= [5,3,4]\n",
        "wt=[3,2,1]\n",
        "W=5 \n",
        "n=len(val)\n",
        "print(\"Maximum value knapsack of capacity W: \",knapSack(W, wt, val, n))"
      ],
      "execution_count": null,
      "outputs": []
    },
    {
      "cell_type": "markdown",
      "metadata": {
        "id": "L-W23cRKxpAZ"
      },
      "source": [
        "Exercise - 17-Data Analysis\n",
        "\n",
        "Data analysis or manipulation using the following packages\n",
        "\n",
        "a) Numpy b) Pandas\n",
        "\n",
        "Exercise - 17 - Advanced\n",
        "\n",
        "Data analysis or manipulation using the following packages\n",
        "\n",
        "a) Scipy b) matplotlib"
      ]
    },
    {
      "cell_type": "markdown",
      "metadata": {
        "id": "QQg539qf8CPj"
      },
      "source": [
        "DESCRIPTION:\n",
        "\n",
        "*Numpy and Scipy – Fundamental Scientific Computing. ...\n",
        "\n",
        "*Pandas – Data Manipulation and Analysis. ...\n",
        "\n",
        "*Matplotlib – Plotting and Visualization. ...\n",
        "\n",
        "*Scikit-learn – Machine Learning and Data Mining. ...\n",
        "\n",
        "*StatsModels – Statistical Modeling, Testing, and Analysis. ...\n",
        "\n",
        "*Seaborn – For Statistical Data Visualization."
      ]
    },
    {
      "cell_type": "code",
      "metadata": {
        "colab": {
          "base_uri": "https://localhost:8080/"
        },
        "id": "SsvJBz3XxsBT",
        "outputId": "ebee9c55-5a00-4ce5-f66f-84461499ba66"
      },
      "source": [
        " \n",
        "import sys\n",
        " \n",
        "print('Python:{}'.format(sys.version))\n",
        " \n",
        "#scipy\n",
        " \n",
        "import scipy\n",
        "print('scipy: {}'.format(scipy.__version__))\n",
        " \n",
        "#numpy \n",
        " \n",
        "import numpy\n",
        "print('numpy:{}'.format(numpy.__version__))\n",
        " \n",
        "#matplotlib \n",
        " \n",
        "import matplotlib\n",
        "print('matplotlib:{}'.format(matplotlib.__version__))\n",
        " \n",
        "#pandas \n",
        " \n",
        "import pandas\n",
        "print('pandas:{}'.format(pandas. __version__))\n",
        " \n",
        "#scikit-learn\n",
        " \n",
        "import sklearn\n",
        "print('sklearn:{}'.format(sklearn.__version__))\n",
        " \n",
        "import seaborn\n",
        "print('seaborn: {}'.format(seaborn.__version__)) \n",
        " \n",
        "import urllib\n",
        "print('urlib:{}'.format(urllib.__name__)) \n",
        " \n",
        "import csv\n",
        "print('csv: {}'.format(csv.__version__))"
      ],
      "execution_count": null,
      "outputs": [
        {
          "name": "stdout",
          "output_type": "stream",
          "text": [
            "Python:3.7.11 (default, Jul  3 2021, 18:01:19) \n",
            "[GCC 7.5.0]\n",
            "scipy: 1.4.1\n",
            "numpy:1.19.5\n",
            "matplotlib:3.2.2\n",
            "pandas:1.1.5\n",
            "sklearn:0.22.2.post1\n",
            "seaborn: 0.11.1\n",
            "urlib:urllib\n",
            "csv: 1.0\n"
          ]
        }
      ]
    },
    {
      "cell_type": "markdown",
      "metadata": {
        "id": "38CO44VlH4KS"
      },
      "source": [
        "**NUMPY**"
      ]
    },
    {
      "cell_type": "code",
      "metadata": {
        "id": "uLcjqEemH8hL"
      },
      "source": [
        "import numpy as np\n",
        "a=np.array([0,1,2])\n",
        "print(type(a))\n",
        "print(a.shape)\n",
        "print(a[0])\n",
        "print(a[1])\n",
        "print(a[2])\n",
        "a[0]=5\n",
        "print(a)"
      ],
      "execution_count": null,
      "outputs": []
    },
    {
      "cell_type": "code",
      "metadata": {
        "id": "pxLVF2uwH_Ao"
      },
      "source": [
        "import numpy as np\n",
        "b=np.array([[0,1,2],[3,4,5]])\n",
        "print(b.shape)\n",
        "print(b)\n",
        "print(b[0,0],b[0,1],b[1,0])"
      ],
      "execution_count": null,
      "outputs": []
    },
    {
      "cell_type": "code",
      "metadata": {
        "id": "8_WaykSsIIJo"
      },
      "source": [
        "import numpy as np\n",
        "a=np.zeros((3,3))\n",
        "print(a)"
      ],
      "execution_count": null,
      "outputs": []
    },
    {
      "cell_type": "code",
      "metadata": {
        "id": "vBYhOz1IIMOL"
      },
      "source": [
        "import numpy as np\n",
        "b=np.ones((2,2))\n",
        "print(b)"
      ],
      "execution_count": null,
      "outputs": []
    },
    {
      "cell_type": "code",
      "metadata": {
        "id": "8D-pJ59bIOYr"
      },
      "source": [
        "import numpy as np\n",
        "c=np.full((3,3),7)\n",
        "print(c)"
      ],
      "execution_count": null,
      "outputs": []
    },
    {
      "cell_type": "code",
      "metadata": {
        "id": "vVKSU8TEIS_6"
      },
      "source": [
        "import numpy as np\n",
        "d=np.random.random((3,3))\n",
        "print(d)"
      ],
      "execution_count": null,
      "outputs": []
    },
    {
      "cell_type": "code",
      "metadata": {
        "id": "37rpw0SpITy6"
      },
      "source": [
        "import numpy as np\n",
        "e=np.eye(3)\n",
        "print(e)"
      ],
      "execution_count": null,
      "outputs": []
    },
    {
      "cell_type": "code",
      "metadata": {
        "id": "BcX4Y6sVIT01"
      },
      "source": [
        "import numpy as np\n",
        "f=np.array([2,3,1,0])\n",
        "print(f)"
      ],
      "execution_count": null,
      "outputs": []
    },
    {
      "cell_type": "code",
      "metadata": {
        "id": "_eTzPegWIT4Y"
      },
      "source": [
        "import numpy as np\n",
        "g=np.arange(2,10)\n",
        "print(g)"
      ],
      "execution_count": null,
      "outputs": []
    },
    {
      "cell_type": "code",
      "metadata": {
        "id": "nWvE-bofIUBm"
      },
      "source": [
        "import numpy as np\n",
        "h=np.array([[0,1,2.0],[0,0,0],(1+1j,3.,2.)])\n",
        "print(h)"
      ],
      "execution_count": null,
      "outputs": []
    },
    {
      "cell_type": "code",
      "metadata": {
        "id": "rH800V2KIUEN"
      },
      "source": [
        "import numpy as np\n",
        "i=np.arange(1,8,dtype=np.float)\n",
        "print(i)"
      ],
      "execution_count": null,
      "outputs": []
    },
    {
      "cell_type": "code",
      "metadata": {
        "id": "0XR1Ui8KIisR"
      },
      "source": [
        "import numpy as np\n",
        "j=np.linspace(2.,4., 5)\n",
        "print(j)"
      ],
      "execution_count": null,
      "outputs": []
    },
    {
      "cell_type": "code",
      "metadata": {
        "id": "rTgpjZoEIive"
      },
      "source": [
        "import numpy as np\n",
        "k=np.indices((3,3))\n",
        "print(k)"
      ],
      "execution_count": null,
      "outputs": []
    },
    {
      "cell_type": "code",
      "metadata": {
        "id": "_hT5o885Iiz8"
      },
      "source": [
        "import numpy as np\n",
        "x=np.array([0,1])\n",
        "y=np.array([2.0,3.0])\n",
        "z=np.array([5,6], dtype=np.int64)\n",
        "print(x.dtype,y.dtype,z.dtype)"
      ],
      "execution_count": null,
      "outputs": []
    },
    {
      "cell_type": "code",
      "metadata": {
        "id": "-5Ddp8HDIi1L"
      },
      "source": [
        "import numpy as np\n",
        "x=np.array([5,6,7,8,9])\n",
        "print(x[1:7:2])\n",
        "print(x[-2:5])\n",
        "print(x[-1:1:-1])"
      ],
      "execution_count": null,
      "outputs": []
    },
    {
      "cell_type": "code",
      "metadata": {
        "id": "USb87S-wIi3q"
      },
      "source": [
        "import numpy as np\n",
        "a=np.array([[1,2],[3,4],[5,6]])\n",
        "print(a>2)\n",
        "print(a[a>2])"
      ],
      "execution_count": null,
      "outputs": []
    },
    {
      "cell_type": "code",
      "metadata": {
        "id": "Bbs4fqk5It2N"
      },
      "source": [
        "import numpy as np\n",
        "x=np.array([[1,2],[3,4],[5,6]])\n",
        "y=np.array([[7,8],[9,10],[11,12]])\n",
        "print(x+y)\n",
        "print(np.add(x,y))\n",
        "print(x-y)\n",
        "print(np.subtract(x,y))"
      ],
      "execution_count": null,
      "outputs": []
    },
    {
      "cell_type": "code",
      "metadata": {
        "id": "jNVcWLmFIt4w"
      },
      "source": [
        "import numpy as np\n",
        "x=np.array([[1,2],[3,4],[5,6]])\n",
        "y=np.array([[7,8],[9,10],[11,12]])\n",
        "print(np.multiply(x,y))\n",
        "print(x*y)"
      ],
      "execution_count": null,
      "outputs": []
    },
    {
      "cell_type": "code",
      "metadata": {
        "id": "qLfN4N4CIt-D"
      },
      "source": [
        "import numpy as np\n",
        "x=np.array([[1,2],[3,4],[5,6]])\n",
        "y=np.array([[7,8],[9,10],[11,12]])\n",
        "print(np.divide(x,y))\n",
        "print(x/y)"
      ],
      "execution_count": null,
      "outputs": []
    },
    {
      "cell_type": "code",
      "metadata": {
        "id": "iMcPInKwIt_W"
      },
      "source": [
        "import numpy as np\n",
        "x=np.array([[1,2],[3,4],[5,6]])\n",
        "print(np.sqrt(x))"
      ],
      "execution_count": null,
      "outputs": []
    },
    {
      "cell_type": "code",
      "metadata": {
        "id": "sswgHbNeIuAz"
      },
      "source": [
        "import numpy as np\n",
        "a=np.array([9,10])\n",
        "b=np.array([11,12])\n",
        "print(a.dot(b))\n",
        "print(np.dot(a,b))"
      ],
      "execution_count": null,
      "outputs": []
    },
    {
      "cell_type": "code",
      "metadata": {
        "id": "xev_s7P8IuFN"
      },
      "source": [
        "import numpy as np\n",
        "a=np.array([9,10])\n",
        "x=np.array([[1,2],[3,4]])\n",
        "print(x.dot(a))\n",
        "print(np.dot(x,a))"
      ],
      "execution_count": null,
      "outputs": []
    },
    {
      "cell_type": "code",
      "metadata": {
        "id": "xn771ON7IuHa"
      },
      "source": [
        "import numpy as np\n",
        "x=np.array([[1,2],[3,4]])\n",
        "y=np.array([[5,6],[7,8]])\n",
        "print(x.dot(y))\n",
        "print(np.dot(x,y))"
      ],
      "execution_count": null,
      "outputs": []
    },
    {
      "cell_type": "code",
      "metadata": {
        "id": "2QKibreEIuL6"
      },
      "source": [
        "import numpy as np\n",
        "x=np.array([[1,2],[3,4]])\n",
        "print(np.sum(x))\n",
        "print(np.sum(x,axis=0))\n",
        "print(np.sum(x,axis=1))"
      ],
      "execution_count": null,
      "outputs": []
    },
    {
      "cell_type": "code",
      "metadata": {
        "id": "ZvmHFhYgIuRj"
      },
      "source": [
        "import numpy as np\n",
        "x=np.array([[1,2],[3,4]])\n",
        "print(x)\n",
        "print(x.T)\n"
      ],
      "execution_count": null,
      "outputs": []
    },
    {
      "cell_type": "code",
      "metadata": {
        "id": "iECPhQGqIjCJ"
      },
      "source": [
        "import numpy as np\n",
        "v=np.array([1,2,3])\n",
        "print(v)\n",
        "print(v.T)"
      ],
      "execution_count": null,
      "outputs": []
    },
    {
      "cell_type": "code",
      "metadata": {
        "id": "uGah68G-IjD-"
      },
      "source": [
        "import numpy as np\n",
        "a=np.array([[1,2,3],[4,5,6],[7,8,9]])\n",
        "v=np.array([1,0,1])\n",
        "b=a+v\n",
        "print(b)"
      ],
      "execution_count": null,
      "outputs": []
    },
    {
      "cell_type": "code",
      "metadata": {
        "id": "-m9mTeYBIjHS"
      },
      "source": [
        "import numpy as np\n",
        "x=np.array([[1,2,1],[3,4,1]])\n",
        "print(\"X.T:\\n\",x.T)\n",
        "w=np.array([1,1])\n",
        "print(\"W:\\n\",w)\n",
        "\n",
        "print(\"Final :\\n\",(x.T+w).T)"
      ],
      "execution_count": null,
      "outputs": []
    },
    {
      "cell_type": "code",
      "metadata": {
        "id": "egjMb4oyIjTn"
      },
      "source": [
        "import numpy as np\n",
        "x=np.array([[1,2,1],[3,4,1]])\n",
        "print(x*2)"
      ],
      "execution_count": null,
      "outputs": []
    },
    {
      "cell_type": "code",
      "metadata": {
        "id": "BuXzwizXIUIp"
      },
      "source": [
        "import numpy as np\n",
        "np.random.rand(3,2)"
      ],
      "execution_count": null,
      "outputs": []
    },
    {
      "cell_type": "code",
      "metadata": {
        "id": "R-KdDkGCIUJz"
      },
      "source": [
        "import numpy as np\n",
        "np.random.rand(10)"
      ],
      "execution_count": null,
      "outputs": []
    },
    {
      "cell_type": "code",
      "metadata": {
        "id": "cqYJSblrIUSV"
      },
      "source": [
        "import random\n",
        "print (random.randint(0,9))"
      ],
      "execution_count": null,
      "outputs": []
    },
    {
      "cell_type": "markdown",
      "metadata": {
        "id": "CdQXlu8YJn3w"
      },
      "source": [
        "# **PANDAS**"
      ]
    },
    {
      "cell_type": "markdown",
      "metadata": {
        "id": "Mem8xi8TJwzB"
      },
      "source": [
        "**1.Creating Series**"
      ]
    },
    {
      "cell_type": "code",
      "metadata": {
        "id": "6FCE9OWKJtmV"
      },
      "source": [
        "import pandas as pd\n",
        "s=pd.Series([1,2,3,4,5],index=['A','B','C','D','E'])\n",
        "s"
      ],
      "execution_count": null,
      "outputs": []
    },
    {
      "cell_type": "markdown",
      "metadata": {
        "id": "rnRalUpsKBfg"
      },
      "source": [
        "**Data Frames**"
      ]
    },
    {
      "cell_type": "code",
      "metadata": {
        "id": "OBgLMLUVJtum"
      },
      "source": [
        "import pandas as pd\n",
        "data={'Gen':['F','M','M'],'EiD':['E01','E02','E03'],'Age':[25,45,38]}\n",
        "\n",
        "df=pd.DataFrame(data,columns=['EiD','Age','Gen'])\n",
        "print(df)"
      ],
      "execution_count": null,
      "outputs": []
    },
    {
      "cell_type": "code",
      "metadata": {
        "id": "gAt2bctaJtyV"
      },
      "source": [
        "import pandas as pd\n",
        "from numpy import loadtxt\n",
        "from urllib.request import urlopen\n",
        "\n",
        "url='https://raw.githubusercontent.com/jbrownlee/datasets/master/pima-indians-diabetes.data.csv'\n",
        "\n",
        "raw_data=pd.read_csv(urlopen(url))\n",
        "raw_data.shape\n"
      ],
      "execution_count": null,
      "outputs": []
    },
    {
      "cell_type": "code",
      "metadata": {
        "colab": {
          "base_uri": "https://localhost:8080/",
          "height": 204
        },
        "id": "RxtQJW3UizNF",
        "outputId": "566a0925-16ba-468b-e9ff-b4b52632f8c2"
      },
      "source": [
        "raw_data.tail()"
      ],
      "execution_count": null,
      "outputs": [
        {
          "data": {
            "text/html": [
              "<div>\n",
              "<style scoped>\n",
              "    .dataframe tbody tr th:only-of-type {\n",
              "        vertical-align: middle;\n",
              "    }\n",
              "\n",
              "    .dataframe tbody tr th {\n",
              "        vertical-align: top;\n",
              "    }\n",
              "\n",
              "    .dataframe thead th {\n",
              "        text-align: right;\n",
              "    }\n",
              "</style>\n",
              "<table border=\"1\" class=\"dataframe\">\n",
              "  <thead>\n",
              "    <tr style=\"text-align: right;\">\n",
              "      <th></th>\n",
              "      <th>6</th>\n",
              "      <th>148</th>\n",
              "      <th>72</th>\n",
              "      <th>35</th>\n",
              "      <th>0</th>\n",
              "      <th>33.6</th>\n",
              "      <th>0.627</th>\n",
              "      <th>50</th>\n",
              "      <th>1</th>\n",
              "    </tr>\n",
              "  </thead>\n",
              "  <tbody>\n",
              "    <tr>\n",
              "      <th>762</th>\n",
              "      <td>10</td>\n",
              "      <td>101</td>\n",
              "      <td>76</td>\n",
              "      <td>48</td>\n",
              "      <td>180</td>\n",
              "      <td>32.9</td>\n",
              "      <td>0.171</td>\n",
              "      <td>63</td>\n",
              "      <td>0</td>\n",
              "    </tr>\n",
              "    <tr>\n",
              "      <th>763</th>\n",
              "      <td>2</td>\n",
              "      <td>122</td>\n",
              "      <td>70</td>\n",
              "      <td>27</td>\n",
              "      <td>0</td>\n",
              "      <td>36.8</td>\n",
              "      <td>0.340</td>\n",
              "      <td>27</td>\n",
              "      <td>0</td>\n",
              "    </tr>\n",
              "    <tr>\n",
              "      <th>764</th>\n",
              "      <td>5</td>\n",
              "      <td>121</td>\n",
              "      <td>72</td>\n",
              "      <td>23</td>\n",
              "      <td>112</td>\n",
              "      <td>26.2</td>\n",
              "      <td>0.245</td>\n",
              "      <td>30</td>\n",
              "      <td>0</td>\n",
              "    </tr>\n",
              "    <tr>\n",
              "      <th>765</th>\n",
              "      <td>1</td>\n",
              "      <td>126</td>\n",
              "      <td>60</td>\n",
              "      <td>0</td>\n",
              "      <td>0</td>\n",
              "      <td>30.1</td>\n",
              "      <td>0.349</td>\n",
              "      <td>47</td>\n",
              "      <td>1</td>\n",
              "    </tr>\n",
              "    <tr>\n",
              "      <th>766</th>\n",
              "      <td>1</td>\n",
              "      <td>93</td>\n",
              "      <td>70</td>\n",
              "      <td>31</td>\n",
              "      <td>0</td>\n",
              "      <td>30.4</td>\n",
              "      <td>0.315</td>\n",
              "      <td>23</td>\n",
              "      <td>0</td>\n",
              "    </tr>\n",
              "  </tbody>\n",
              "</table>\n",
              "</div>"
            ],
            "text/plain": [
              "      6  148  72  35    0  33.6  0.627  50  1\n",
              "762  10  101  76  48  180  32.9  0.171  63  0\n",
              "763   2  122  70  27    0  36.8  0.340  27  0\n",
              "764   5  121  72  23  112  26.2  0.245  30  0\n",
              "765   1  126  60   0    0  30.1  0.349  47  1\n",
              "766   1   93  70  31    0  30.4  0.315  23  0"
            ]
          },
          "execution_count": 46,
          "metadata": {
            "tags": []
          },
          "output_type": "execute_result"
        }
      ]
    },
    {
      "cell_type": "code",
      "metadata": {
        "colab": {
          "base_uri": "https://localhost:8080/",
          "height": 824
        },
        "id": "xx3Q3P2HjCE2",
        "outputId": "43f1b9b9-a8b7-4d81-dec4-a46aa03784b2"
      },
      "source": [
        "raw_data.head(25)"
      ],
      "execution_count": null,
      "outputs": [
        {
          "output_type": "execute_result",
          "data": {
            "text/html": [
              "<div>\n",
              "<style scoped>\n",
              "    .dataframe tbody tr th:only-of-type {\n",
              "        vertical-align: middle;\n",
              "    }\n",
              "\n",
              "    .dataframe tbody tr th {\n",
              "        vertical-align: top;\n",
              "    }\n",
              "\n",
              "    .dataframe thead th {\n",
              "        text-align: right;\n",
              "    }\n",
              "</style>\n",
              "<table border=\"1\" class=\"dataframe\">\n",
              "  <thead>\n",
              "    <tr style=\"text-align: right;\">\n",
              "      <th></th>\n",
              "      <th>6</th>\n",
              "      <th>148</th>\n",
              "      <th>72</th>\n",
              "      <th>35</th>\n",
              "      <th>0</th>\n",
              "      <th>33.6</th>\n",
              "      <th>0.627</th>\n",
              "      <th>50</th>\n",
              "      <th>1</th>\n",
              "    </tr>\n",
              "  </thead>\n",
              "  <tbody>\n",
              "    <tr>\n",
              "      <th>0</th>\n",
              "      <td>1</td>\n",
              "      <td>85</td>\n",
              "      <td>66</td>\n",
              "      <td>29</td>\n",
              "      <td>0</td>\n",
              "      <td>26.6</td>\n",
              "      <td>0.351</td>\n",
              "      <td>31</td>\n",
              "      <td>0</td>\n",
              "    </tr>\n",
              "    <tr>\n",
              "      <th>1</th>\n",
              "      <td>8</td>\n",
              "      <td>183</td>\n",
              "      <td>64</td>\n",
              "      <td>0</td>\n",
              "      <td>0</td>\n",
              "      <td>23.3</td>\n",
              "      <td>0.672</td>\n",
              "      <td>32</td>\n",
              "      <td>1</td>\n",
              "    </tr>\n",
              "    <tr>\n",
              "      <th>2</th>\n",
              "      <td>1</td>\n",
              "      <td>89</td>\n",
              "      <td>66</td>\n",
              "      <td>23</td>\n",
              "      <td>94</td>\n",
              "      <td>28.1</td>\n",
              "      <td>0.167</td>\n",
              "      <td>21</td>\n",
              "      <td>0</td>\n",
              "    </tr>\n",
              "    <tr>\n",
              "      <th>3</th>\n",
              "      <td>0</td>\n",
              "      <td>137</td>\n",
              "      <td>40</td>\n",
              "      <td>35</td>\n",
              "      <td>168</td>\n",
              "      <td>43.1</td>\n",
              "      <td>2.288</td>\n",
              "      <td>33</td>\n",
              "      <td>1</td>\n",
              "    </tr>\n",
              "    <tr>\n",
              "      <th>4</th>\n",
              "      <td>5</td>\n",
              "      <td>116</td>\n",
              "      <td>74</td>\n",
              "      <td>0</td>\n",
              "      <td>0</td>\n",
              "      <td>25.6</td>\n",
              "      <td>0.201</td>\n",
              "      <td>30</td>\n",
              "      <td>0</td>\n",
              "    </tr>\n",
              "    <tr>\n",
              "      <th>5</th>\n",
              "      <td>3</td>\n",
              "      <td>78</td>\n",
              "      <td>50</td>\n",
              "      <td>32</td>\n",
              "      <td>88</td>\n",
              "      <td>31.0</td>\n",
              "      <td>0.248</td>\n",
              "      <td>26</td>\n",
              "      <td>1</td>\n",
              "    </tr>\n",
              "    <tr>\n",
              "      <th>6</th>\n",
              "      <td>10</td>\n",
              "      <td>115</td>\n",
              "      <td>0</td>\n",
              "      <td>0</td>\n",
              "      <td>0</td>\n",
              "      <td>35.3</td>\n",
              "      <td>0.134</td>\n",
              "      <td>29</td>\n",
              "      <td>0</td>\n",
              "    </tr>\n",
              "    <tr>\n",
              "      <th>7</th>\n",
              "      <td>2</td>\n",
              "      <td>197</td>\n",
              "      <td>70</td>\n",
              "      <td>45</td>\n",
              "      <td>543</td>\n",
              "      <td>30.5</td>\n",
              "      <td>0.158</td>\n",
              "      <td>53</td>\n",
              "      <td>1</td>\n",
              "    </tr>\n",
              "    <tr>\n",
              "      <th>8</th>\n",
              "      <td>8</td>\n",
              "      <td>125</td>\n",
              "      <td>96</td>\n",
              "      <td>0</td>\n",
              "      <td>0</td>\n",
              "      <td>0.0</td>\n",
              "      <td>0.232</td>\n",
              "      <td>54</td>\n",
              "      <td>1</td>\n",
              "    </tr>\n",
              "    <tr>\n",
              "      <th>9</th>\n",
              "      <td>4</td>\n",
              "      <td>110</td>\n",
              "      <td>92</td>\n",
              "      <td>0</td>\n",
              "      <td>0</td>\n",
              "      <td>37.6</td>\n",
              "      <td>0.191</td>\n",
              "      <td>30</td>\n",
              "      <td>0</td>\n",
              "    </tr>\n",
              "    <tr>\n",
              "      <th>10</th>\n",
              "      <td>10</td>\n",
              "      <td>168</td>\n",
              "      <td>74</td>\n",
              "      <td>0</td>\n",
              "      <td>0</td>\n",
              "      <td>38.0</td>\n",
              "      <td>0.537</td>\n",
              "      <td>34</td>\n",
              "      <td>1</td>\n",
              "    </tr>\n",
              "    <tr>\n",
              "      <th>11</th>\n",
              "      <td>10</td>\n",
              "      <td>139</td>\n",
              "      <td>80</td>\n",
              "      <td>0</td>\n",
              "      <td>0</td>\n",
              "      <td>27.1</td>\n",
              "      <td>1.441</td>\n",
              "      <td>57</td>\n",
              "      <td>0</td>\n",
              "    </tr>\n",
              "    <tr>\n",
              "      <th>12</th>\n",
              "      <td>1</td>\n",
              "      <td>189</td>\n",
              "      <td>60</td>\n",
              "      <td>23</td>\n",
              "      <td>846</td>\n",
              "      <td>30.1</td>\n",
              "      <td>0.398</td>\n",
              "      <td>59</td>\n",
              "      <td>1</td>\n",
              "    </tr>\n",
              "    <tr>\n",
              "      <th>13</th>\n",
              "      <td>5</td>\n",
              "      <td>166</td>\n",
              "      <td>72</td>\n",
              "      <td>19</td>\n",
              "      <td>175</td>\n",
              "      <td>25.8</td>\n",
              "      <td>0.587</td>\n",
              "      <td>51</td>\n",
              "      <td>1</td>\n",
              "    </tr>\n",
              "    <tr>\n",
              "      <th>14</th>\n",
              "      <td>7</td>\n",
              "      <td>100</td>\n",
              "      <td>0</td>\n",
              "      <td>0</td>\n",
              "      <td>0</td>\n",
              "      <td>30.0</td>\n",
              "      <td>0.484</td>\n",
              "      <td>32</td>\n",
              "      <td>1</td>\n",
              "    </tr>\n",
              "    <tr>\n",
              "      <th>15</th>\n",
              "      <td>0</td>\n",
              "      <td>118</td>\n",
              "      <td>84</td>\n",
              "      <td>47</td>\n",
              "      <td>230</td>\n",
              "      <td>45.8</td>\n",
              "      <td>0.551</td>\n",
              "      <td>31</td>\n",
              "      <td>1</td>\n",
              "    </tr>\n",
              "    <tr>\n",
              "      <th>16</th>\n",
              "      <td>7</td>\n",
              "      <td>107</td>\n",
              "      <td>74</td>\n",
              "      <td>0</td>\n",
              "      <td>0</td>\n",
              "      <td>29.6</td>\n",
              "      <td>0.254</td>\n",
              "      <td>31</td>\n",
              "      <td>1</td>\n",
              "    </tr>\n",
              "    <tr>\n",
              "      <th>17</th>\n",
              "      <td>1</td>\n",
              "      <td>103</td>\n",
              "      <td>30</td>\n",
              "      <td>38</td>\n",
              "      <td>83</td>\n",
              "      <td>43.3</td>\n",
              "      <td>0.183</td>\n",
              "      <td>33</td>\n",
              "      <td>0</td>\n",
              "    </tr>\n",
              "    <tr>\n",
              "      <th>18</th>\n",
              "      <td>1</td>\n",
              "      <td>115</td>\n",
              "      <td>70</td>\n",
              "      <td>30</td>\n",
              "      <td>96</td>\n",
              "      <td>34.6</td>\n",
              "      <td>0.529</td>\n",
              "      <td>32</td>\n",
              "      <td>1</td>\n",
              "    </tr>\n",
              "    <tr>\n",
              "      <th>19</th>\n",
              "      <td>3</td>\n",
              "      <td>126</td>\n",
              "      <td>88</td>\n",
              "      <td>41</td>\n",
              "      <td>235</td>\n",
              "      <td>39.3</td>\n",
              "      <td>0.704</td>\n",
              "      <td>27</td>\n",
              "      <td>0</td>\n",
              "    </tr>\n",
              "    <tr>\n",
              "      <th>20</th>\n",
              "      <td>8</td>\n",
              "      <td>99</td>\n",
              "      <td>84</td>\n",
              "      <td>0</td>\n",
              "      <td>0</td>\n",
              "      <td>35.4</td>\n",
              "      <td>0.388</td>\n",
              "      <td>50</td>\n",
              "      <td>0</td>\n",
              "    </tr>\n",
              "    <tr>\n",
              "      <th>21</th>\n",
              "      <td>7</td>\n",
              "      <td>196</td>\n",
              "      <td>90</td>\n",
              "      <td>0</td>\n",
              "      <td>0</td>\n",
              "      <td>39.8</td>\n",
              "      <td>0.451</td>\n",
              "      <td>41</td>\n",
              "      <td>1</td>\n",
              "    </tr>\n",
              "    <tr>\n",
              "      <th>22</th>\n",
              "      <td>9</td>\n",
              "      <td>119</td>\n",
              "      <td>80</td>\n",
              "      <td>35</td>\n",
              "      <td>0</td>\n",
              "      <td>29.0</td>\n",
              "      <td>0.263</td>\n",
              "      <td>29</td>\n",
              "      <td>1</td>\n",
              "    </tr>\n",
              "    <tr>\n",
              "      <th>23</th>\n",
              "      <td>11</td>\n",
              "      <td>143</td>\n",
              "      <td>94</td>\n",
              "      <td>33</td>\n",
              "      <td>146</td>\n",
              "      <td>36.6</td>\n",
              "      <td>0.254</td>\n",
              "      <td>51</td>\n",
              "      <td>1</td>\n",
              "    </tr>\n",
              "    <tr>\n",
              "      <th>24</th>\n",
              "      <td>10</td>\n",
              "      <td>125</td>\n",
              "      <td>70</td>\n",
              "      <td>26</td>\n",
              "      <td>115</td>\n",
              "      <td>31.1</td>\n",
              "      <td>0.205</td>\n",
              "      <td>41</td>\n",
              "      <td>1</td>\n",
              "    </tr>\n",
              "  </tbody>\n",
              "</table>\n",
              "</div>"
            ],
            "text/plain": [
              "     6  148  72  35    0  33.6  0.627  50  1\n",
              "0    1   85  66  29    0  26.6  0.351  31  0\n",
              "1    8  183  64   0    0  23.3  0.672  32  1\n",
              "2    1   89  66  23   94  28.1  0.167  21  0\n",
              "3    0  137  40  35  168  43.1  2.288  33  1\n",
              "4    5  116  74   0    0  25.6  0.201  30  0\n",
              "5    3   78  50  32   88  31.0  0.248  26  1\n",
              "6   10  115   0   0    0  35.3  0.134  29  0\n",
              "7    2  197  70  45  543  30.5  0.158  53  1\n",
              "8    8  125  96   0    0   0.0  0.232  54  1\n",
              "9    4  110  92   0    0  37.6  0.191  30  0\n",
              "10  10  168  74   0    0  38.0  0.537  34  1\n",
              "11  10  139  80   0    0  27.1  1.441  57  0\n",
              "12   1  189  60  23  846  30.1  0.398  59  1\n",
              "13   5  166  72  19  175  25.8  0.587  51  1\n",
              "14   7  100   0   0    0  30.0  0.484  32  1\n",
              "15   0  118  84  47  230  45.8  0.551  31  1\n",
              "16   7  107  74   0    0  29.6  0.254  31  1\n",
              "17   1  103  30  38   83  43.3  0.183  33  0\n",
              "18   1  115  70  30   96  34.6  0.529  32  1\n",
              "19   3  126  88  41  235  39.3  0.704  27  0\n",
              "20   8   99  84   0    0  35.4  0.388  50  0\n",
              "21   7  196  90   0    0  39.8  0.451  41  1\n",
              "22   9  119  80  35    0  29.0  0.263  29  1\n",
              "23  11  143  94  33  146  36.6  0.254  51  1\n",
              "24  10  125  70  26  115  31.1  0.205  41  1"
            ]
          },
          "metadata": {},
          "execution_count": 97
        }
      ]
    },
    {
      "cell_type": "code",
      "metadata": {
        "colab": {
          "base_uri": "https://localhost:8080/",
          "height": 297
        },
        "id": "hx9feA7pjKkA",
        "outputId": "e610b1a3-f2d2-4b7e-c12b-ec0cd7c81bc2"
      },
      "source": [
        "raw_data.describe()"
      ],
      "execution_count": null,
      "outputs": [
        {
          "data": {
            "text/html": [
              "<div>\n",
              "<style scoped>\n",
              "    .dataframe tbody tr th:only-of-type {\n",
              "        vertical-align: middle;\n",
              "    }\n",
              "\n",
              "    .dataframe tbody tr th {\n",
              "        vertical-align: top;\n",
              "    }\n",
              "\n",
              "    .dataframe thead th {\n",
              "        text-align: right;\n",
              "    }\n",
              "</style>\n",
              "<table border=\"1\" class=\"dataframe\">\n",
              "  <thead>\n",
              "    <tr style=\"text-align: right;\">\n",
              "      <th></th>\n",
              "      <th>6</th>\n",
              "      <th>148</th>\n",
              "      <th>72</th>\n",
              "      <th>35</th>\n",
              "      <th>0</th>\n",
              "      <th>33.6</th>\n",
              "      <th>0.627</th>\n",
              "      <th>50</th>\n",
              "      <th>1</th>\n",
              "    </tr>\n",
              "  </thead>\n",
              "  <tbody>\n",
              "    <tr>\n",
              "      <th>count</th>\n",
              "      <td>767.000000</td>\n",
              "      <td>767.000000</td>\n",
              "      <td>767.000000</td>\n",
              "      <td>767.000000</td>\n",
              "      <td>767.000000</td>\n",
              "      <td>767.000000</td>\n",
              "      <td>767.000000</td>\n",
              "      <td>767.000000</td>\n",
              "      <td>767.000000</td>\n",
              "    </tr>\n",
              "    <tr>\n",
              "      <th>mean</th>\n",
              "      <td>3.842243</td>\n",
              "      <td>120.859192</td>\n",
              "      <td>69.101695</td>\n",
              "      <td>20.517601</td>\n",
              "      <td>79.903520</td>\n",
              "      <td>31.990482</td>\n",
              "      <td>0.471674</td>\n",
              "      <td>33.219035</td>\n",
              "      <td>0.348110</td>\n",
              "    </tr>\n",
              "    <tr>\n",
              "      <th>std</th>\n",
              "      <td>3.370877</td>\n",
              "      <td>31.978468</td>\n",
              "      <td>19.368155</td>\n",
              "      <td>15.954059</td>\n",
              "      <td>115.283105</td>\n",
              "      <td>7.889091</td>\n",
              "      <td>0.331497</td>\n",
              "      <td>11.752296</td>\n",
              "      <td>0.476682</td>\n",
              "    </tr>\n",
              "    <tr>\n",
              "      <th>min</th>\n",
              "      <td>0.000000</td>\n",
              "      <td>0.000000</td>\n",
              "      <td>0.000000</td>\n",
              "      <td>0.000000</td>\n",
              "      <td>0.000000</td>\n",
              "      <td>0.000000</td>\n",
              "      <td>0.078000</td>\n",
              "      <td>21.000000</td>\n",
              "      <td>0.000000</td>\n",
              "    </tr>\n",
              "    <tr>\n",
              "      <th>25%</th>\n",
              "      <td>1.000000</td>\n",
              "      <td>99.000000</td>\n",
              "      <td>62.000000</td>\n",
              "      <td>0.000000</td>\n",
              "      <td>0.000000</td>\n",
              "      <td>27.300000</td>\n",
              "      <td>0.243500</td>\n",
              "      <td>24.000000</td>\n",
              "      <td>0.000000</td>\n",
              "    </tr>\n",
              "    <tr>\n",
              "      <th>50%</th>\n",
              "      <td>3.000000</td>\n",
              "      <td>117.000000</td>\n",
              "      <td>72.000000</td>\n",
              "      <td>23.000000</td>\n",
              "      <td>32.000000</td>\n",
              "      <td>32.000000</td>\n",
              "      <td>0.371000</td>\n",
              "      <td>29.000000</td>\n",
              "      <td>0.000000</td>\n",
              "    </tr>\n",
              "    <tr>\n",
              "      <th>75%</th>\n",
              "      <td>6.000000</td>\n",
              "      <td>140.000000</td>\n",
              "      <td>80.000000</td>\n",
              "      <td>32.000000</td>\n",
              "      <td>127.500000</td>\n",
              "      <td>36.600000</td>\n",
              "      <td>0.625000</td>\n",
              "      <td>41.000000</td>\n",
              "      <td>1.000000</td>\n",
              "    </tr>\n",
              "    <tr>\n",
              "      <th>max</th>\n",
              "      <td>17.000000</td>\n",
              "      <td>199.000000</td>\n",
              "      <td>122.000000</td>\n",
              "      <td>99.000000</td>\n",
              "      <td>846.000000</td>\n",
              "      <td>67.100000</td>\n",
              "      <td>2.420000</td>\n",
              "      <td>81.000000</td>\n",
              "      <td>1.000000</td>\n",
              "    </tr>\n",
              "  </tbody>\n",
              "</table>\n",
              "</div>"
            ],
            "text/plain": [
              "                6         148          72  ...       0.627          50           1\n",
              "count  767.000000  767.000000  767.000000  ...  767.000000  767.000000  767.000000\n",
              "mean     3.842243  120.859192   69.101695  ...    0.471674   33.219035    0.348110\n",
              "std      3.370877   31.978468   19.368155  ...    0.331497   11.752296    0.476682\n",
              "min      0.000000    0.000000    0.000000  ...    0.078000   21.000000    0.000000\n",
              "25%      1.000000   99.000000   62.000000  ...    0.243500   24.000000    0.000000\n",
              "50%      3.000000  117.000000   72.000000  ...    0.371000   29.000000    0.000000\n",
              "75%      6.000000  140.000000   80.000000  ...    0.625000   41.000000    1.000000\n",
              "max     17.000000  199.000000  122.000000  ...    2.420000   81.000000    1.000000\n",
              "\n",
              "[8 rows x 9 columns]"
            ]
          },
          "execution_count": 49,
          "metadata": {
            "tags": []
          },
          "output_type": "execute_result"
        }
      ]
    },
    {
      "cell_type": "code",
      "metadata": {
        "colab": {
          "base_uri": "https://localhost:8080/",
          "height": 328
        },
        "id": "82yGPYy4jTtl",
        "outputId": "a6be89e0-9609-4049-ea0c-adeea1ea5d36"
      },
      "source": [
        "raw_data.cov()"
      ],
      "execution_count": null,
      "outputs": [
        {
          "data": {
            "text/html": [
              "<div>\n",
              "<style scoped>\n",
              "    .dataframe tbody tr th:only-of-type {\n",
              "        vertical-align: middle;\n",
              "    }\n",
              "\n",
              "    .dataframe tbody tr th {\n",
              "        vertical-align: top;\n",
              "    }\n",
              "\n",
              "    .dataframe thead th {\n",
              "        text-align: right;\n",
              "    }\n",
              "</style>\n",
              "<table border=\"1\" class=\"dataframe\">\n",
              "  <thead>\n",
              "    <tr style=\"text-align: right;\">\n",
              "      <th></th>\n",
              "      <th>6</th>\n",
              "      <th>148</th>\n",
              "      <th>72</th>\n",
              "      <th>35</th>\n",
              "      <th>0</th>\n",
              "      <th>33.6</th>\n",
              "      <th>0.627</th>\n",
              "      <th>50</th>\n",
              "      <th>1</th>\n",
              "    </tr>\n",
              "  </thead>\n",
              "  <tbody>\n",
              "    <tr>\n",
              "      <th>6</th>\n",
              "      <td>11.362809</td>\n",
              "      <td>13.888985</td>\n",
              "      <td>9.218414</td>\n",
              "      <td>-4.436515</td>\n",
              "      <td>-28.367721</td>\n",
              "      <td>0.465859</td>\n",
              "      <td>-0.037912</td>\n",
              "      <td>21.551571</td>\n",
              "      <td>0.355250</td>\n",
              "    </tr>\n",
              "    <tr>\n",
              "      <th>148</th>\n",
              "      <td>13.888985</td>\n",
              "      <td>1022.622445</td>\n",
              "      <td>94.451675</td>\n",
              "      <td>28.764884</td>\n",
              "      <td>1225.357154</td>\n",
              "      <td>55.742783</td>\n",
              "      <td>1.451278</td>\n",
              "      <td>98.618350</td>\n",
              "      <td>7.101300</td>\n",
              "    </tr>\n",
              "    <tr>\n",
              "      <th>72</th>\n",
              "      <td>9.218414</td>\n",
              "      <td>94.451675</td>\n",
              "      <td>375.125415</td>\n",
              "      <td>64.058260</td>\n",
              "      <td>198.939328</td>\n",
              "      <td>43.054755</td>\n",
              "      <td>0.264396</td>\n",
              "      <td>54.531221</td>\n",
              "      <td>0.599018</td>\n",
              "    </tr>\n",
              "    <tr>\n",
              "      <th>35</th>\n",
              "      <td>-4.436515</td>\n",
              "      <td>28.764884</td>\n",
              "      <td>64.058260</td>\n",
              "      <td>254.532001</td>\n",
              "      <td>805.536948</td>\n",
              "      <td>49.407935</td>\n",
              "      <td>0.970472</td>\n",
              "      <td>-21.725792</td>\n",
              "      <td>0.557181</td>\n",
              "    </tr>\n",
              "    <tr>\n",
              "      <th>0</th>\n",
              "      <td>-28.367721</td>\n",
              "      <td>1225.357154</td>\n",
              "      <td>198.939328</td>\n",
              "      <td>805.536948</td>\n",
              "      <td>13290.194335</td>\n",
              "      <td>180.177540</td>\n",
              "      <td>7.092087</td>\n",
              "      <td>-55.469702</td>\n",
              "      <td>7.252951</td>\n",
              "    </tr>\n",
              "    <tr>\n",
              "      <th>33.6</th>\n",
              "      <td>0.465859</td>\n",
              "      <td>55.742783</td>\n",
              "      <td>43.054755</td>\n",
              "      <td>49.407935</td>\n",
              "      <td>180.177540</td>\n",
              "      <td>62.237755</td>\n",
              "      <td>0.367558</td>\n",
              "      <td>3.329503</td>\n",
              "      <td>1.100707</td>\n",
              "    </tr>\n",
              "    <tr>\n",
              "      <th>0.627</th>\n",
              "      <td>-0.037912</td>\n",
              "      <td>1.451278</td>\n",
              "      <td>0.264396</td>\n",
              "      <td>0.970472</td>\n",
              "      <td>7.092087</td>\n",
              "      <td>0.367558</td>\n",
              "      <td>0.109890</td>\n",
              "      <td>0.127544</td>\n",
              "      <td>0.027376</td>\n",
              "    </tr>\n",
              "    <tr>\n",
              "      <th>50</th>\n",
              "      <td>21.551571</td>\n",
              "      <td>98.618350</td>\n",
              "      <td>54.531221</td>\n",
              "      <td>-21.725792</td>\n",
              "      <td>-55.469702</td>\n",
              "      <td>3.329503</td>\n",
              "      <td>0.127544</td>\n",
              "      <td>138.116452</td>\n",
              "      <td>1.324436</td>\n",
              "    </tr>\n",
              "    <tr>\n",
              "      <th>1</th>\n",
              "      <td>0.355250</td>\n",
              "      <td>7.101300</td>\n",
              "      <td>0.599018</td>\n",
              "      <td>0.557181</td>\n",
              "      <td>7.252951</td>\n",
              "      <td>1.100707</td>\n",
              "      <td>0.027376</td>\n",
              "      <td>1.324436</td>\n",
              "      <td>0.227226</td>\n",
              "    </tr>\n",
              "  </tbody>\n",
              "</table>\n",
              "</div>"
            ],
            "text/plain": [
              "               6          148          72  ...     0.627          50         1\n",
              "6      11.362809    13.888985    9.218414  ... -0.037912   21.551571  0.355250\n",
              "148    13.888985  1022.622445   94.451675  ...  1.451278   98.618350  7.101300\n",
              "72      9.218414    94.451675  375.125415  ...  0.264396   54.531221  0.599018\n",
              "35     -4.436515    28.764884   64.058260  ...  0.970472  -21.725792  0.557181\n",
              "0     -28.367721  1225.357154  198.939328  ...  7.092087  -55.469702  7.252951\n",
              "33.6    0.465859    55.742783   43.054755  ...  0.367558    3.329503  1.100707\n",
              "0.627  -0.037912     1.451278    0.264396  ...  0.109890    0.127544  0.027376\n",
              "50     21.551571    98.618350   54.531221  ...  0.127544  138.116452  1.324436\n",
              "1       0.355250     7.101300    0.599018  ...  0.027376    1.324436  0.227226\n",
              "\n",
              "[9 rows x 9 columns]"
            ]
          },
          "execution_count": 50,
          "metadata": {
            "tags": []
          },
          "output_type": "execute_result"
        }
      ]
    },
    {
      "cell_type": "code",
      "metadata": {
        "colab": {
          "base_uri": "https://localhost:8080/",
          "height": 328
        },
        "id": "bidjlSMyjSnS",
        "outputId": "6994090d-8eba-490d-8080-96a48fd4b3bb"
      },
      "source": [
        "raw_data.corr()"
      ],
      "execution_count": null,
      "outputs": [
        {
          "data": {
            "text/html": [
              "<div>\n",
              "<style scoped>\n",
              "    .dataframe tbody tr th:only-of-type {\n",
              "        vertical-align: middle;\n",
              "    }\n",
              "\n",
              "    .dataframe tbody tr th {\n",
              "        vertical-align: top;\n",
              "    }\n",
              "\n",
              "    .dataframe thead th {\n",
              "        text-align: right;\n",
              "    }\n",
              "</style>\n",
              "<table border=\"1\" class=\"dataframe\">\n",
              "  <thead>\n",
              "    <tr style=\"text-align: right;\">\n",
              "      <th></th>\n",
              "      <th>6</th>\n",
              "      <th>148</th>\n",
              "      <th>72</th>\n",
              "      <th>35</th>\n",
              "      <th>0</th>\n",
              "      <th>33.6</th>\n",
              "      <th>0.627</th>\n",
              "      <th>50</th>\n",
              "      <th>1</th>\n",
              "    </tr>\n",
              "  </thead>\n",
              "  <tbody>\n",
              "    <tr>\n",
              "      <th>6</th>\n",
              "      <td>1.000000</td>\n",
              "      <td>0.128846</td>\n",
              "      <td>0.141197</td>\n",
              "      <td>-0.082495</td>\n",
              "      <td>-0.072999</td>\n",
              "      <td>0.017518</td>\n",
              "      <td>-0.033927</td>\n",
              "      <td>0.544018</td>\n",
              "      <td>0.221087</td>\n",
              "    </tr>\n",
              "    <tr>\n",
              "      <th>148</th>\n",
              "      <td>0.128846</td>\n",
              "      <td>1.000000</td>\n",
              "      <td>0.152498</td>\n",
              "      <td>0.056381</td>\n",
              "      <td>0.332383</td>\n",
              "      <td>0.220955</td>\n",
              "      <td>0.136903</td>\n",
              "      <td>0.262408</td>\n",
              "      <td>0.465856</td>\n",
              "    </tr>\n",
              "    <tr>\n",
              "      <th>72</th>\n",
              "      <td>0.141197</td>\n",
              "      <td>0.152498</td>\n",
              "      <td>1.000000</td>\n",
              "      <td>0.207308</td>\n",
              "      <td>0.089098</td>\n",
              "      <td>0.281777</td>\n",
              "      <td>0.041180</td>\n",
              "      <td>0.239571</td>\n",
              "      <td>0.064882</td>\n",
              "    </tr>\n",
              "    <tr>\n",
              "      <th>35</th>\n",
              "      <td>-0.082495</td>\n",
              "      <td>0.056381</td>\n",
              "      <td>0.207308</td>\n",
              "      <td>1.000000</td>\n",
              "      <td>0.437974</td>\n",
              "      <td>0.392553</td>\n",
              "      <td>0.183498</td>\n",
              "      <td>-0.115873</td>\n",
              "      <td>0.073265</td>\n",
              "    </tr>\n",
              "    <tr>\n",
              "      <th>0</th>\n",
              "      <td>-0.072999</td>\n",
              "      <td>0.332383</td>\n",
              "      <td>0.089098</td>\n",
              "      <td>0.437974</td>\n",
              "      <td>1.000000</td>\n",
              "      <td>0.198111</td>\n",
              "      <td>0.185579</td>\n",
              "      <td>-0.040942</td>\n",
              "      <td>0.131984</td>\n",
              "    </tr>\n",
              "    <tr>\n",
              "      <th>33.6</th>\n",
              "      <td>0.017518</td>\n",
              "      <td>0.220955</td>\n",
              "      <td>0.281777</td>\n",
              "      <td>0.392553</td>\n",
              "      <td>0.198111</td>\n",
              "      <td>1.000000</td>\n",
              "      <td>0.140546</td>\n",
              "      <td>0.035911</td>\n",
              "      <td>0.292695</td>\n",
              "    </tr>\n",
              "    <tr>\n",
              "      <th>0.627</th>\n",
              "      <td>-0.033927</td>\n",
              "      <td>0.136903</td>\n",
              "      <td>0.041180</td>\n",
              "      <td>0.183498</td>\n",
              "      <td>0.185579</td>\n",
              "      <td>0.140546</td>\n",
              "      <td>1.000000</td>\n",
              "      <td>0.032738</td>\n",
              "      <td>0.173245</td>\n",
              "    </tr>\n",
              "    <tr>\n",
              "      <th>50</th>\n",
              "      <td>0.544018</td>\n",
              "      <td>0.262408</td>\n",
              "      <td>0.239571</td>\n",
              "      <td>-0.115873</td>\n",
              "      <td>-0.040942</td>\n",
              "      <td>0.035911</td>\n",
              "      <td>0.032738</td>\n",
              "      <td>1.000000</td>\n",
              "      <td>0.236417</td>\n",
              "    </tr>\n",
              "    <tr>\n",
              "      <th>1</th>\n",
              "      <td>0.221087</td>\n",
              "      <td>0.465856</td>\n",
              "      <td>0.064882</td>\n",
              "      <td>0.073265</td>\n",
              "      <td>0.131984</td>\n",
              "      <td>0.292695</td>\n",
              "      <td>0.173245</td>\n",
              "      <td>0.236417</td>\n",
              "      <td>1.000000</td>\n",
              "    </tr>\n",
              "  </tbody>\n",
              "</table>\n",
              "</div>"
            ],
            "text/plain": [
              "              6       148        72  ...     0.627        50         1\n",
              "6      1.000000  0.128846  0.141197  ... -0.033927  0.544018  0.221087\n",
              "148    0.128846  1.000000  0.152498  ...  0.136903  0.262408  0.465856\n",
              "72     0.141197  0.152498  1.000000  ...  0.041180  0.239571  0.064882\n",
              "35    -0.082495  0.056381  0.207308  ...  0.183498 -0.115873  0.073265\n",
              "0     -0.072999  0.332383  0.089098  ...  0.185579 -0.040942  0.131984\n",
              "33.6   0.017518  0.220955  0.281777  ...  0.140546  0.035911  0.292695\n",
              "0.627 -0.033927  0.136903  0.041180  ...  1.000000  0.032738  0.173245\n",
              "50     0.544018  0.262408  0.239571  ...  0.032738  1.000000  0.236417\n",
              "1      0.221087  0.465856  0.064882  ...  0.173245  0.236417  1.000000\n",
              "\n",
              "[9 rows x 9 columns]"
            ]
          },
          "execution_count": 51,
          "metadata": {
            "tags": []
          },
          "output_type": "execute_result"
        }
      ]
    },
    {
      "cell_type": "code",
      "metadata": {
        "colab": {
          "base_uri": "https://localhost:8080/"
        },
        "id": "o0N-9l9KjtT3",
        "outputId": "e6e369c2-6f67-498a-d3ce-c0d59d7ebc9e"
      },
      "source": [
        "from sklearn.datasets import load_iris\n",
        "import numpy as np\n",
        "iris=load_iris()\n",
        "iris"
      ],
      "execution_count": null,
      "outputs": [
        {
          "data": {
            "text/plain": [
              "{'DESCR': '.. _iris_dataset:\\n\\nIris plants dataset\\n--------------------\\n\\n**Data Set Characteristics:**\\n\\n    :Number of Instances: 150 (50 in each of three classes)\\n    :Number of Attributes: 4 numeric, predictive attributes and the class\\n    :Attribute Information:\\n        - sepal length in cm\\n        - sepal width in cm\\n        - petal length in cm\\n        - petal width in cm\\n        - class:\\n                - Iris-Setosa\\n                - Iris-Versicolour\\n                - Iris-Virginica\\n                \\n    :Summary Statistics:\\n\\n    ============== ==== ==== ======= ===== ====================\\n                    Min  Max   Mean    SD   Class Correlation\\n    ============== ==== ==== ======= ===== ====================\\n    sepal length:   4.3  7.9   5.84   0.83    0.7826\\n    sepal width:    2.0  4.4   3.05   0.43   -0.4194\\n    petal length:   1.0  6.9   3.76   1.76    0.9490  (high!)\\n    petal width:    0.1  2.5   1.20   0.76    0.9565  (high!)\\n    ============== ==== ==== ======= ===== ====================\\n\\n    :Missing Attribute Values: None\\n    :Class Distribution: 33.3% for each of 3 classes.\\n    :Creator: R.A. Fisher\\n    :Donor: Michael Marshall (MARSHALL%PLU@io.arc.nasa.gov)\\n    :Date: July, 1988\\n\\nThe famous Iris database, first used by Sir R.A. Fisher. The dataset is taken\\nfrom Fisher\\'s paper. Note that it\\'s the same as in R, but not as in the UCI\\nMachine Learning Repository, which has two wrong data points.\\n\\nThis is perhaps the best known database to be found in the\\npattern recognition literature.  Fisher\\'s paper is a classic in the field and\\nis referenced frequently to this day.  (See Duda & Hart, for example.)  The\\ndata set contains 3 classes of 50 instances each, where each class refers to a\\ntype of iris plant.  One class is linearly separable from the other 2; the\\nlatter are NOT linearly separable from each other.\\n\\n.. topic:: References\\n\\n   - Fisher, R.A. \"The use of multiple measurements in taxonomic problems\"\\n     Annual Eugenics, 7, Part II, 179-188 (1936); also in \"Contributions to\\n     Mathematical Statistics\" (John Wiley, NY, 1950).\\n   - Duda, R.O., & Hart, P.E. (1973) Pattern Classification and Scene Analysis.\\n     (Q327.D83) John Wiley & Sons.  ISBN 0-471-22361-1.  See page 218.\\n   - Dasarathy, B.V. (1980) \"Nosing Around the Neighborhood: A New System\\n     Structure and Classification Rule for Recognition in Partially Exposed\\n     Environments\".  IEEE Transactions on Pattern Analysis and Machine\\n     Intelligence, Vol. PAMI-2, No. 1, 67-71.\\n   - Gates, G.W. (1972) \"The Reduced Nearest Neighbor Rule\".  IEEE Transactions\\n     on Information Theory, May 1972, 431-433.\\n   - See also: 1988 MLC Proceedings, 54-64.  Cheeseman et al\"s AUTOCLASS II\\n     conceptual clustering system finds 3 classes in the data.\\n   - Many, many more ...',\n",
              " 'data': array([[5.1, 3.5, 1.4, 0.2],\n",
              "        [4.9, 3. , 1.4, 0.2],\n",
              "        [4.7, 3.2, 1.3, 0.2],\n",
              "        [4.6, 3.1, 1.5, 0.2],\n",
              "        [5. , 3.6, 1.4, 0.2],\n",
              "        [5.4, 3.9, 1.7, 0.4],\n",
              "        [4.6, 3.4, 1.4, 0.3],\n",
              "        [5. , 3.4, 1.5, 0.2],\n",
              "        [4.4, 2.9, 1.4, 0.2],\n",
              "        [4.9, 3.1, 1.5, 0.1],\n",
              "        [5.4, 3.7, 1.5, 0.2],\n",
              "        [4.8, 3.4, 1.6, 0.2],\n",
              "        [4.8, 3. , 1.4, 0.1],\n",
              "        [4.3, 3. , 1.1, 0.1],\n",
              "        [5.8, 4. , 1.2, 0.2],\n",
              "        [5.7, 4.4, 1.5, 0.4],\n",
              "        [5.4, 3.9, 1.3, 0.4],\n",
              "        [5.1, 3.5, 1.4, 0.3],\n",
              "        [5.7, 3.8, 1.7, 0.3],\n",
              "        [5.1, 3.8, 1.5, 0.3],\n",
              "        [5.4, 3.4, 1.7, 0.2],\n",
              "        [5.1, 3.7, 1.5, 0.4],\n",
              "        [4.6, 3.6, 1. , 0.2],\n",
              "        [5.1, 3.3, 1.7, 0.5],\n",
              "        [4.8, 3.4, 1.9, 0.2],\n",
              "        [5. , 3. , 1.6, 0.2],\n",
              "        [5. , 3.4, 1.6, 0.4],\n",
              "        [5.2, 3.5, 1.5, 0.2],\n",
              "        [5.2, 3.4, 1.4, 0.2],\n",
              "        [4.7, 3.2, 1.6, 0.2],\n",
              "        [4.8, 3.1, 1.6, 0.2],\n",
              "        [5.4, 3.4, 1.5, 0.4],\n",
              "        [5.2, 4.1, 1.5, 0.1],\n",
              "        [5.5, 4.2, 1.4, 0.2],\n",
              "        [4.9, 3.1, 1.5, 0.2],\n",
              "        [5. , 3.2, 1.2, 0.2],\n",
              "        [5.5, 3.5, 1.3, 0.2],\n",
              "        [4.9, 3.6, 1.4, 0.1],\n",
              "        [4.4, 3. , 1.3, 0.2],\n",
              "        [5.1, 3.4, 1.5, 0.2],\n",
              "        [5. , 3.5, 1.3, 0.3],\n",
              "        [4.5, 2.3, 1.3, 0.3],\n",
              "        [4.4, 3.2, 1.3, 0.2],\n",
              "        [5. , 3.5, 1.6, 0.6],\n",
              "        [5.1, 3.8, 1.9, 0.4],\n",
              "        [4.8, 3. , 1.4, 0.3],\n",
              "        [5.1, 3.8, 1.6, 0.2],\n",
              "        [4.6, 3.2, 1.4, 0.2],\n",
              "        [5.3, 3.7, 1.5, 0.2],\n",
              "        [5. , 3.3, 1.4, 0.2],\n",
              "        [7. , 3.2, 4.7, 1.4],\n",
              "        [6.4, 3.2, 4.5, 1.5],\n",
              "        [6.9, 3.1, 4.9, 1.5],\n",
              "        [5.5, 2.3, 4. , 1.3],\n",
              "        [6.5, 2.8, 4.6, 1.5],\n",
              "        [5.7, 2.8, 4.5, 1.3],\n",
              "        [6.3, 3.3, 4.7, 1.6],\n",
              "        [4.9, 2.4, 3.3, 1. ],\n",
              "        [6.6, 2.9, 4.6, 1.3],\n",
              "        [5.2, 2.7, 3.9, 1.4],\n",
              "        [5. , 2. , 3.5, 1. ],\n",
              "        [5.9, 3. , 4.2, 1.5],\n",
              "        [6. , 2.2, 4. , 1. ],\n",
              "        [6.1, 2.9, 4.7, 1.4],\n",
              "        [5.6, 2.9, 3.6, 1.3],\n",
              "        [6.7, 3.1, 4.4, 1.4],\n",
              "        [5.6, 3. , 4.5, 1.5],\n",
              "        [5.8, 2.7, 4.1, 1. ],\n",
              "        [6.2, 2.2, 4.5, 1.5],\n",
              "        [5.6, 2.5, 3.9, 1.1],\n",
              "        [5.9, 3.2, 4.8, 1.8],\n",
              "        [6.1, 2.8, 4. , 1.3],\n",
              "        [6.3, 2.5, 4.9, 1.5],\n",
              "        [6.1, 2.8, 4.7, 1.2],\n",
              "        [6.4, 2.9, 4.3, 1.3],\n",
              "        [6.6, 3. , 4.4, 1.4],\n",
              "        [6.8, 2.8, 4.8, 1.4],\n",
              "        [6.7, 3. , 5. , 1.7],\n",
              "        [6. , 2.9, 4.5, 1.5],\n",
              "        [5.7, 2.6, 3.5, 1. ],\n",
              "        [5.5, 2.4, 3.8, 1.1],\n",
              "        [5.5, 2.4, 3.7, 1. ],\n",
              "        [5.8, 2.7, 3.9, 1.2],\n",
              "        [6. , 2.7, 5.1, 1.6],\n",
              "        [5.4, 3. , 4.5, 1.5],\n",
              "        [6. , 3.4, 4.5, 1.6],\n",
              "        [6.7, 3.1, 4.7, 1.5],\n",
              "        [6.3, 2.3, 4.4, 1.3],\n",
              "        [5.6, 3. , 4.1, 1.3],\n",
              "        [5.5, 2.5, 4. , 1.3],\n",
              "        [5.5, 2.6, 4.4, 1.2],\n",
              "        [6.1, 3. , 4.6, 1.4],\n",
              "        [5.8, 2.6, 4. , 1.2],\n",
              "        [5. , 2.3, 3.3, 1. ],\n",
              "        [5.6, 2.7, 4.2, 1.3],\n",
              "        [5.7, 3. , 4.2, 1.2],\n",
              "        [5.7, 2.9, 4.2, 1.3],\n",
              "        [6.2, 2.9, 4.3, 1.3],\n",
              "        [5.1, 2.5, 3. , 1.1],\n",
              "        [5.7, 2.8, 4.1, 1.3],\n",
              "        [6.3, 3.3, 6. , 2.5],\n",
              "        [5.8, 2.7, 5.1, 1.9],\n",
              "        [7.1, 3. , 5.9, 2.1],\n",
              "        [6.3, 2.9, 5.6, 1.8],\n",
              "        [6.5, 3. , 5.8, 2.2],\n",
              "        [7.6, 3. , 6.6, 2.1],\n",
              "        [4.9, 2.5, 4.5, 1.7],\n",
              "        [7.3, 2.9, 6.3, 1.8],\n",
              "        [6.7, 2.5, 5.8, 1.8],\n",
              "        [7.2, 3.6, 6.1, 2.5],\n",
              "        [6.5, 3.2, 5.1, 2. ],\n",
              "        [6.4, 2.7, 5.3, 1.9],\n",
              "        [6.8, 3. , 5.5, 2.1],\n",
              "        [5.7, 2.5, 5. , 2. ],\n",
              "        [5.8, 2.8, 5.1, 2.4],\n",
              "        [6.4, 3.2, 5.3, 2.3],\n",
              "        [6.5, 3. , 5.5, 1.8],\n",
              "        [7.7, 3.8, 6.7, 2.2],\n",
              "        [7.7, 2.6, 6.9, 2.3],\n",
              "        [6. , 2.2, 5. , 1.5],\n",
              "        [6.9, 3.2, 5.7, 2.3],\n",
              "        [5.6, 2.8, 4.9, 2. ],\n",
              "        [7.7, 2.8, 6.7, 2. ],\n",
              "        [6.3, 2.7, 4.9, 1.8],\n",
              "        [6.7, 3.3, 5.7, 2.1],\n",
              "        [7.2, 3.2, 6. , 1.8],\n",
              "        [6.2, 2.8, 4.8, 1.8],\n",
              "        [6.1, 3. , 4.9, 1.8],\n",
              "        [6.4, 2.8, 5.6, 2.1],\n",
              "        [7.2, 3. , 5.8, 1.6],\n",
              "        [7.4, 2.8, 6.1, 1.9],\n",
              "        [7.9, 3.8, 6.4, 2. ],\n",
              "        [6.4, 2.8, 5.6, 2.2],\n",
              "        [6.3, 2.8, 5.1, 1.5],\n",
              "        [6.1, 2.6, 5.6, 1.4],\n",
              "        [7.7, 3. , 6.1, 2.3],\n",
              "        [6.3, 3.4, 5.6, 2.4],\n",
              "        [6.4, 3.1, 5.5, 1.8],\n",
              "        [6. , 3. , 4.8, 1.8],\n",
              "        [6.9, 3.1, 5.4, 2.1],\n",
              "        [6.7, 3.1, 5.6, 2.4],\n",
              "        [6.9, 3.1, 5.1, 2.3],\n",
              "        [5.8, 2.7, 5.1, 1.9],\n",
              "        [6.8, 3.2, 5.9, 2.3],\n",
              "        [6.7, 3.3, 5.7, 2.5],\n",
              "        [6.7, 3. , 5.2, 2.3],\n",
              "        [6.3, 2.5, 5. , 1.9],\n",
              "        [6.5, 3. , 5.2, 2. ],\n",
              "        [6.2, 3.4, 5.4, 2.3],\n",
              "        [5.9, 3. , 5.1, 1.8]]),\n",
              " 'feature_names': ['sepal length (cm)',\n",
              "  'sepal width (cm)',\n",
              "  'petal length (cm)',\n",
              "  'petal width (cm)'],\n",
              " 'filename': '/usr/local/lib/python3.7/dist-packages/sklearn/datasets/data/iris.csv',\n",
              " 'target': array([0, 0, 0, 0, 0, 0, 0, 0, 0, 0, 0, 0, 0, 0, 0, 0, 0, 0, 0, 0, 0, 0,\n",
              "        0, 0, 0, 0, 0, 0, 0, 0, 0, 0, 0, 0, 0, 0, 0, 0, 0, 0, 0, 0, 0, 0,\n",
              "        0, 0, 0, 0, 0, 0, 1, 1, 1, 1, 1, 1, 1, 1, 1, 1, 1, 1, 1, 1, 1, 1,\n",
              "        1, 1, 1, 1, 1, 1, 1, 1, 1, 1, 1, 1, 1, 1, 1, 1, 1, 1, 1, 1, 1, 1,\n",
              "        1, 1, 1, 1, 1, 1, 1, 1, 1, 1, 1, 1, 2, 2, 2, 2, 2, 2, 2, 2, 2, 2,\n",
              "        2, 2, 2, 2, 2, 2, 2, 2, 2, 2, 2, 2, 2, 2, 2, 2, 2, 2, 2, 2, 2, 2,\n",
              "        2, 2, 2, 2, 2, 2, 2, 2, 2, 2, 2, 2, 2, 2, 2, 2, 2, 2]),\n",
              " 'target_names': array(['setosa', 'versicolor', 'virginica'], dtype='<U10')}"
            ]
          },
          "execution_count": 56,
          "metadata": {
            "tags": []
          },
          "output_type": "execute_result"
        }
      ]
    },
    {
      "cell_type": "code",
      "metadata": {
        "colab": {
          "base_uri": "https://localhost:8080/",
          "height": 419
        },
        "id": "jFmVn_lgkWwU",
        "outputId": "f5f41f08-4265-41f7-9826-d5b02786bd88"
      },
      "source": [
        "X=pd.DataFrame(iris.data)\n",
        "X"
      ],
      "execution_count": null,
      "outputs": [
        {
          "data": {
            "text/html": [
              "<div>\n",
              "<style scoped>\n",
              "    .dataframe tbody tr th:only-of-type {\n",
              "        vertical-align: middle;\n",
              "    }\n",
              "\n",
              "    .dataframe tbody tr th {\n",
              "        vertical-align: top;\n",
              "    }\n",
              "\n",
              "    .dataframe thead th {\n",
              "        text-align: right;\n",
              "    }\n",
              "</style>\n",
              "<table border=\"1\" class=\"dataframe\">\n",
              "  <thead>\n",
              "    <tr style=\"text-align: right;\">\n",
              "      <th></th>\n",
              "      <th>0</th>\n",
              "      <th>1</th>\n",
              "      <th>2</th>\n",
              "      <th>3</th>\n",
              "    </tr>\n",
              "  </thead>\n",
              "  <tbody>\n",
              "    <tr>\n",
              "      <th>0</th>\n",
              "      <td>5.1</td>\n",
              "      <td>3.5</td>\n",
              "      <td>1.4</td>\n",
              "      <td>0.2</td>\n",
              "    </tr>\n",
              "    <tr>\n",
              "      <th>1</th>\n",
              "      <td>4.9</td>\n",
              "      <td>3.0</td>\n",
              "      <td>1.4</td>\n",
              "      <td>0.2</td>\n",
              "    </tr>\n",
              "    <tr>\n",
              "      <th>2</th>\n",
              "      <td>4.7</td>\n",
              "      <td>3.2</td>\n",
              "      <td>1.3</td>\n",
              "      <td>0.2</td>\n",
              "    </tr>\n",
              "    <tr>\n",
              "      <th>3</th>\n",
              "      <td>4.6</td>\n",
              "      <td>3.1</td>\n",
              "      <td>1.5</td>\n",
              "      <td>0.2</td>\n",
              "    </tr>\n",
              "    <tr>\n",
              "      <th>4</th>\n",
              "      <td>5.0</td>\n",
              "      <td>3.6</td>\n",
              "      <td>1.4</td>\n",
              "      <td>0.2</td>\n",
              "    </tr>\n",
              "    <tr>\n",
              "      <th>...</th>\n",
              "      <td>...</td>\n",
              "      <td>...</td>\n",
              "      <td>...</td>\n",
              "      <td>...</td>\n",
              "    </tr>\n",
              "    <tr>\n",
              "      <th>145</th>\n",
              "      <td>6.7</td>\n",
              "      <td>3.0</td>\n",
              "      <td>5.2</td>\n",
              "      <td>2.3</td>\n",
              "    </tr>\n",
              "    <tr>\n",
              "      <th>146</th>\n",
              "      <td>6.3</td>\n",
              "      <td>2.5</td>\n",
              "      <td>5.0</td>\n",
              "      <td>1.9</td>\n",
              "    </tr>\n",
              "    <tr>\n",
              "      <th>147</th>\n",
              "      <td>6.5</td>\n",
              "      <td>3.0</td>\n",
              "      <td>5.2</td>\n",
              "      <td>2.0</td>\n",
              "    </tr>\n",
              "    <tr>\n",
              "      <th>148</th>\n",
              "      <td>6.2</td>\n",
              "      <td>3.4</td>\n",
              "      <td>5.4</td>\n",
              "      <td>2.3</td>\n",
              "    </tr>\n",
              "    <tr>\n",
              "      <th>149</th>\n",
              "      <td>5.9</td>\n",
              "      <td>3.0</td>\n",
              "      <td>5.1</td>\n",
              "      <td>1.8</td>\n",
              "    </tr>\n",
              "  </tbody>\n",
              "</table>\n",
              "<p>150 rows × 4 columns</p>\n",
              "</div>"
            ],
            "text/plain": [
              "       0    1    2    3\n",
              "0    5.1  3.5  1.4  0.2\n",
              "1    4.9  3.0  1.4  0.2\n",
              "2    4.7  3.2  1.3  0.2\n",
              "3    4.6  3.1  1.5  0.2\n",
              "4    5.0  3.6  1.4  0.2\n",
              "..   ...  ...  ...  ...\n",
              "145  6.7  3.0  5.2  2.3\n",
              "146  6.3  2.5  5.0  1.9\n",
              "147  6.5  3.0  5.2  2.0\n",
              "148  6.2  3.4  5.4  2.3\n",
              "149  5.9  3.0  5.1  1.8\n",
              "\n",
              "[150 rows x 4 columns]"
            ]
          },
          "execution_count": 58,
          "metadata": {
            "tags": []
          },
          "output_type": "execute_result"
        }
      ]
    },
    {
      "cell_type": "code",
      "metadata": {
        "colab": {
          "base_uri": "https://localhost:8080/",
          "height": 204
        },
        "id": "uVz_GFq1kyxp",
        "outputId": "589afbdd-2f16-432c-80d9-ebb6af770f74"
      },
      "source": [
        "X.shape\n",
        "(150,4)\n",
        "X.columns=['Sepal_length','Sepal_width','petal_length','petal_width']\n",
        "X.head()"
      ],
      "execution_count": null,
      "outputs": [
        {
          "data": {
            "text/html": [
              "<div>\n",
              "<style scoped>\n",
              "    .dataframe tbody tr th:only-of-type {\n",
              "        vertical-align: middle;\n",
              "    }\n",
              "\n",
              "    .dataframe tbody tr th {\n",
              "        vertical-align: top;\n",
              "    }\n",
              "\n",
              "    .dataframe thead th {\n",
              "        text-align: right;\n",
              "    }\n",
              "</style>\n",
              "<table border=\"1\" class=\"dataframe\">\n",
              "  <thead>\n",
              "    <tr style=\"text-align: right;\">\n",
              "      <th></th>\n",
              "      <th>Sepal_length</th>\n",
              "      <th>Sepal_width</th>\n",
              "      <th>petal_length</th>\n",
              "      <th>petal_width</th>\n",
              "    </tr>\n",
              "  </thead>\n",
              "  <tbody>\n",
              "    <tr>\n",
              "      <th>0</th>\n",
              "      <td>5.1</td>\n",
              "      <td>3.5</td>\n",
              "      <td>1.4</td>\n",
              "      <td>0.2</td>\n",
              "    </tr>\n",
              "    <tr>\n",
              "      <th>1</th>\n",
              "      <td>4.9</td>\n",
              "      <td>3.0</td>\n",
              "      <td>1.4</td>\n",
              "      <td>0.2</td>\n",
              "    </tr>\n",
              "    <tr>\n",
              "      <th>2</th>\n",
              "      <td>4.7</td>\n",
              "      <td>3.2</td>\n",
              "      <td>1.3</td>\n",
              "      <td>0.2</td>\n",
              "    </tr>\n",
              "    <tr>\n",
              "      <th>3</th>\n",
              "      <td>4.6</td>\n",
              "      <td>3.1</td>\n",
              "      <td>1.5</td>\n",
              "      <td>0.2</td>\n",
              "    </tr>\n",
              "    <tr>\n",
              "      <th>4</th>\n",
              "      <td>5.0</td>\n",
              "      <td>3.6</td>\n",
              "      <td>1.4</td>\n",
              "      <td>0.2</td>\n",
              "    </tr>\n",
              "  </tbody>\n",
              "</table>\n",
              "</div>"
            ],
            "text/plain": [
              "   Sepal_length  Sepal_width  petal_length  petal_width\n",
              "0           5.1          3.5           1.4          0.2\n",
              "1           4.9          3.0           1.4          0.2\n",
              "2           4.7          3.2           1.3          0.2\n",
              "3           4.6          3.1           1.5          0.2\n",
              "4           5.0          3.6           1.4          0.2"
            ]
          },
          "execution_count": 59,
          "metadata": {
            "tags": []
          },
          "output_type": "execute_result"
        }
      ]
    },
    {
      "cell_type": "code",
      "metadata": {
        "colab": {
          "base_uri": "https://localhost:8080/",
          "height": 204
        },
        "id": "9iTcrtR6lc-J",
        "outputId": "53ea3b94-ac54-469e-ec23-5b4cb59113da"
      },
      "source": [
        "X.tail()"
      ],
      "execution_count": null,
      "outputs": [
        {
          "data": {
            "text/html": [
              "<div>\n",
              "<style scoped>\n",
              "    .dataframe tbody tr th:only-of-type {\n",
              "        vertical-align: middle;\n",
              "    }\n",
              "\n",
              "    .dataframe tbody tr th {\n",
              "        vertical-align: top;\n",
              "    }\n",
              "\n",
              "    .dataframe thead th {\n",
              "        text-align: right;\n",
              "    }\n",
              "</style>\n",
              "<table border=\"1\" class=\"dataframe\">\n",
              "  <thead>\n",
              "    <tr style=\"text-align: right;\">\n",
              "      <th></th>\n",
              "      <th>Sepal_length</th>\n",
              "      <th>Sepal_width</th>\n",
              "      <th>petal_length</th>\n",
              "      <th>petal_width</th>\n",
              "    </tr>\n",
              "  </thead>\n",
              "  <tbody>\n",
              "    <tr>\n",
              "      <th>145</th>\n",
              "      <td>6.7</td>\n",
              "      <td>3.0</td>\n",
              "      <td>5.2</td>\n",
              "      <td>2.3</td>\n",
              "    </tr>\n",
              "    <tr>\n",
              "      <th>146</th>\n",
              "      <td>6.3</td>\n",
              "      <td>2.5</td>\n",
              "      <td>5.0</td>\n",
              "      <td>1.9</td>\n",
              "    </tr>\n",
              "    <tr>\n",
              "      <th>147</th>\n",
              "      <td>6.5</td>\n",
              "      <td>3.0</td>\n",
              "      <td>5.2</td>\n",
              "      <td>2.0</td>\n",
              "    </tr>\n",
              "    <tr>\n",
              "      <th>148</th>\n",
              "      <td>6.2</td>\n",
              "      <td>3.4</td>\n",
              "      <td>5.4</td>\n",
              "      <td>2.3</td>\n",
              "    </tr>\n",
              "    <tr>\n",
              "      <th>149</th>\n",
              "      <td>5.9</td>\n",
              "      <td>3.0</td>\n",
              "      <td>5.1</td>\n",
              "      <td>1.8</td>\n",
              "    </tr>\n",
              "  </tbody>\n",
              "</table>\n",
              "</div>"
            ],
            "text/plain": [
              "     Sepal_length  Sepal_width  petal_length  petal_width\n",
              "145           6.7          3.0           5.2          2.3\n",
              "146           6.3          2.5           5.0          1.9\n",
              "147           6.5          3.0           5.2          2.0\n",
              "148           6.2          3.4           5.4          2.3\n",
              "149           5.9          3.0           5.1          1.8"
            ]
          },
          "execution_count": 62,
          "metadata": {
            "tags": []
          },
          "output_type": "execute_result"
        }
      ]
    },
    {
      "cell_type": "code",
      "metadata": {
        "colab": {
          "base_uri": "https://localhost:8080/",
          "height": 297
        },
        "id": "XSuAcp56lga0",
        "outputId": "d74f2cfc-dcdc-4276-87a8-341dde42a9a0"
      },
      "source": [
        "X.describe()"
      ],
      "execution_count": null,
      "outputs": [
        {
          "data": {
            "text/html": [
              "<div>\n",
              "<style scoped>\n",
              "    .dataframe tbody tr th:only-of-type {\n",
              "        vertical-align: middle;\n",
              "    }\n",
              "\n",
              "    .dataframe tbody tr th {\n",
              "        vertical-align: top;\n",
              "    }\n",
              "\n",
              "    .dataframe thead th {\n",
              "        text-align: right;\n",
              "    }\n",
              "</style>\n",
              "<table border=\"1\" class=\"dataframe\">\n",
              "  <thead>\n",
              "    <tr style=\"text-align: right;\">\n",
              "      <th></th>\n",
              "      <th>Sepal_length</th>\n",
              "      <th>Sepal_width</th>\n",
              "      <th>petal_length</th>\n",
              "      <th>petal_width</th>\n",
              "    </tr>\n",
              "  </thead>\n",
              "  <tbody>\n",
              "    <tr>\n",
              "      <th>count</th>\n",
              "      <td>150.000000</td>\n",
              "      <td>150.000000</td>\n",
              "      <td>150.000000</td>\n",
              "      <td>150.000000</td>\n",
              "    </tr>\n",
              "    <tr>\n",
              "      <th>mean</th>\n",
              "      <td>5.843333</td>\n",
              "      <td>3.057333</td>\n",
              "      <td>3.758000</td>\n",
              "      <td>1.199333</td>\n",
              "    </tr>\n",
              "    <tr>\n",
              "      <th>std</th>\n",
              "      <td>0.828066</td>\n",
              "      <td>0.435866</td>\n",
              "      <td>1.765298</td>\n",
              "      <td>0.762238</td>\n",
              "    </tr>\n",
              "    <tr>\n",
              "      <th>min</th>\n",
              "      <td>4.300000</td>\n",
              "      <td>2.000000</td>\n",
              "      <td>1.000000</td>\n",
              "      <td>0.100000</td>\n",
              "    </tr>\n",
              "    <tr>\n",
              "      <th>25%</th>\n",
              "      <td>5.100000</td>\n",
              "      <td>2.800000</td>\n",
              "      <td>1.600000</td>\n",
              "      <td>0.300000</td>\n",
              "    </tr>\n",
              "    <tr>\n",
              "      <th>50%</th>\n",
              "      <td>5.800000</td>\n",
              "      <td>3.000000</td>\n",
              "      <td>4.350000</td>\n",
              "      <td>1.300000</td>\n",
              "    </tr>\n",
              "    <tr>\n",
              "      <th>75%</th>\n",
              "      <td>6.400000</td>\n",
              "      <td>3.300000</td>\n",
              "      <td>5.100000</td>\n",
              "      <td>1.800000</td>\n",
              "    </tr>\n",
              "    <tr>\n",
              "      <th>max</th>\n",
              "      <td>7.900000</td>\n",
              "      <td>4.400000</td>\n",
              "      <td>6.900000</td>\n",
              "      <td>2.500000</td>\n",
              "    </tr>\n",
              "  </tbody>\n",
              "</table>\n",
              "</div>"
            ],
            "text/plain": [
              "       Sepal_length  Sepal_width  petal_length  petal_width\n",
              "count    150.000000   150.000000    150.000000   150.000000\n",
              "mean       5.843333     3.057333      3.758000     1.199333\n",
              "std        0.828066     0.435866      1.765298     0.762238\n",
              "min        4.300000     2.000000      1.000000     0.100000\n",
              "25%        5.100000     2.800000      1.600000     0.300000\n",
              "50%        5.800000     3.000000      4.350000     1.300000\n",
              "75%        6.400000     3.300000      5.100000     1.800000\n",
              "max        7.900000     4.400000      6.900000     2.500000"
            ]
          },
          "execution_count": 63,
          "metadata": {
            "tags": []
          },
          "output_type": "execute_result"
        }
      ]
    },
    {
      "cell_type": "code",
      "metadata": {
        "colab": {
          "base_uri": "https://localhost:8080/",
          "height": 173
        },
        "id": "vaiV5TKDltx8",
        "outputId": "6838a8de-1705-4502-e30d-564f8898c5b2"
      },
      "source": [
        "X.cov()"
      ],
      "execution_count": null,
      "outputs": [
        {
          "data": {
            "text/html": [
              "<div>\n",
              "<style scoped>\n",
              "    .dataframe tbody tr th:only-of-type {\n",
              "        vertical-align: middle;\n",
              "    }\n",
              "\n",
              "    .dataframe tbody tr th {\n",
              "        vertical-align: top;\n",
              "    }\n",
              "\n",
              "    .dataframe thead th {\n",
              "        text-align: right;\n",
              "    }\n",
              "</style>\n",
              "<table border=\"1\" class=\"dataframe\">\n",
              "  <thead>\n",
              "    <tr style=\"text-align: right;\">\n",
              "      <th></th>\n",
              "      <th>Sepal_length</th>\n",
              "      <th>Sepal_width</th>\n",
              "      <th>petal_length</th>\n",
              "      <th>petal_width</th>\n",
              "    </tr>\n",
              "  </thead>\n",
              "  <tbody>\n",
              "    <tr>\n",
              "      <th>Sepal_length</th>\n",
              "      <td>0.685694</td>\n",
              "      <td>-0.042434</td>\n",
              "      <td>1.274315</td>\n",
              "      <td>0.516271</td>\n",
              "    </tr>\n",
              "    <tr>\n",
              "      <th>Sepal_width</th>\n",
              "      <td>-0.042434</td>\n",
              "      <td>0.189979</td>\n",
              "      <td>-0.329656</td>\n",
              "      <td>-0.121639</td>\n",
              "    </tr>\n",
              "    <tr>\n",
              "      <th>petal_length</th>\n",
              "      <td>1.274315</td>\n",
              "      <td>-0.329656</td>\n",
              "      <td>3.116278</td>\n",
              "      <td>1.295609</td>\n",
              "    </tr>\n",
              "    <tr>\n",
              "      <th>petal_width</th>\n",
              "      <td>0.516271</td>\n",
              "      <td>-0.121639</td>\n",
              "      <td>1.295609</td>\n",
              "      <td>0.581006</td>\n",
              "    </tr>\n",
              "  </tbody>\n",
              "</table>\n",
              "</div>"
            ],
            "text/plain": [
              "              Sepal_length  Sepal_width  petal_length  petal_width\n",
              "Sepal_length      0.685694    -0.042434      1.274315     0.516271\n",
              "Sepal_width      -0.042434     0.189979     -0.329656    -0.121639\n",
              "petal_length      1.274315    -0.329656      3.116278     1.295609\n",
              "petal_width       0.516271    -0.121639      1.295609     0.581006"
            ]
          },
          "execution_count": 64,
          "metadata": {
            "tags": []
          },
          "output_type": "execute_result"
        }
      ]
    },
    {
      "cell_type": "code",
      "metadata": {
        "colab": {
          "base_uri": "https://localhost:8080/",
          "height": 173
        },
        "id": "OFavAnFWl2ex",
        "outputId": "b507a49c-5d85-4bd7-99f5-34605ad1ce96"
      },
      "source": [
        "X.corr()"
      ],
      "execution_count": null,
      "outputs": [
        {
          "data": {
            "text/html": [
              "<div>\n",
              "<style scoped>\n",
              "    .dataframe tbody tr th:only-of-type {\n",
              "        vertical-align: middle;\n",
              "    }\n",
              "\n",
              "    .dataframe tbody tr th {\n",
              "        vertical-align: top;\n",
              "    }\n",
              "\n",
              "    .dataframe thead th {\n",
              "        text-align: right;\n",
              "    }\n",
              "</style>\n",
              "<table border=\"1\" class=\"dataframe\">\n",
              "  <thead>\n",
              "    <tr style=\"text-align: right;\">\n",
              "      <th></th>\n",
              "      <th>Sepal_length</th>\n",
              "      <th>Sepal_width</th>\n",
              "      <th>petal_length</th>\n",
              "      <th>petal_width</th>\n",
              "    </tr>\n",
              "  </thead>\n",
              "  <tbody>\n",
              "    <tr>\n",
              "      <th>Sepal_length</th>\n",
              "      <td>1.000000</td>\n",
              "      <td>-0.117570</td>\n",
              "      <td>0.871754</td>\n",
              "      <td>0.817941</td>\n",
              "    </tr>\n",
              "    <tr>\n",
              "      <th>Sepal_width</th>\n",
              "      <td>-0.117570</td>\n",
              "      <td>1.000000</td>\n",
              "      <td>-0.428440</td>\n",
              "      <td>-0.366126</td>\n",
              "    </tr>\n",
              "    <tr>\n",
              "      <th>petal_length</th>\n",
              "      <td>0.871754</td>\n",
              "      <td>-0.428440</td>\n",
              "      <td>1.000000</td>\n",
              "      <td>0.962865</td>\n",
              "    </tr>\n",
              "    <tr>\n",
              "      <th>petal_width</th>\n",
              "      <td>0.817941</td>\n",
              "      <td>-0.366126</td>\n",
              "      <td>0.962865</td>\n",
              "      <td>1.000000</td>\n",
              "    </tr>\n",
              "  </tbody>\n",
              "</table>\n",
              "</div>"
            ],
            "text/plain": [
              "              Sepal_length  Sepal_width  petal_length  petal_width\n",
              "Sepal_length      1.000000    -0.117570      0.871754     0.817941\n",
              "Sepal_width      -0.117570     1.000000     -0.428440    -0.366126\n",
              "petal_length      0.871754    -0.428440      1.000000     0.962865\n",
              "petal_width       0.817941    -0.366126      0.962865     1.000000"
            ]
          },
          "execution_count": 65,
          "metadata": {
            "tags": []
          },
          "output_type": "execute_result"
        }
      ]
    },
    {
      "cell_type": "code",
      "metadata": {
        "id": "NBOfcSsrmCRW"
      },
      "source": [
        "import numpy as np\n",
        "df=pd.DataFrame({'Name':['Pooji','Nani','Chinni','Chikki'],'state':['IND','USA','UK','USSR'],'Grade':['A','A','B','C'],'Age':np.random.uniform(24,35,size=4),'salary':np.random.uniform(3000,5000,size=4),})\n",
        "print(df)"
      ],
      "execution_count": null,
      "outputs": []
    },
    {
      "cell_type": "code",
      "metadata": {
        "id": "DA4t50OALR5X"
      },
      "source": [
        "import numpy as np\n",
        "import pandas as pd\n",
        "df=pd.DataFrame({'Name':['Pooji','Nani','Chinni','Chikki'],'state':['IND','USA','UK','USSR'],'Grade':['A','A','B','C'],'Age':np.random.uniform(24,35,size=4),'salary':np.random.uniform(3000,5000,size=4),})\n",
        "df.groupby(['Name','state']).max()"
      ],
      "execution_count": null,
      "outputs": []
    },
    {
      "cell_type": "markdown",
      "metadata": {
        "id": "qiZ1laGtM_IJ"
      },
      "source": [
        "# **Scipy**"
      ]
    },
    {
      "cell_type": "code",
      "metadata": {
        "id": "EPF3kTwkNFU0"
      },
      "source": [
        "import numpy as np\n",
        "np.linspace(1.,4.,6)"
      ],
      "execution_count": null,
      "outputs": []
    },
    {
      "cell_type": "code",
      "metadata": {
        "colab": {
          "base_uri": "https://localhost:8080/"
        },
        "id": "oSi5WqP-NnaS",
        "outputId": "782c3576-6eb5-43d1-ab69-1cfda25fa00a"
      },
      "source": [
        "from scipy.cluster.vq import kmeans,vq,whiten\n",
        "from numpy import vstack,array\n",
        "from numpy.random import rand\n",
        "\n",
        "data=vstack((rand(100,3)+array([.5,.5,.5]),rand(100,3)))\n",
        "data"
      ],
      "execution_count": null,
      "outputs": [
        {
          "data": {
            "text/plain": [
              "array([[0.90258909, 0.9233607 , 0.78273525],\n",
              "       [0.59467738, 1.02911659, 0.88358223],\n",
              "       [0.92905869, 0.80844347, 0.82420722],\n",
              "       [1.06828604, 0.81638002, 0.88543623],\n",
              "       [0.76992404, 1.26167714, 1.10877409],\n",
              "       [0.94258935, 1.0448952 , 1.06661058],\n",
              "       [0.58711959, 0.74227861, 0.79150924],\n",
              "       [1.19399041, 1.33268416, 0.61880348],\n",
              "       [1.44290692, 1.36136538, 0.78877052],\n",
              "       [1.03774349, 0.6544453 , 0.51597171],\n",
              "       [0.85270142, 1.09004265, 1.46484699],\n",
              "       [1.49274988, 1.22665456, 0.61984447],\n",
              "       [1.40821041, 1.41990694, 1.30399566],\n",
              "       [1.15292093, 1.47797535, 1.49433546],\n",
              "       [1.23392988, 1.28656044, 1.19497233],\n",
              "       [1.30474702, 1.17295312, 0.99283884],\n",
              "       [1.11447917, 1.05786207, 1.20734399],\n",
              "       [0.57127275, 1.00986092, 0.7823292 ],\n",
              "       [0.65881379, 0.5586953 , 1.19068023],\n",
              "       [0.63549054, 1.43347337, 1.20934843],\n",
              "       [1.29225155, 1.18181672, 1.02012635],\n",
              "       [1.29555226, 0.97626639, 1.485882  ],\n",
              "       [0.64667569, 0.69919071, 1.1864496 ],\n",
              "       [0.93023392, 0.91972667, 1.2469598 ],\n",
              "       [0.82753469, 0.96163331, 1.01320967],\n",
              "       [1.49970107, 0.50047758, 1.2111403 ],\n",
              "       [1.01357654, 0.87647747, 1.24656772],\n",
              "       [1.45615945, 1.42696013, 0.62253123],\n",
              "       [1.06189792, 1.49445231, 0.63966425],\n",
              "       [0.84649455, 1.35510061, 1.48476767],\n",
              "       [0.97081189, 1.29297546, 1.26874188],\n",
              "       [1.20442852, 0.91949897, 0.88777343],\n",
              "       [0.95969091, 0.73892865, 0.5579961 ],\n",
              "       [0.74723184, 0.59132549, 0.66483177],\n",
              "       [0.5757808 , 0.77717716, 1.23873048],\n",
              "       [1.21637942, 1.30881095, 1.14530707],\n",
              "       [0.66188824, 1.04102459, 0.62415182],\n",
              "       [1.48653083, 0.93795358, 1.32296478],\n",
              "       [0.76699392, 1.14114594, 0.70449482],\n",
              "       [0.9997548 , 0.87533817, 0.8307093 ],\n",
              "       [1.25160065, 0.83891044, 0.55252769],\n",
              "       [0.53980197, 0.53559352, 0.70849509],\n",
              "       [0.84755593, 1.30884233, 1.11748818],\n",
              "       [0.61598479, 0.92493323, 0.62984949],\n",
              "       [0.58814621, 1.43817664, 1.00232063],\n",
              "       [1.02392348, 0.98574837, 0.83436041],\n",
              "       [1.16143734, 0.63678783, 0.60890533],\n",
              "       [1.45800622, 1.31447604, 1.20930403],\n",
              "       [1.14004837, 0.94355688, 0.59025659],\n",
              "       [0.98340077, 1.04390078, 0.6218841 ],\n",
              "       [1.07777382, 1.41688591, 0.86597751],\n",
              "       [1.17337323, 0.68930459, 0.54606734],\n",
              "       [0.78309997, 0.70960006, 0.8653093 ],\n",
              "       [0.8879114 , 0.83011562, 1.24778146],\n",
              "       [0.85948029, 1.14241534, 0.91087691],\n",
              "       [1.13946389, 1.28495366, 1.23643912],\n",
              "       [1.26684229, 0.52693652, 1.4311785 ],\n",
              "       [1.15827702, 1.1111431 , 0.63416144],\n",
              "       [0.63860458, 0.71161294, 0.94442562],\n",
              "       [1.3704276 , 0.6077474 , 1.48138821],\n",
              "       [1.31118051, 0.73155254, 1.08782751],\n",
              "       [1.35369434, 1.03676756, 0.79614547],\n",
              "       [1.12198808, 1.33732509, 0.56966067],\n",
              "       [0.79772746, 1.12688069, 0.89007352],\n",
              "       [0.78648163, 1.41425307, 0.643627  ],\n",
              "       [1.20247435, 0.943935  , 1.44587146],\n",
              "       [1.49475678, 1.11072187, 0.84366801],\n",
              "       [1.33786392, 1.15084967, 1.17705816],\n",
              "       [0.96066687, 1.02767765, 1.15849066],\n",
              "       [1.04411198, 1.30970335, 1.22226255],\n",
              "       [0.99443016, 1.25931139, 0.91505708],\n",
              "       [0.56525815, 0.70391531, 1.00848196],\n",
              "       [1.45605774, 1.1227499 , 1.37446768],\n",
              "       [0.80159537, 0.63754161, 0.67481869],\n",
              "       [0.61087394, 0.53003069, 1.37678619],\n",
              "       [1.40909012, 1.05431657, 1.28390123],\n",
              "       [0.58552604, 1.39334136, 1.46784215],\n",
              "       [0.76007947, 1.2707905 , 1.074213  ],\n",
              "       [0.92797269, 1.43958244, 1.09042497],\n",
              "       [1.17085634, 1.06658821, 0.61666982],\n",
              "       [0.59000669, 1.25982193, 1.13789125],\n",
              "       [0.51608316, 0.83012847, 0.6127904 ],\n",
              "       [1.09280455, 0.57073751, 1.00793109],\n",
              "       [1.01206111, 0.98203484, 1.41908013],\n",
              "       [0.69662439, 1.46320211, 1.40306785],\n",
              "       [1.38241966, 0.95340089, 1.30997257],\n",
              "       [0.58563662, 1.46466236, 0.64443376],\n",
              "       [1.26564012, 1.27183803, 1.00808757],\n",
              "       [0.52456795, 0.81942255, 0.92719367],\n",
              "       [1.45929586, 0.54529861, 1.3083621 ],\n",
              "       [1.14703986, 0.63288548, 0.71837376],\n",
              "       [1.22652008, 1.43131835, 1.06637656],\n",
              "       [1.02921344, 1.11243052, 0.96380805],\n",
              "       [1.19600774, 0.5794606 , 1.3099592 ],\n",
              "       [0.98781484, 1.35474065, 0.91241969],\n",
              "       [0.76589373, 1.38556909, 0.97070795],\n",
              "       [0.55335424, 1.35910935, 0.55335161],\n",
              "       [0.95339132, 0.86949925, 1.1040147 ],\n",
              "       [0.89552672, 1.25599239, 0.50617841],\n",
              "       [1.01715954, 0.78484229, 1.49962841],\n",
              "       [0.86068786, 0.2377167 , 0.55994464],\n",
              "       [0.06425653, 0.31401267, 0.56481495],\n",
              "       [0.44344503, 0.24421938, 0.95464525],\n",
              "       [0.76926639, 0.68381996, 0.79346376],\n",
              "       [0.20507122, 0.33741937, 0.57822631],\n",
              "       [0.60792543, 0.25656461, 0.56548285],\n",
              "       [0.65104721, 0.78693724, 0.99859954],\n",
              "       [0.48637761, 0.36263925, 0.32955697],\n",
              "       [0.18274878, 0.33986181, 0.93453412],\n",
              "       [0.69062953, 0.22703984, 0.12138509],\n",
              "       [0.98989726, 0.31459713, 0.44119669],\n",
              "       [0.99493139, 0.20696692, 0.82105021],\n",
              "       [0.34853092, 0.06487449, 0.13876648],\n",
              "       [0.14629113, 0.20368187, 0.45559415],\n",
              "       [0.03560951, 0.96194473, 0.34518881],\n",
              "       [0.51475709, 0.65558621, 0.84163954],\n",
              "       [0.3875166 , 0.43220638, 0.24173023],\n",
              "       [0.25426495, 0.78241574, 0.20626528],\n",
              "       [0.95264866, 0.61315148, 0.95103855],\n",
              "       [0.2089643 , 0.79410251, 0.47676074],\n",
              "       [0.20868813, 0.44000226, 0.97889266],\n",
              "       [0.49536616, 0.56102885, 0.39558642],\n",
              "       [0.43166391, 0.57588882, 0.72851545],\n",
              "       [0.17651042, 0.86067459, 0.10542357],\n",
              "       [0.97839261, 0.11630586, 0.63266626],\n",
              "       [0.62845393, 0.18853828, 0.98749735],\n",
              "       [0.6830068 , 0.81776014, 0.51055496],\n",
              "       [0.86857205, 0.91414478, 0.64007984],\n",
              "       [0.82793806, 0.28397981, 0.87170645],\n",
              "       [0.10625727, 0.37416101, 0.45947383],\n",
              "       [0.06643679, 0.03931063, 0.42594455],\n",
              "       [0.17673166, 0.60955098, 0.27720271],\n",
              "       [0.76957717, 0.51307752, 0.67392963],\n",
              "       [0.45799389, 0.21853419, 0.75159934],\n",
              "       [0.52191585, 0.19896865, 0.20509162],\n",
              "       [0.27753135, 0.66555785, 0.95391399],\n",
              "       [0.50338572, 0.7692001 , 0.86909786],\n",
              "       [0.50481974, 0.24270785, 0.33999964],\n",
              "       [0.61782399, 0.00722093, 0.33348401],\n",
              "       [0.51358345, 0.35162125, 0.05720717],\n",
              "       [0.11243845, 0.9208769 , 0.84219636],\n",
              "       [0.49353842, 0.92773451, 0.0248477 ],\n",
              "       [0.541471  , 0.88807862, 0.70531058],\n",
              "       [0.48404314, 0.61143539, 0.93761924],\n",
              "       [0.83285481, 0.35926784, 0.08085151],\n",
              "       [0.91214609, 0.19766873, 0.94034515],\n",
              "       [0.1095405 , 0.56773435, 0.92207371],\n",
              "       [0.84289792, 0.76474737, 0.02687762],\n",
              "       [0.06929542, 0.20781217, 0.62520332],\n",
              "       [0.27373311, 0.58429059, 0.15565067],\n",
              "       [0.72315133, 0.07740287, 0.27639545],\n",
              "       [0.15788027, 0.80707317, 0.17586679],\n",
              "       [0.50905494, 0.85452629, 0.66115532],\n",
              "       [0.85580153, 0.94340317, 0.87312632],\n",
              "       [0.84404727, 0.41752943, 0.19726673],\n",
              "       [0.70888777, 0.25867885, 0.75558078],\n",
              "       [0.10172045, 0.84613179, 0.53379901],\n",
              "       [0.38194503, 0.50272095, 0.36474123],\n",
              "       [0.6283201 , 0.72299801, 0.17464367],\n",
              "       [0.95201257, 0.43412266, 0.32635993],\n",
              "       [0.79999402, 0.81342886, 0.13523973],\n",
              "       [0.64290095, 0.53969302, 0.74064873],\n",
              "       [0.84310504, 0.20689202, 0.54067315],\n",
              "       [0.31952672, 0.15427658, 0.19926914],\n",
              "       [0.04634108, 0.87859572, 0.43707691],\n",
              "       [0.50975253, 0.88673843, 0.81826561],\n",
              "       [0.00459684, 0.97312351, 0.36139616],\n",
              "       [0.41016466, 0.5875825 , 0.17489793],\n",
              "       [0.92119344, 0.80525275, 0.44457664],\n",
              "       [0.52329283, 0.52775626, 0.83056725],\n",
              "       [0.50453726, 0.12742318, 0.78923957],\n",
              "       [0.9490697 , 0.82733941, 0.14286298],\n",
              "       [0.82188257, 0.56820204, 0.59863001],\n",
              "       [0.09143569, 0.19998288, 0.55243043],\n",
              "       [0.5608069 , 0.08672508, 0.88710229],\n",
              "       [0.94531392, 0.68075671, 0.67893748],\n",
              "       [0.74986331, 0.26630244, 0.40979525],\n",
              "       [0.71336116, 0.79332005, 0.33869005],\n",
              "       [0.08826836, 0.92720718, 0.30606272],\n",
              "       [0.35836264, 0.16014486, 0.63728494],\n",
              "       [0.55233199, 0.2888806 , 0.47563914],\n",
              "       [0.20594669, 0.01331137, 0.62108883],\n",
              "       [0.70349759, 0.38695172, 0.23616584],\n",
              "       [0.22119057, 0.95010456, 0.73933015],\n",
              "       [0.80910572, 0.95147379, 0.0911441 ],\n",
              "       [0.83574344, 0.23982359, 0.80928476],\n",
              "       [0.77407265, 0.67164427, 0.49485371],\n",
              "       [0.36959935, 0.07031639, 0.05503637],\n",
              "       [0.29428464, 0.38605459, 0.05019901],\n",
              "       [0.20317641, 0.47141657, 0.96686575],\n",
              "       [0.91721102, 0.10076366, 0.98461672],\n",
              "       [0.37077509, 0.98651745, 0.0479317 ],\n",
              "       [0.85010544, 0.30604377, 0.36614689],\n",
              "       [0.34711652, 0.50387814, 0.39320081],\n",
              "       [0.43139018, 0.1138588 , 0.40052432],\n",
              "       [0.81597971, 0.16072113, 0.40345119],\n",
              "       [0.70349083, 0.70535105, 0.80593901],\n",
              "       [0.09008462, 0.46805429, 0.14724626],\n",
              "       [0.26841057, 0.61245528, 0.59952754],\n",
              "       [0.58800927, 0.70321176, 0.18436141]])"
            ]
          },
          "execution_count": 10,
          "metadata": {
            "tags": []
          },
          "output_type": "execute_result"
        }
      ]
    },
    {
      "cell_type": "code",
      "metadata": {
        "colab": {
          "base_uri": "https://localhost:8080/"
        },
        "id": "LjUMqIBBPmU7",
        "outputId": "adbb633a-c669-4a43-f56c-546158c6bf81"
      },
      "source": [
        "data=whiten(data)\n",
        "data"
      ],
      "execution_count": null,
      "outputs": [
        {
          "data": {
            "text/plain": [
              "array([[2.41005477, 2.35350275, 2.07361492],\n",
              "       [1.58788209, 2.62305806, 2.3407778 ],\n",
              "       [2.48073275, 2.06059662, 2.18348208],\n",
              "       [2.85249166, 2.08082566, 2.3456894 ],\n",
              "       [2.05581824, 3.21581873, 2.93735398],\n",
              "       [2.51686174, 2.66327528, 2.82565481],\n",
              "       [1.56770161, 1.89195269, 2.0968589 ],\n",
              "       [3.18814209, 3.39680457, 1.6393284 ],\n",
              "       [3.85278831, 3.46990853, 2.08960349],\n",
              "       [2.77093826, 1.66807923, 1.36690744],\n",
              "       [2.27684685, 2.77834912, 3.88065898],\n",
              "       [3.98587685, 3.12655163, 1.64208619],\n",
              "       [3.76014317, 3.61912187, 3.45453314],\n",
              "       [3.07848012, 3.76712921, 3.95877954],\n",
              "       [3.29478676, 3.27924238, 3.16570954],\n",
              "       [3.48387965, 2.98967501, 2.63021939],\n",
              "       [2.97583459, 2.69632582, 3.19848443],\n",
              "       [1.52538804, 2.57397835, 2.07253921],\n",
              "       [1.7591364 , 1.4240274 , 3.15433895],\n",
              "       [1.69685964, 3.65370059, 3.20379458],\n",
              "       [3.4505148 , 3.01226693, 2.70250922],\n",
              "       [3.4593282 , 2.48835113, 3.93638472],\n",
              "       [1.72672576, 1.78212834, 3.14313121],\n",
              "       [2.48387081, 2.34424019, 3.30343427],\n",
              "       [2.20964773, 2.45105368, 2.68418561],\n",
              "       [4.00443763, 1.27563948, 3.20854158],\n",
              "       [2.70640872, 2.2340047 , 3.30239558],\n",
              "       [3.88817466, 3.63709936, 1.64920393],\n",
              "       [2.83543439, 3.80912642, 1.69459257],\n",
              "       [2.26027353, 3.45394063, 3.93343266],\n",
              "       [2.59222038, 3.29559328, 3.36113915],\n",
              "       [3.21601348, 2.3436598 , 2.35188108],\n",
              "       [2.56252561, 1.88341416, 1.47823807],\n",
              "       [1.99522648, 1.50719667, 1.76126611],\n",
              "       [1.53742525, 1.98090367, 3.28163322],\n",
              "       [3.24792426, 3.33595546, 3.03413679],\n",
              "       [1.76734565, 2.65340972, 1.65349718],\n",
              "       [3.969271  , 2.39069774, 3.50478595],\n",
              "       [2.04799434, 2.90860345, 1.86634109],\n",
              "       [2.6695025 , 2.23110081, 2.20070732],\n",
              "       [3.34197049, 2.13825218, 1.46375119],\n",
              "       [1.44135611, 1.36514455, 1.87693857],\n",
              "       [2.26310759, 3.33603546, 2.96043926],\n",
              "       [1.64477621, 2.3575109 , 1.66859139],\n",
              "       [1.57044285, 3.6656885 , 2.65533846],\n",
              "       [2.73403665, 2.51251922, 2.2103798 ],\n",
              "       [3.10122028, 1.6230731 , 1.61310632],\n",
              "       [3.89310582, 3.35039492, 3.20367694],\n",
              "       [3.04410837, 2.40497968, 1.56370224],\n",
              "       [2.62583465, 2.66074068, 1.64748957],\n",
              "       [2.87782553, 3.61142174, 2.29413954],\n",
              "       [3.13309098, 1.75693014, 1.4466365 ],\n",
              "       [2.09100003, 1.80866015, 2.29236931],\n",
              "       [2.37086304, 2.11583557, 3.305611  ],\n",
              "       [2.2949475 , 2.91183896, 2.4130866 ],\n",
              "       [3.04254773, 3.27514695, 3.27556299],\n",
              "       [3.38266806, 1.34307921, 3.79146473],\n",
              "       [3.09278173, 2.83213089, 1.68001457],\n",
              "       [1.70517462, 1.81379067, 2.50196355],\n",
              "       [3.65925715, 1.54905355, 3.92447982],\n",
              "       [3.50105809, 1.8646136 , 2.88186248],\n",
              "       [3.61457669, 2.64255919, 2.10914115],\n",
              "       [2.99588456, 3.40863357, 1.50913972],\n",
              "       [2.13005772, 2.87224354, 2.35797448],\n",
              "       [2.10002959, 3.60471102, 1.70509065],\n",
              "       [3.21079555, 2.40594345, 3.83038917],\n",
              "       [3.99123559, 2.83105723, 2.23503743],\n",
              "       [3.57230698, 2.93333674, 3.11825148],\n",
              "       [2.56513158, 2.61939044, 3.06906265],\n",
              "       [2.78794313, 3.33823006, 3.23800654],\n",
              "       [2.65528487, 3.20978879, 2.42416067],\n",
              "       [1.50932814, 1.79417061, 2.67166101],\n",
              "       [3.88790307, 2.86171482, 3.64122694],\n",
              "       [2.14038565, 1.62499437, 1.78772339],\n",
              "       [1.63112945, 1.35096577, 3.64736912],\n",
              "       [3.76249213, 2.68728891, 3.40129916],\n",
              "       [1.56344659, 3.55141035, 3.88859373],\n",
              "       [2.02953168, 3.23904728, 2.84579507],\n",
              "       [2.47783296, 3.66927165, 2.88874365],\n",
              "       [3.1263705 , 2.71856739, 1.63367594],\n",
              "       [1.57541062, 3.21109009, 3.01449088],\n",
              "       [1.37802317, 2.11586831, 1.62339862],\n",
              "       [2.91795994, 1.4547211 , 2.67020163],\n",
              "       [2.70236226, 2.50305402, 3.75941384],\n",
              "       [1.86009663, 3.72947451, 3.71699426],\n",
              "       [3.69127782, 2.43007053, 3.47036711],\n",
              "       [1.56374185, 3.73319646, 1.70722791],\n",
              "       [3.37945808, 3.24171724, 2.67061618],\n",
              "       [1.40067889, 2.0885806 , 2.45631283],\n",
              "       [3.89654935, 1.38988131, 3.46610066],\n",
              "       [3.06277676, 1.61312663, 1.90310907],\n",
              "       [3.27500144, 3.64820778, 2.82503482],\n",
              "       [2.74816168, 2.83541232, 2.5533113 ],\n",
              "       [3.19352869, 1.4769549 , 3.47033169],\n",
              "       [2.63762092, 3.45302314, 2.41717372],\n",
              "       [2.04505668, 3.53160003, 2.57159044],\n",
              "       [1.47754283, 3.46415826, 1.46593392],\n",
              "       [2.54570469, 2.21621831, 2.92474543],\n",
              "       [2.39119712, 3.20132917, 1.34096311],\n",
              "       [2.71597588, 2.00044087, 3.97280159],\n",
              "       [2.2981719 , 0.60590288, 1.48340012],\n",
              "       [0.17157502, 0.80036943, 1.49630249],\n",
              "       [1.18406796, 0.6224772 , 2.5290373 ],\n",
              "       [2.05406221, 1.74295068, 2.1020368 ],\n",
              "       [0.54757239, 0.86002947, 1.53183174],\n",
              "       [1.62325646, 0.65394326, 1.49807189],\n",
              "       [1.73839841, 2.00578058, 2.64548057],\n",
              "       [1.29870467, 0.92431102, 0.87305924],\n",
              "       [0.48796797, 0.86625486, 2.47575908],\n",
              "       [1.84408942, 0.57868923, 0.32157224],\n",
              "       [2.64318132, 0.80185913, 1.16881416],\n",
              "       [2.65662322, 0.52752649, 2.17511855],\n",
              "       [0.93063235, 0.16535497, 0.36761887],\n",
              "       [0.39062031, 0.51915339, 1.20695577],\n",
              "       [0.09508299, 2.45184745, 0.91447096],\n",
              "       [1.37448235, 1.67098726, 2.22966361],\n",
              "       [1.03473024, 1.10162682, 0.64038946],\n",
              "       [0.67892739, 1.99425598, 0.54643606],\n",
              "       [2.54372168, 1.56282772, 2.51948245],\n",
              "       [0.55796753, 2.02404375, 1.2630301 ],\n",
              "       [0.55723013, 1.12149729, 2.59327329],\n",
              "       [1.32270552, 1.42997525, 1.04798385],\n",
              "       [1.1526105 , 1.46785099, 1.92997634],\n",
              "       [0.47131057, 2.19372562, 0.27928713],\n",
              "       [2.61246209, 0.29644555, 1.67605354],\n",
              "       [1.67807079, 0.48055475, 2.61606877],\n",
              "       [1.82373553, 2.08434335, 1.35255742],\n",
              "       [2.31922392, 2.33001281, 1.69569354],\n",
              "       [2.21072479, 0.72382035, 2.30931658],\n",
              "       [0.2837236 , 0.9536782 , 1.21723378],\n",
              "       [0.17739667, 0.10019668, 1.12840833],\n",
              "       [0.47190132, 1.5536506 , 0.73436283],\n",
              "       [2.05489203, 1.30775478, 1.7853681 ],\n",
              "       [1.22291568, 0.55700966, 1.99112996],\n",
              "       [1.39359736, 0.50714013, 0.54332682],\n",
              "       [0.74105235, 1.6964034 , 2.52710005],\n",
              "       [1.34411901, 1.96057137, 2.30240595],\n",
              "       [1.34794808, 0.61862455, 0.90072386],\n",
              "       [1.64968718, 0.01840502, 0.88346273],\n",
              "       [1.37134855, 0.89622786, 0.15155269],\n",
              "       [0.30022833, 2.34717193, 2.23113873],\n",
              "       [1.31782516, 2.36465092, 0.06582629],\n",
              "       [1.4458127 , 2.26357422, 1.8685022 ],\n",
              "       [1.29247128, 1.55845368, 2.48393215],\n",
              "       [2.22385328, 0.91571783, 0.21419106],\n",
              "       [2.43557347, 0.50382685, 2.4911536 ],\n",
              "       [0.29249036, 1.44706652, 2.44274906],\n",
              "       [2.25066996, 1.94922206, 0.07120394],\n",
              "       [0.18502967, 0.5296809 , 1.65628279],\n",
              "       [0.73091043, 1.4892658 , 0.4123483 ],\n",
              "       [1.93092773, 0.19728786, 0.73222423],\n",
              "       [0.42156513, 2.05710395, 0.46590465],\n",
              "       [1.35925671, 2.17805456, 1.7515265 ],\n",
              "       [2.28512462, 2.40458789, 2.3130781 ],\n",
              "       [2.2537389 , 1.06421755, 0.52259718],\n",
              "       [1.89284178, 0.65933214, 2.00167754],\n",
              "       [0.2716096 , 2.15665829, 1.41413535],\n",
              "       [1.01985327, 1.2813575 , 0.96626906],\n",
              "       [1.67771345, 1.84280944, 0.46266439],\n",
              "       [2.54202323, 1.10651112, 0.86458969],\n",
              "       [2.13610981, 2.0733036 , 0.35827583],\n",
              "       [1.7166466 , 1.37559353, 1.9621197 ],\n",
              "       [2.25122301, 0.52733557, 1.43234626],\n",
              "       [0.85318658, 0.39322699, 0.52790194],\n",
              "       [0.12373798, 2.23940379, 1.15790008],\n",
              "       [1.36111939, 2.2601583 , 2.16774161],\n",
              "       [0.0122743 , 2.48034043, 0.95740733],\n",
              "       [1.09520412, 1.49765638, 0.46333796],\n",
              "       [2.4597313 , 2.05246396, 1.17776827],\n",
              "       [1.39727411, 1.3451686 , 2.200331  ],\n",
              "       [1.34719381, 0.32478185, 2.09084611],\n",
              "       [2.53416529, 2.10875943, 0.37847128],\n",
              "       [2.19455567, 1.44825859, 1.58588504],\n",
              "       [0.24414767, 0.50972526, 1.46349353],\n",
              "       [1.49744258, 0.22104873, 2.35010312],\n",
              "       [2.52413677, 1.73514295, 1.79863483],\n",
              "       [2.00225292, 0.67876348, 1.08562576],\n",
              "       [1.90478644, 2.02204938, 0.89725452],\n",
              "       [0.2356904 , 2.36330684, 0.8108185 ],\n",
              "       [0.95688459, 0.40818434, 1.68828931],\n",
              "       [1.47481325, 0.73631171, 1.26005877],\n",
              "       [0.54991003, 0.0339286 , 1.64538273],\n",
              "       [1.87844916, 0.98627972, 0.62564833],\n",
              "       [0.5906136 , 2.42166869, 1.95862655],\n",
              "       [2.16043946, 2.42515866, 0.2414581 ],\n",
              "       [2.23156638, 0.61127302, 2.14394963],\n",
              "       [2.06689568, 1.71191673, 1.31096183],\n",
              "       [0.98688838, 0.17922553, 0.14580185],\n",
              "       [0.78578624, 0.98399309, 0.13298674],\n",
              "       [0.54251296, 1.2015675 , 2.56141172],\n",
              "       [2.44909761, 0.25683089, 2.60843743],\n",
              "       [0.99002777, 2.51447949, 0.12698021],\n",
              "       [2.26991516, 0.78005796, 0.96999292],\n",
              "       [0.92685567, 1.28430698, 1.04166392],\n",
              "       [1.15187959, 0.29020836, 1.0610653 ],\n",
              "       [2.1787941 , 0.40965315, 1.06881913],\n",
              "       [1.87843112, 1.79783009, 2.13508612],\n",
              "       [0.24054008, 1.19299756, 0.39008341],\n",
              "       [0.71669843, 1.56105322, 1.58826276],\n",
              "       [1.57007719, 1.79237737, 0.48840852]])"
            ]
          },
          "execution_count": 15,
          "metadata": {
            "tags": []
          },
          "output_type": "execute_result"
        }
      ]
    },
    {
      "cell_type": "code",
      "metadata": {
        "colab": {
          "base_uri": "https://localhost:8080/"
        },
        "id": "dogGHcnKQTci",
        "outputId": "ef123671-667f-4cdc-bbd5-5eee9164761a"
      },
      "source": [
        "centroids,_=kmeans(data,3)\n",
        "centroids"
      ],
      "execution_count": null,
      "outputs": [
        {
          "data": {
            "text/plain": [
              "array([[2.87117126, 2.87609742, 2.77016224],\n",
              "       [1.80705689, 1.52016619, 2.1138557 ],\n",
              "       [1.13101776, 1.2148155 , 0.80648608]])"
            ]
          },
          "execution_count": 16,
          "metadata": {
            "tags": []
          },
          "output_type": "execute_result"
        }
      ]
    },
    {
      "cell_type": "code",
      "metadata": {
        "colab": {
          "base_uri": "https://localhost:8080/"
        },
        "id": "xRMzGsloQ5aF",
        "outputId": "d4bc90ae-14e7-4009-fd06-9ffa4943e017"
      },
      "source": [
        "clx,_=vq(data,centroids)\n",
        "clx"
      ],
      "execution_count": null,
      "outputs": [
        {
          "data": {
            "text/plain": [
              "array([0, 1, 1, 0, 0, 0, 1, 0, 0, 1, 0, 0, 0, 0, 0, 0, 0, 1, 1, 0, 0, 0,\n",
              "       1, 0, 0, 0, 0, 0, 0, 0, 0, 0, 1, 1, 1, 0, 1, 0, 0, 0, 0, 1, 0, 1,\n",
              "       0, 0, 1, 0, 0, 0, 0, 1, 1, 0, 0, 0, 0, 0, 1, 0, 0, 0, 0, 0, 0, 0,\n",
              "       0, 0, 0, 0, 0, 1, 0, 1, 1, 0, 0, 0, 0, 0, 0, 1, 1, 0, 0, 0, 0, 0,\n",
              "       1, 0, 1, 0, 0, 0, 0, 0, 0, 0, 0, 0, 1, 2, 1, 1, 2, 2, 1, 2, 1, 2,\n",
              "       1, 1, 2, 2, 2, 1, 2, 2, 1, 2, 1, 2, 1, 2, 1, 1, 1, 1, 1, 2, 2, 2,\n",
              "       1, 1, 2, 1, 1, 2, 2, 2, 1, 2, 1, 1, 2, 1, 1, 2, 2, 2, 2, 2, 1, 0,\n",
              "       2, 1, 2, 2, 2, 2, 2, 1, 1, 2, 2, 1, 2, 2, 1, 1, 1, 2, 1, 2, 1, 1,\n",
              "       2, 2, 2, 2, 2, 2, 2, 1, 2, 1, 1, 2, 2, 1, 1, 2, 2, 2, 2, 2, 1, 2,\n",
              "       2, 2], dtype=int32)"
            ]
          },
          "execution_count": 17,
          "metadata": {
            "tags": []
          },
          "output_type": "execute_result"
        }
      ]
    },
    {
      "cell_type": "code",
      "metadata": {
        "colab": {
          "base_uri": "https://localhost:8080/"
        },
        "id": "Z54eVHS7SWKC",
        "outputId": "0f5035da-b58c-4b47-a469-8674af82a0fa"
      },
      "source": [
        "from scipy.fftpack import fft\n",
        "\n",
        "x=np.array([1.0,2.0,1.0,-1.0,1.5])\n",
        "\n",
        "y=fft(x)\n",
        "print(\"FFT :\\n\",y)"
      ],
      "execution_count": null,
      "outputs": [
        {
          "name": "stdout",
          "output_type": "stream",
          "text": [
            "FFT :\n",
            " [ 4.5       -0.j          2.08155948-1.65109876j -1.83155948+1.60822041j\n",
            " -1.83155948-1.60822041j  2.08155948+1.65109876j]\n"
          ]
        }
      ]
    },
    {
      "cell_type": "code",
      "metadata": {
        "colab": {
          "base_uri": "https://localhost:8080/"
        },
        "id": "lUXcTP94SnTt",
        "outputId": "e1da8ad4-e7fc-4552-e828-e26eecacbf33"
      },
      "source": [
        "from scipy.fftpack import ifft\n",
        "yinv=ifft(y)\n",
        "print(\"FFT Inverse:\\n\",yinv)"
      ],
      "execution_count": null,
      "outputs": [
        {
          "name": "stdout",
          "output_type": "stream",
          "text": [
            "FFT Inverse:\n",
            " [ 1. +0.j  2. +0.j  1. +0.j -1. +0.j  1.5+0.j]\n"
          ]
        }
      ]
    },
    {
      "cell_type": "code",
      "metadata": {
        "colab": {
          "base_uri": "https://localhost:8080/"
        },
        "id": "L_ofAokMTI8R",
        "outputId": "99db000e-cdbb-4548-d446-c2866cb9d30f"
      },
      "source": [
        "from scipy.fftpack import dct\n",
        "print(\"DCT:\\n\",dct(np.array([4.,3.,5.,10.,5.,3.])))"
      ],
      "execution_count": null,
      "outputs": [
        {
          "name": "stdout",
          "output_type": "stream",
          "text": [
            "DCT:\n",
            " [ 60.          -3.48476592 -13.85640646  11.3137085    6.\n",
            "  -6.31319305]\n"
          ]
        }
      ]
    },
    {
      "cell_type": "code",
      "metadata": {
        "colab": {
          "base_uri": "https://localhost:8080/"
        },
        "id": "sFowjNxgTqvP",
        "outputId": "a5bfdf56-8164-4599-cb25-052e79938a14"
      },
      "source": [
        "from scipy.fftpack import idct\n",
        "print(\"IDCT:\\n\",idct(np.array([4.,3.,5.,10.,5.,3.])))"
      ],
      "execution_count": null,
      "outputs": [
        {
          "name": "stdout",
          "output_type": "stream",
          "text": [
            "IDCT:\n",
            " [ 39.15085889 -20.14213562  -6.45392043   7.13341236   8.14213562\n",
            "  -3.83035081]\n"
          ]
        }
      ]
    },
    {
      "cell_type": "markdown",
      "metadata": {
        "id": "pETcsUseUro-"
      },
      "source": [
        "# **SciPy-Integrated**"
      ]
    },
    {
      "cell_type": "markdown",
      "metadata": {
        "id": "ZBZO050EUyeJ"
      },
      "source": [
        "The general form of quad is scipy.integrate.quad(f,a,b), Where 'f' is the name of the function to be integrated. Whereas, 'a' and 'b' are the lower and upper limits, respectively. Let us see an example of the Gaussian function, integrated over a range of 0 and 1                                "
      ]
    },
    {
      "cell_type": "markdown",
      "metadata": {
        "id": "F2BoomdJV4jy"
      },
      "source": [
        "  # **∫f(x)dx**"
      ]
    },
    {
      "cell_type": "code",
      "metadata": {
        "colab": {
          "base_uri": "https://localhost:8080/"
        },
        "id": "mI9twu8HVZkn",
        "outputId": "483ac4cf-3849-4800-cf98-a76cc3b6d669"
      },
      "source": [
        "import scipy.integrate\n",
        "from numpy import exp\n",
        "f=lambda x:exp(-x**2)\n",
        "i=scipy.integrate.quad(f,0,1)\n",
        "print(i)"
      ],
      "execution_count": null,
      "outputs": [
        {
          "name": "stdout",
          "output_type": "stream",
          "text": [
            "(0.7468241328124271, 8.291413475940725e-15)\n"
          ]
        }
      ]
    },
    {
      "cell_type": "markdown",
      "metadata": {
        "id": "50tbDAniXnNh"
      },
      "source": [
        "# **Linear Algebra**"
      ]
    },
    {
      "cell_type": "markdown",
      "metadata": {
        "id": "ROZZaVmgXuLr"
      },
      "source": [
        "**x+3y+5z=10**\n",
        "\n",
        "**2x+5y+z=8**\n",
        "\n",
        "**2x+3y+8z=3 ***"
      ]
    },
    {
      "cell_type": "code",
      "metadata": {
        "colab": {
          "base_uri": "https://localhost:8080/"
        },
        "id": "KmrcIGxFX54m",
        "outputId": "0db1afc1-1430-48f0-fb3b-b5b897d51e4d"
      },
      "source": [
        "from scipy import linalg\n",
        "import numpy as np\n",
        "\n",
        "a=np.array([[1,3,5],[2,5,1],[2,3,8]])\n",
        "b=np.array([10,8,3])\n",
        "\n",
        "X=linalg.solve(a,b)\n",
        "\n",
        "print(X)"
      ],
      "execution_count": null,
      "outputs": [
        {
          "name": "stdout",
          "output_type": "stream",
          "text": [
            "[-9.28  5.16  0.76]\n"
          ]
        }
      ]
    },
    {
      "cell_type": "markdown",
      "metadata": {
        "id": "t6YtPTHqZEh6"
      },
      "source": [
        "# **Finding an Determinant**"
      ]
    },
    {
      "cell_type": "code",
      "metadata": {
        "colab": {
          "base_uri": "https://localhost:8080/"
        },
        "id": "6u1LW8LIZsbS",
        "outputId": "9fe241bc-10bf-41c6-f7e5-53ee6b2d92a3"
      },
      "source": [
        "from scipy import linalg\n",
        "import numpy as np\n",
        "\n",
        "A=np.array([[1,2],[3,4]])\n",
        "\n",
        "x=linalg.det(A)\n",
        "\n",
        "print(x)"
      ],
      "execution_count": null,
      "outputs": [
        {
          "name": "stdout",
          "output_type": "stream",
          "text": [
            "-2.0\n"
          ]
        }
      ]
    },
    {
      "cell_type": "markdown",
      "metadata": {
        "id": "U3D62DUhZzpZ"
      },
      "source": [
        "# **Eigen values and Eigen Vectors**"
      ]
    },
    {
      "cell_type": "code",
      "metadata": {
        "colab": {
          "base_uri": "https://localhost:8080/"
        },
        "id": "EXWGR67taXv5",
        "outputId": "f21f7e7f-60f6-4e2a-b9af-3a1da8b3cfac"
      },
      "source": [
        "from scipy import linalg\n",
        "import numpy as np\n",
        " \n",
        "A=np.array([[1,2],[3,4]])\n",
        " \n",
        "l,v=linalg.eig(A)\n",
        " \n",
        "print(\"Eigen Values :\\n\",l)\n",
        " \n",
        "print(\"Eigen Vectors:\\n\",v)"
      ],
      "execution_count": null,
      "outputs": [
        {
          "output_type": "stream",
          "name": "stdout",
          "text": [
            "Eigen Values :\n",
            " [-0.37228132+0.j  5.37228132+0.j]\n",
            "Eigen Vectors:\n",
            " [[-0.82456484 -0.41597356]\n",
            " [ 0.56576746 -0.90937671]]\n"
          ]
        }
      ]
    },
    {
      "cell_type": "markdown",
      "metadata": {
        "id": "aCdxaRvka0R7"
      },
      "source": [
        "# **Matplot Library**"
      ]
    },
    {
      "cell_type": "code",
      "metadata": {
        "colab": {
          "base_uri": "https://localhost:8080/",
          "height": 265
        },
        "id": "wCle2YgubEiJ",
        "outputId": "6430130b-4d56-479a-e63b-3118098cf107"
      },
      "source": [
        "import matplotlib.pyplot as plt\n",
        "import numpy as np\n",
        "\n",
        "x=np.arange(5)\n",
        "y=(35,45,23,27,60)\n",
        "\n",
        "plt.bar(x,y)\n",
        "plt.show()"
      ],
      "execution_count": null,
      "outputs": [
        {
          "data": {
            "image/png": "[encoded data removed]",
            "text/plain": [
              "<Figure size 432x288 with 1 Axes>"
            ]
          },
          "metadata": {
            "tags": []
          },
          "output_type": "display_data"
        }
      ]
    },
    {
      "cell_type": "code",
      "metadata": {
        "colab": {
          "base_uri": "https://localhost:8080/",
          "height": 265
        },
        "id": "T2IBEY17bjUC",
        "outputId": "6c686d20-661f-4a9c-bd6e-541aced6bb44"
      },
      "source": [
        "plt.scatter(x,y)\n",
        "plt.show()"
      ],
      "execution_count": null,
      "outputs": [
        {
          "data": {
            "image/png": "[encoded data removed]",
            "text/plain": [
              "<Figure size 432x288 with 1 Axes>"
            ]
          },
          "metadata": {
            "tags": []
          },
          "output_type": "display_data"
        }
      ]
    },
    {
      "cell_type": "code",
      "metadata": {
        "colab": {
          "base_uri": "https://localhost:8080/",
          "height": 204
        },
        "id": "kaIBiuDfdBQn",
        "outputId": "464094f9-fb45-425e-8d57-f347e6553e3e"
      },
      "source": [
        "import pandas as pd\n",
        "from sklearn.datasets import load_iris\n",
        "iris=load_iris()\n",
        "df=pd.DataFrame(iris.data)\n",
        "\n",
        "df.columns=['sepal_Length','sepal_Width','petal_Length','petal_Width']\n",
        "df.head()"
      ],
      "execution_count": null,
      "outputs": [
        {
          "data": {
            "text/html": [
              "<div>\n",
              "<style scoped>\n",
              "    .dataframe tbody tr th:only-of-type {\n",
              "        vertical-align: middle;\n",
              "    }\n",
              "\n",
              "    .dataframe tbody tr th {\n",
              "        vertical-align: top;\n",
              "    }\n",
              "\n",
              "    .dataframe thead th {\n",
              "        text-align: right;\n",
              "    }\n",
              "</style>\n",
              "<table border=\"1\" class=\"dataframe\">\n",
              "  <thead>\n",
              "    <tr style=\"text-align: right;\">\n",
              "      <th></th>\n",
              "      <th>sepal_Length</th>\n",
              "      <th>sepal_Width</th>\n",
              "      <th>petal_Length</th>\n",
              "      <th>petal_Width</th>\n",
              "    </tr>\n",
              "  </thead>\n",
              "  <tbody>\n",
              "    <tr>\n",
              "      <th>0</th>\n",
              "      <td>5.1</td>\n",
              "      <td>3.5</td>\n",
              "      <td>1.4</td>\n",
              "      <td>0.2</td>\n",
              "    </tr>\n",
              "    <tr>\n",
              "      <th>1</th>\n",
              "      <td>4.9</td>\n",
              "      <td>3.0</td>\n",
              "      <td>1.4</td>\n",
              "      <td>0.2</td>\n",
              "    </tr>\n",
              "    <tr>\n",
              "      <th>2</th>\n",
              "      <td>4.7</td>\n",
              "      <td>3.2</td>\n",
              "      <td>1.3</td>\n",
              "      <td>0.2</td>\n",
              "    </tr>\n",
              "    <tr>\n",
              "      <th>3</th>\n",
              "      <td>4.6</td>\n",
              "      <td>3.1</td>\n",
              "      <td>1.5</td>\n",
              "      <td>0.2</td>\n",
              "    </tr>\n",
              "    <tr>\n",
              "      <th>4</th>\n",
              "      <td>5.0</td>\n",
              "      <td>3.6</td>\n",
              "      <td>1.4</td>\n",
              "      <td>0.2</td>\n",
              "    </tr>\n",
              "  </tbody>\n",
              "</table>\n",
              "</div>"
            ],
            "text/plain": [
              "   sepal_Length  sepal_Width  petal_Length  petal_Width\n",
              "0           5.1          3.5           1.4          0.2\n",
              "1           4.9          3.0           1.4          0.2\n",
              "2           4.7          3.2           1.3          0.2\n",
              "3           4.6          3.1           1.5          0.2\n",
              "4           5.0          3.6           1.4          0.2"
            ]
          },
          "execution_count": 32,
          "metadata": {
            "tags": []
          },
          "output_type": "execute_result"
        }
      ]
    },
    {
      "cell_type": "code",
      "metadata": {
        "colab": {
          "base_uri": "https://localhost:8080/",
          "height": 281
        },
        "id": "KNg6efEadJ0-",
        "outputId": "6e3181fb-bdeb-4d91-beab-34bffc3e9ecb"
      },
      "source": [
        "df.hist()\n",
        "plt.show()"
      ],
      "execution_count": null,
      "outputs": [
        {
          "data": {
            "image/png": "[encoded data removed]",
            "text/plain": [
              "<Figure size 432x288 with 4 Axes>"
            ]
          },
          "metadata": {
            "tags": []
          },
          "output_type": "display_data"
        }
      ]
    },
    {
      "cell_type": "code",
      "metadata": {
        "colab": {
          "base_uri": "https://localhost:8080/",
          "height": 265
        },
        "id": "m2CI6wFDdYlF",
        "outputId": "fb4721b2-6825-4acf-9c05-546b67539530"
      },
      "source": [
        "df.plot()\n",
        "plt.show()"
      ],
      "execution_count": null,
      "outputs": [
        {
          "data": {
            "image/png": "[encoded data removed]",
            "text/plain": [
              "<Figure size 432x288 with 1 Axes>"
            ]
          },
          "metadata": {
            "tags": []
          },
          "output_type": "display_data"
        }
      ]
    },
    {
      "cell_type": "code",
      "metadata": {
        "id": "WMflw8TnfgGM",
        "colab": {
          "base_uri": "https://localhost:8080/",
          "height": 265
        },
        "outputId": "d207180e-0829-4677-9968-efb8f82c3700"
      },
      "source": [
        "df.boxplot()\n",
        "plt.show()"
      ],
      "execution_count": null,
      "outputs": [
        {
          "output_type": "display_data",
          "data": {
            "image/png": "[encoded data removed]",
            "text/plain": [
              "<Figure size 432x288 with 1 Axes>"
            ]
          },
          "metadata": {
            "needs_background": "light"
          }
        }
      ]
    },
    {
      "cell_type": "code",
      "metadata": {
        "colab": {
          "base_uri": "https://localhost:8080/",
          "height": 306
        },
        "id": "vie11hUzm2Wb",
        "outputId": "667af2b1-2569-4911-8bbd-290f575c01c3"
      },
      "source": [
        "import numpy as np\n",
        "x=np.linspace(0,20,1000)\n",
        "y=np.sin(x)\n",
        " \n",
        "plt.plot(x,y,label='sample Label')\n",
        "plt.title('sample plot title')\n",
        "plt.xlabel('x axis label')\n",
        "plt.ylabel('y axis label')\n",
        "plt.grid(True)\n",
        " \n",
        "plt.figtext(0.5,0.01,'Fig1:Sinusodial', ha='right',va='bottom')\n",
        " \n",
        "plt.legend(loc='best',framealpha=0.5,prop={'size':'small'})\n",
        " \n",
        "plt.tight_layout(pad=1)\n",
        " \n",
        "plt.show()"
      ],
      "execution_count": null,
      "outputs": [
        {
          "output_type": "display_data",
          "data": {
            "image/png": "[encoded data removed]",
            "text/plain": [
              "<Figure size 432x288 with 1 Axes>"
            ]
          },
          "metadata": {
            "needs_background": "light"
          }
        }
      ]
    }
  ]
}